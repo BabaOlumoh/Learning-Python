{
 "cells": [
  {
   "cell_type": "code",
   "execution_count": 89,
   "id": "0e2c29ed-b88d-47e8-b0ad-7ee406188f76",
   "metadata": {},
   "outputs": [],
   "source": [
    "#Importing dependencies\n",
    "import datetime\n",
    "import os\n",
    "import send2trash\n",
    "import shutil"
   ]
  },
  {
   "cell_type": "code",
   "execution_count": 121,
   "id": "e6af2bb4-9dfc-4f36-9db4-04c3486f6d38",
   "metadata": {},
   "outputs": [],
   "source": [
    "#Getting time for file name\n",
    "date_init = datetime.datetime.now()\n",
    "get_date = getdate.strftime(\"%Y%m%d__%H%M\")"
   ]
  },
  {
   "cell_type": "code",
   "execution_count": 122,
   "id": "8c49fa9e-9c41-4661-835a-d143979233fd",
   "metadata": {},
   "outputs": [
    {
     "name": "stdout",
     "output_type": "stream",
     "text": [
      "20251002__2227\n"
     ]
    }
   ],
   "source": [
    "print(get_date)"
   ]
  },
  {
   "cell_type": "code",
   "execution_count": 125,
   "id": "0a547bfb-678a-4caf-b54b-c04b795dafdb",
   "metadata": {},
   "outputs": [
    {
     "name": "stdout",
     "output_type": "stream",
     "text": [
      "File already exist!\n",
      "File already exist!\n",
      "File already exist!\n",
      "File already exist!\n",
      "File already exist!\n",
      "File already exist!\n",
      "File created successfully\n",
      "File created successfully\n"
     ]
    }
   ],
   "source": [
    "#File creation and error handling for folders\n",
    "#PDF\n",
    "pdf = os.path.join(os.getcwd(), \"Downloads/PDFs\")\n",
    "try:\n",
    "    os.makedirs(pdf, exist_ok = False)\n",
    "    print(\"File created successfully\")\n",
    "except OSError as error:\n",
    "    print(\"File already exist!\")\n",
    "\n",
    "#Images\n",
    "images = os.path.join(os.getcwd(), \"Downloads/Images\")\n",
    "try:\n",
    "    os.makedirs(images, exist_ok = False)\n",
    "    print(\"File created successfully\")\n",
    "except OSError as error:\n",
    "    print(\"File already exist!\")\n",
    "    \n",
    "#Videos\n",
    "videos = os.path.join(os.getcwd(), \"Downloads/Videos\")\n",
    "try:\n",
    "    os.makedirs(videos, exist_ok = False)\n",
    "    print(\"File created successfully\")\n",
    "except OSError as error:\n",
    "    print(\"File already exist!\")\n",
    "\n",
    "#Documents\n",
    "documents = os.path.join(os.getcwd(), \"Downloads/Documents\")\n",
    "try:\n",
    "    os.makedirs(documents, exist_ok = False)\n",
    "    print(\"File created successfully\")\n",
    "except OSError as error:\n",
    "    print(\"File already exist!\")\n",
    "\n",
    "zips = os.path.join(os.getcwd(), \"Downloads/Zips\")\n",
    "try:\n",
    "    os.makedirs(zips, exist_ok = False)\n",
    "    print(\"File created successfully\")\n",
    "except OSError as error:\n",
    "    print(\"File already exist!\")\n",
    "\n",
    "#Others\n",
    "others = os.path.join(os.getcwd(), \"Downloads/Others\")\n",
    "try:\n",
    "    os.makedirs(others, exist_ok = False)\n",
    "    print(\"File created successfully\")\n",
    "except OSError as error:\n",
    "    print(\"File already exist!\")\n",
    "\n",
    "#Log Folder\n",
    "log = os.path.join(os.getcwd(), \"Log\")\n",
    "try:\n",
    "    os.makedirs(log, exist_ok = False)\n",
    "    print(\"File created successfully\")\n",
    "except OSError as error:\n",
    "    print(\"File already exist!\")\n",
    "\n",
    "#Backup Folder\n",
    "backup = os.path.join(os.getcwd(), \"Backup\")\n",
    "try:\n",
    "    os.makedirs(backup, exist_ok = False)\n",
    "    print(\"File created successfully\")\n",
    "except OSError as error:\n",
    "    print(\"File already exist!\")"
   ]
  },
  {
   "cell_type": "code",
   "execution_count": null,
   "id": "1c564ceb-34c4-4893-ae68-62b7f6232853",
   "metadata": {},
   "outputs": [],
   "source": [
    "os.path.join(os.getcwd(), \"\")\n",
    "with open(\"logfile\", \"w\") as f:\n",
    "    f.write()"
   ]
  },
  {
   "cell_type": "code",
   "execution_count": 124,
   "id": "ee400ebc-ce00-4538-a93b-eb70147f8e11",
   "metadata": {},
   "outputs": [
    {
     "data": {
      "text/plain": [
       "'/Users/homebase/Desktop/Python/Udemy Course/Milestone Projects/Daily-File-Organiser '"
      ]
     },
     "execution_count": 124,
     "metadata": {},
     "output_type": "execute_result"
    }
   ],
   "source": [
    "os.getcwd()"
   ]
  },
  {
   "cell_type": "code",
   "execution_count": 123,
   "id": "64725a26-1a94-4652-bf01-a38da7620d3b",
   "metadata": {},
   "outputs": [
    {
     "name": "stdout",
     "output_type": "stream",
     "text": [
      "No file moved on 20251002__2227\n",
      "No file moved on 20251002__2227\n",
      "No file moved on 20251002__2227\n",
      "No file moved on 20251002__2227\n",
      "No file moved on 20251002__2227\n",
      "No file moved on 20251002__2227\n",
      "No file moved on 20251002__2227\n",
      "No file moved on 20251002__2227\n",
      "No file moved on 20251002__2227\n"
     ]
    }
   ],
   "source": [
    "#Moving files\n",
    "downloads = os.path.join(os.getcwd(), \"Downloads\")\n",
    "\n",
    "for file in os.listdir(downloads):\n",
    "    source = os.path.join(downloads, file)\n",
    "    if file.endswith((\".mp4\", \".mkv\", \".mov\")):\n",
    "        source = os.path.join(downloads, file)\n",
    "        destination = os.path.join(videos, file)\n",
    "        shutil.move(source, destination)\n",
    "        print(f\"{file} moved to {os.path.basename(videos)}\")\n",
    "    elif file.endswith((\".jpg\", \".jpeg\", \".png\", \".gif\")):\n",
    "        source = os.path.join(downloads, file)\n",
    "        destination = os.path.join(images, file)\n",
    "        shutil.move(source, destination)\n",
    "        print(f\"{file} moved to {os.path.basename(images)}\")\n",
    "    elif file.endswith((\".pdf\")):\n",
    "        source = os.path.join(downloads, file)\n",
    "        destination = os.path.join(pdf, file)\n",
    "        shutil.move(source, destination)\n",
    "        print(f\"{file} moved to {os.path.basename(pdf)}\")\n",
    "    elif file.endswith((\".docx\", \".txt\", \".csv\")):\n",
    "        source = os.path.join(downloads, file)\n",
    "        destination = os.path.join(documents, file)\n",
    "        shutil.move(source, destination)\n",
    "        print(f\"{file} moved to {os.path.basename(documents)}\")\n",
    "    elif file.endswith((\".zip\", \".rar\", \".7z\")):\n",
    "        source = os.path.join(downloads, file)\n",
    "        destination = os.path.join(zips, file)\n",
    "        shutil.move(source, destination)\n",
    "        print(f\"{file} moved to {os.path.basename(zips)}\")\n",
    "    elif os.path.isfile(source): #To ensure only a file is movedA\n",
    "        destination = os.path.join(others, file)\n",
    "        shutil.move(source, destination)\n",
    "        print(f\"{file} moved to {os.path.basename(others)}\")\n",
    "    else:\n",
    "        print(f\"No file moved on {get_date}\")"
   ]
  },
  {
   "cell_type": "code",
   "execution_count": null,
   "id": "da76dc5c-6096-44d6-b375-efacf3fe8d12",
   "metadata": {},
   "outputs": [],
   "source": []
  }
 ],
 "metadata": {
  "kernelspec": {
   "display_name": "Python [conda env:base] *",
   "language": "python",
   "name": "conda-base-py"
  },
  "language_info": {
   "codemirror_mode": {
    "name": "ipython",
    "version": 3
   },
   "file_extension": ".py",
   "mimetype": "text/x-python",
   "name": "python",
   "nbconvert_exporter": "python",
   "pygments_lexer": "ipython3",
   "version": "3.13.5"
  }
 },
 "nbformat": 4,
 "nbformat_minor": 5
}
