{
 "cells": [
  {
   "cell_type": "code",
   "execution_count": 12,
   "id": "0e2c29ed-b88d-47e8-b0ad-7ee406188f76",
   "metadata": {},
   "outputs": [],
   "source": [
    "#Importing dependencies\n",
    "import datetime\n",
    "import os"
   ]
  },
  {
   "cell_type": "code",
   "execution_count": 48,
   "id": "e6af2bb4-9dfc-4f36-9db4-04c3486f6d38",
   "metadata": {},
   "outputs": [],
   "source": [
    "#Getting time for file name\n",
    "getdate = datetime.datetime.now()\n",
    "file_name = getdate.strftime(\"%Y%m%d__%H%M\")"
   ]
  },
  {
   "cell_type": "code",
   "execution_count": 49,
   "id": "8c49fa9e-9c41-4661-835a-d143979233fd",
   "metadata": {},
   "outputs": [
    {
     "name": "stdout",
     "output_type": "stream",
     "text": [
      "20251002__0809\n"
     ]
    }
   ],
   "source": [
    "print(file_name)"
   ]
  },
  {
   "cell_type": "code",
   "execution_count": 50,
   "id": "0a547bfb-678a-4caf-b54b-c04b795dafdb",
   "metadata": {},
   "outputs": [
    {
     "name": "stdout",
     "output_type": "stream",
     "text": [
      "File created successfully\n",
      "File created successfully\n",
      "File created successfully\n",
      "File already exist!\n",
      "File created successfully\n"
     ]
    }
   ],
   "source": [
    "#File creation and error handling for folders\n",
    "#PDF\n",
    "pdf = os.path.join(os.getcwd(), \"Downloads/PDFs\")\n",
    "try:\n",
    "    os.makedirs(pdf, exist_ok = False)\n",
    "    print(\"File created successfully\")\n",
    "except OSError as error:\n",
    "    print(\"File already exist!\")\n",
    "\n",
    "#Images\n",
    "images = os.path.join(os.getcwd(), \"Downloads/Images\")\n",
    "try:\n",
    "    os.makedirs(images, exist_ok = False)\n",
    "    print(\"File created successfully\")\n",
    "except OSError as error:\n",
    "    print(\"File already exist!\")\n",
    "    \n",
    "#Videos\n",
    "videos = os.path.join(os.getcwd(), \"Downloads/Videos\")\n",
    "try:\n",
    "    os.makedirs(videos, exist_ok = False)\n",
    "    print(\"File created successfully\")\n",
    "except OSError as error:\n",
    "    print(\"File already exist!\")\n",
    "\n",
    "#Documents\n",
    "documents = os.path.join(os.getcwd(), \"Downloads/Doc\")\n",
    "try:\n",
    "    os.makedirs(videos, exist_ok = False)\n",
    "    print(\"File created successfully\")\n",
    "except OSError as error:\n",
    "    print(\"File already exist!\")\n",
    "\n",
    "#Others\n",
    "others = os.path.join(os.getcwd(), \"Downloads/Others\")\n",
    "try:\n",
    "    os.makedirs(others, exist_ok = False)\n",
    "    print(\"File created successfully\")\n",
    "except OSError as error:\n",
    "    print(\"File already exist!\")"
   ]
  },
  {
   "cell_type": "code",
   "execution_count": null,
   "id": "64725a26-1a94-4652-bf01-a38da7620d3b",
   "metadata": {},
   "outputs": [],
   "source": []
  }
 ],
 "metadata": {
  "kernelspec": {
   "display_name": "Python [conda env:base] *",
   "language": "python",
   "name": "conda-base-py"
  },
  "language_info": {
   "codemirror_mode": {
    "name": "ipython",
    "version": 3
   },
   "file_extension": ".py",
   "mimetype": "text/x-python",
   "name": "python",
   "nbconvert_exporter": "python",
   "pygments_lexer": "ipython3",
   "version": "3.13.5"
  }
 },
 "nbformat": 4,
 "nbformat_minor": 5
}
