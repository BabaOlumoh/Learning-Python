{
 "cells": [
  {
   "cell_type": "code",
   "execution_count": 156,
   "id": "0e2c29ed-b88d-47e8-b0ad-7ee406188f76",
   "metadata": {},
   "outputs": [],
   "source": [
    "#Importing dependencies\n",
    "import datetime\n",
    "import os\n",
    "import shutil"
   ]
  },
  {
   "cell_type": "code",
   "execution_count": 166,
   "id": "e6af2bb4-9dfc-4f36-9db4-04c3486f6d38",
   "metadata": {},
   "outputs": [
    {
     "ename": "AttributeError",
     "evalue": "module 'datetime' has no attribute 'strftime'",
     "output_type": "error",
     "traceback": [
      "\u001b[0;31m---------------------------------------------------------------------------\u001b[0m",
      "\u001b[0;31mAttributeError\u001b[0m                            Traceback (most recent call last)",
      "Cell \u001b[0;32mIn[166], line 3\u001b[0m\n\u001b[1;32m      1\u001b[0m \u001b[38;5;66;03m#Getting time for file name\u001b[39;00m\n\u001b[0;32m----> 3\u001b[0m get_date \u001b[38;5;241m=\u001b[39m datetime\u001b[38;5;241m.\u001b[39mstrftime(\u001b[38;5;124m\"\u001b[39m\u001b[38;5;124m%\u001b[39m\u001b[38;5;124mY\u001b[39m\u001b[38;5;124m%\u001b[39m\u001b[38;5;124mm\u001b[39m\u001b[38;5;132;01m%d\u001b[39;00m\u001b[38;5;124m_\u001b[39m\u001b[38;5;124m%\u001b[39m\u001b[38;5;124mH\u001b[39m\u001b[38;5;124m%\u001b[39m\u001b[38;5;124mM\u001b[39m\u001b[38;5;124m\"\u001b[39m)\n",
      "\u001b[0;31mAttributeError\u001b[0m: module 'datetime' has no attribute 'strftime'"
     ]
    }
   ],
   "source": [
    "#Getting time for file name\n",
    "date_init = datetime.datetime.now()\n",
    "get_date = getdate.strftime(\"%Y%m%d__%H%M\")"
   ]
  },
  {
   "cell_type": "code",
   "execution_count": 158,
   "id": "0a547bfb-678a-4caf-b54b-c04b795dafdb",
   "metadata": {},
   "outputs": [
    {
     "name": "stdout",
     "output_type": "stream",
     "text": [
      "PDFs folder already exist!\n",
      "Images folder already exist!\n",
      "Videos folder already exist!\n",
      "Documents folder already exist!\n",
      "Zips folder already exist!\n",
      "Others folder already exist!\n",
      "Log folder already exist!\n",
      "Backup folder already exist!\n"
     ]
    }
   ],
   "source": [
    "#File creation and error handling for folders\n",
    "#PDF\n",
    "pdf = os.path.join(os.getcwd(), \"Downloads/PDFs\")\n",
    "try:\n",
    "    os.makedirs(pdf, exist_ok = False)\n",
    "    print(f\"{os.path.basename(pdf)} folder created successfully\")\n",
    "except OSError as error:\n",
    "    print(f\"{os.path.basename(pdf)} folder already exist!\")\n",
    "\n",
    "#Images\n",
    "images = os.path.join(os.getcwd(), \"Downloads/Images\")\n",
    "try:\n",
    "    os.makedirs(images, exist_ok = False)\n",
    "    print(f\"{os.path.basename(images)} folder created successfully\")\n",
    "except OSError as error:\n",
    "    print(f\"{os.path.basename(images)} folder already exist!\")\n",
    "    \n",
    "#Videos\n",
    "videos = os.path.join(os.getcwd(), \"Downloads/Videos\")\n",
    "try:\n",
    "    os.makedirs(videos, exist_ok = False)\n",
    "    print(f\"{os.path.basename(videos)} folder created successfully\")\n",
    "except OSError as error:\n",
    "    print(f\"{os.path.basename(videos)} folder already exist!\")\n",
    "\n",
    "#Documents\n",
    "documents = os.path.join(os.getcwd(), \"Downloads/Documents\")\n",
    "try:\n",
    "    os.makedirs(documents, exist_ok = False)\n",
    "    print(f\"{os.path.basename(documents)} folder created successfully\")\n",
    "except OSError as error:\n",
    "    print(f\"{os.path.basename(documents)} folder already exist!\")\n",
    "\n",
    "zips = os.path.join(os.getcwd(), \"Downloads/Zips\")\n",
    "try:\n",
    "    os.makedirs(zips, exist_ok = False)\n",
    "    print(f\"{os.path.basename(zips)} folder created successfully\")\n",
    "except OSError as error:\n",
    "    print(f\"{os.path.basename(zips)} folder already exist!\")\n",
    "\n",
    "#Others\n",
    "others = os.path.join(os.getcwd(), \"Downloads/Others\")\n",
    "try:\n",
    "    os.makedirs(others, exist_ok = False)\n",
    "    print(f\"{os.path.basename(others)} folder created successfully\")\n",
    "except OSError as error:\n",
    "    print(f\"{os.path.basename(others)} folder already exist!\")\n",
    "\n",
    "#Log Folder\n",
    "log = os.path.join(os.getcwd(), \"Log\")\n",
    "try:\n",
    "    os.makedirs(log, exist_ok = False)\n",
    "    print(f\"{os.path.basename(log)} folder created successfully\")\n",
    "except OSError as error:\n",
    "    print(f\"{os.path.basename(log)} folder already exist!\")\n",
    "\n",
    "#Backup Folder\n",
    "backup = os.path.join(os.getcwd(), \"Backup\")\n",
    "try:\n",
    "    os.makedirs(backup, exist_ok = False)\n",
    "    print(f\"{os.path.basename(backup)} folder created successfully\")\n",
    "except OSError as error:\n",
    "    print(f\"{os.path.basename(backup)} folder already exist!\")"
   ]
  },
  {
   "cell_type": "code",
   "execution_count": 165,
   "id": "64725a26-1a94-4652-bf01-a38da7620d3b",
   "metadata": {},
   "outputs": [],
   "source": [
    "#Moving files\n",
    "downloads = os.path.join(os.getcwd(), \"Downloads\")\n",
    "with open(f\"Log/{get_date}logfile\", \"a\") as f:\n",
    "    for file in os.listdir(downloads):\n",
    "        source = os.path.join(downloads, file)\n",
    "\n",
    "        #To ensure only a file is moved\n",
    "        if not os.path.isfile(source):\n",
    "            continue\n",
    "            \n",
    "        if file.endswith((\".mp4\", \".mkv\", \".mov\")):\n",
    "            destination = os.path.join(videos, file)\n",
    "            shutil.move(source, destination)\n",
    "            f.write(f\"{file} moved to {os.path.basename(videos)} on {get_date}\\n\")\n",
    "        elif file.endswith((\".jpg\", \".jpeg\", \".png\", \".gif\")):\n",
    "            destination = os.path.join(images, file)\n",
    "            shutil.move(source, destination)\n",
    "            f.write(f\"{file} moved to {os.path.basename(images)} on {get_date}\\n\")\n",
    "        elif file.endswith((\".pdf\")):\n",
    "            destination = os.path.join(pdf, file)\n",
    "            shutil.move(source, destination)\n",
    "            f.write(f\"{file} moved to {os.path.basename(pdf)} on {get_date}\\n\")\n",
    "        elif file.endswith((\".docx\", \".txt\", \".csv\")):      \n",
    "            destination = os.path.join(documents, file)\n",
    "            shutil.move(source, destination)\n",
    "            f.write(f\"{file} moved to {os.path.basename(documents)} on {get_date}\\n\")\n",
    "        elif file.endswith((\".zip\", \".rar\", \".7z\")):    \n",
    "            destination = os.path.join(zips, file)\n",
    "            shutil.move(source, destination)\n",
    "            f.write(f\"{file} moved to {os.path.basename(zips)}  on {get_date}\\n\")\n",
    "        else: \n",
    "            destination = os.path.join(others, file)\n",
    "            shutil.move(source, destination)\n",
    "            f.write(f\"{file} moved to {os.path.basename(others)}  on {get_date}\\n\")"
   ]
  },
  {
   "cell_type": "code",
   "execution_count": null,
   "id": "c09f961f-3856-454c-9875-6ae9497dd949",
   "metadata": {},
   "outputs": [],
   "source": []
  }
 ],
 "metadata": {
  "kernelspec": {
   "display_name": "Python [conda env:base] *",
   "language": "python",
   "name": "conda-base-py"
  },
  "language_info": {
   "codemirror_mode": {
    "name": "ipython",
    "version": 3
   },
   "file_extension": ".py",
   "mimetype": "text/x-python",
   "name": "python",
   "nbconvert_exporter": "python",
   "pygments_lexer": "ipython3",
   "version": "3.13.5"
  }
 },
 "nbformat": 4,
 "nbformat_minor": 5
}
