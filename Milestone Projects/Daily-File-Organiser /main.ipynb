{
 "cells": [
  {
   "cell_type": "code",
   "execution_count": 174,
   "id": "0e2c29ed-b88d-47e8-b0ad-7ee406188f76",
   "metadata": {},
   "outputs": [],
   "source": [
    "#Importing dependencies\n",
    "import datetime\n",
    "import os\n",
    "import shutil"
   ]
  },
  {
   "cell_type": "code",
   "execution_count": 175,
   "id": "e6af2bb4-9dfc-4f36-9db4-04c3486f6d38",
   "metadata": {},
   "outputs": [],
   "source": [
    "#Getting time for file name\n",
    "get_date = datetime.datetime.now().strftime(\"%Y%m%d_%H%M\")"
   ]
  },
  {
   "cell_type": "code",
   "execution_count": 176,
   "id": "30bd6564-d0c9-48a4-8212-fd99ec0a8be3",
   "metadata": {},
   "outputs": [
    {
     "data": {
      "text/plain": [
       "'20251003_0908'"
      ]
     },
     "execution_count": 176,
     "metadata": {},
     "output_type": "execute_result"
    }
   ],
   "source": [
    "get_date"
   ]
  },
  {
   "cell_type": "code",
   "execution_count": 177,
   "id": "0a547bfb-678a-4caf-b54b-c04b795dafdb",
   "metadata": {},
   "outputs": [
    {
     "name": "stdout",
     "output_type": "stream",
     "text": [
      "PDFs folder already exist!\n",
      "Images folder already exist!\n",
      "Videos folder already exist!\n",
      "Documents folder already exist!\n",
      "Zips folder already exist!\n",
      "Others folder already exist!\n",
      "Log folder already exist!\n",
      "Backup folder already exist!\n"
     ]
    }
   ],
   "source": [
    "#File creation and error handling for folders\n",
    "#PDF\n",
    "pdf = os.path.join(os.getcwd(), \"Downloads/PDFs\")\n",
    "try:\n",
    "    os.makedirs(pdf, exist_ok = False)\n",
    "    print(f\"{os.path.basename(pdf)} folder created successfully\")\n",
    "except OSError as error:\n",
    "    print(f\"{os.path.basename(pdf)} folder already exist!\")\n",
    "\n",
    "#Images\n",
    "images = os.path.join(os.getcwd(), \"Downloads/Images\")\n",
    "try:\n",
    "    os.makedirs(images, exist_ok = False)\n",
    "    print(f\"{os.path.basename(images)} folder created successfully\")\n",
    "except OSError as error:\n",
    "    print(f\"{os.path.basename(images)} folder already exist!\")\n",
    "    \n",
    "#Videos\n",
    "videos = os.path.join(os.getcwd(), \"Downloads/Videos\")\n",
    "try:\n",
    "    os.makedirs(videos, exist_ok = False)\n",
    "    print(f\"{os.path.basename(videos)} folder created successfully\")\n",
    "except OSError as error:\n",
    "    print(f\"{os.path.basename(videos)} folder already exist!\")\n",
    "\n",
    "#Documents\n",
    "documents = os.path.join(os.getcwd(), \"Downloads/Documents\")\n",
    "try:\n",
    "    os.makedirs(documents, exist_ok = False)\n",
    "    print(f\"{os.path.basename(documents)} folder created successfully\")\n",
    "except OSError as error:\n",
    "    print(f\"{os.path.basename(documents)} folder already exist!\")\n",
    "\n",
    "zips = os.path.join(os.getcwd(), \"Downloads/Zips\")\n",
    "try:\n",
    "    os.makedirs(zips, exist_ok = False)\n",
    "    print(f\"{os.path.basename(zips)} folder created successfully\")\n",
    "except OSError as error:\n",
    "    print(f\"{os.path.basename(zips)} folder already exist!\")\n",
    "\n",
    "#Others\n",
    "others = os.path.join(os.getcwd(), \"Downloads/Others\")\n",
    "try:\n",
    "    os.makedirs(others, exist_ok = False)\n",
    "    print(f\"{os.path.basename(others)} folder created successfully\")\n",
    "except OSError as error:\n",
    "    print(f\"{os.path.basename(others)} folder already exist!\")\n",
    "\n",
    "#Log Folder\n",
    "log = os.path.join(os.getcwd(), \"Log\")\n",
    "try:\n",
    "    os.makedirs(log, exist_ok = False)\n",
    "    print(f\"{os.path.basename(log)} folder created successfully\")\n",
    "except OSError as error:\n",
    "    print(f\"{os.path.basename(log)} folder already exist!\")\n",
    "\n",
    "#Backup Folder\n",
    "backup = os.path.join(os.getcwd(), \"Backup\")\n",
    "try:\n",
    "    os.makedirs(backup, exist_ok = False)\n",
    "    print(f\"{os.path.basename(backup)} folder created successfully\")\n",
    "except OSError as error:\n",
    "    print(f\"{os.path.basename(backup)} folder already exist!\")"
   ]
  },
  {
   "cell_type": "code",
   "execution_count": 178,
   "id": "64725a26-1a94-4652-bf01-a38da7620d3b",
   "metadata": {},
   "outputs": [],
   "source": [
    "#Moving files\n",
    "downloads = os.path.join(os.getcwd(), \"Downloads\")\n",
    "with open(f\"Log/{get_date}logfile\", \"a\") as f:\n",
    "    for file in os.listdir(downloads):\n",
    "        source = os.path.join(downloads, file)\n",
    "\n",
    "        #To ensure only a file is moved\n",
    "        if not os.path.isfile(source):\n",
    "            continue\n",
    "            \n",
    "        if file.endswith((\".mp4\", \".mkv\", \".mov\")):\n",
    "            destination = os.path.join(videos, file)\n",
    "            shutil.move(source, destination)\n",
    "            f.write(f\"{file} moved to {os.path.basename(videos)} on {get_date}\\n\")\n",
    "        elif file.endswith((\".jpg\", \".jpeg\", \".png\", \".gif\")):\n",
    "            destination = os.path.join(images, file)\n",
    "            shutil.move(source, destination)\n",
    "            f.write(f\"{file} moved to {os.path.basename(images)} on {get_date}\\n\")\n",
    "        elif file.endswith((\".pdf\")):\n",
    "            destination = os.path.join(pdf, file)\n",
    "            shutil.move(source, destination)\n",
    "            f.write(f\"{file} moved to {os.path.basename(pdf)} on {get_date}\\n\")\n",
    "        elif file.endswith((\".docx\", \".txt\", \".csv\")):      \n",
    "            destination = os.path.join(documents, file)\n",
    "            shutil.move(source, destination)\n",
    "            f.write(f\"{file} moved to {os.path.basename(documents)} on {get_date}\\n\")\n",
    "        elif file.endswith((\".zip\", \".rar\", \".7z\")):    \n",
    "            destination = os.path.join(zips, file)\n",
    "            shutil.move(source, destination)\n",
    "            f.write(f\"{file} moved to {os.path.basename(zips)}  on {get_date}\\n\")\n",
    "        else: \n",
    "            destination = os.path.join(others, file)\n",
    "            shutil.move(source, destination)\n",
    "            f.write(f\"{file} moved to {os.path.basename(others)}  on {get_date}\\n\")"
   ]
  },
  {
   "cell_type": "code",
   "execution_count": 212,
   "id": "0f3e7cdc-248e-4909-a74c-0042db9189fd",
   "metadata": {},
   "outputs": [
    {
     "name": "stdout",
     "output_type": "stream",
     "text": [
      ".ipynb_checkpoints exists, skipped\n"
     ]
    }
   ],
   "source": [
    "with open(f\"Log/Backup_{get_date}\", \"a\") as f:\n",
    "    for folder in os.listdir(downloads):\n",
    "        source = os.path.join(downloads, folder)\n",
    "        destination = os.path.join(backup, folder)\n",
    "        if os.path.isfile(source):\n",
    "            continue\n",
    "        if folder in [\"PDFs\", \"Images\", \"Videos\", \"Documents\", \"Zips\", \"Others\"]:\n",
    "            continue\n",
    "        try:\n",
    "            shutil.copytree(source, destination)\n",
    "            f.write(f\"{folder} back up on {get_date}\\n\")\n",
    "        except:\n",
    "            print(f\"{folder} exists, skipped\")    "
   ]
  },
  {
   "cell_type": "code",
   "execution_count": null,
   "id": "9ef01ffe-e5ac-4c3c-992f-2e99921ce15d",
   "metadata": {},
   "outputs": [],
   "source": []
  }
 ],
 "metadata": {
  "kernelspec": {
   "display_name": "Python [conda env:base] *",
   "language": "python",
   "name": "conda-base-py"
  },
  "language_info": {
   "codemirror_mode": {
    "name": "ipython",
    "version": 3
   },
   "file_extension": ".py",
   "mimetype": "text/x-python",
   "name": "python",
   "nbconvert_exporter": "python",
   "pygments_lexer": "ipython3",
   "version": "3.13.5"
  }
 },
 "nbformat": 4,
 "nbformat_minor": 5
}
