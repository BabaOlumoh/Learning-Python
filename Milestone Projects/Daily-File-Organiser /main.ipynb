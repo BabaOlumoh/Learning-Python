{
 "cells": [
  {
   "cell_type": "code",
   "execution_count": 89,
   "id": "0e2c29ed-b88d-47e8-b0ad-7ee406188f76",
   "metadata": {},
   "outputs": [],
   "source": [
    "#Importing dependencies\n",
    "import datetime\n",
    "import os\n",
    "import send2trash\n",
    "import shutil"
   ]
  },
  {
   "cell_type": "code",
   "execution_count": 94,
   "id": "e6af2bb4-9dfc-4f36-9db4-04c3486f6d38",
   "metadata": {},
   "outputs": [],
   "source": [
    "#Getting time for file name\n",
    "getdate = datetime.datetime.now()\n",
    "file_name = getdate.strftime(\"%Y%m%d__%H%M\")"
   ]
  },
  {
   "cell_type": "code",
   "execution_count": 95,
   "id": "8c49fa9e-9c41-4661-835a-d143979233fd",
   "metadata": {},
   "outputs": [
    {
     "name": "stdout",
     "output_type": "stream",
     "text": [
      "20251002__2227\n"
     ]
    }
   ],
   "source": [
    "print(file_name)"
   ]
  },
  {
   "cell_type": "code",
   "execution_count": 99,
   "id": "0a547bfb-678a-4caf-b54b-c04b795dafdb",
   "metadata": {},
   "outputs": [
    {
     "name": "stdout",
     "output_type": "stream",
     "text": [
      "File already exist!\n",
      "File already exist!\n",
      "File already exist!\n",
      "File already exist!\n",
      "File already exist!\n",
      "File already exist!\n"
     ]
    }
   ],
   "source": [
    "#File creation and error handling for folders\n",
    "#PDF\n",
    "pdf = os.path.join(os.getcwd(), \"Downloads/PDFs\")\n",
    "try:\n",
    "    os.makedirs(pdf, exist_ok = False)\n",
    "    print(\"File created successfully\")\n",
    "except OSError as error:\n",
    "    print(\"File already exist!\")\n",
    "\n",
    "#Images\n",
    "images = os.path.join(os.getcwd(), \"Downloads/Images\")\n",
    "try:\n",
    "    os.makedirs(images, exist_ok = False)\n",
    "    print(\"File created successfully\")\n",
    "except OSError as error:\n",
    "    print(\"File already exist!\")\n",
    "    \n",
    "#Videos\n",
    "videos = os.path.join(os.getcwd(), \"Downloads/Videos\")\n",
    "try:\n",
    "    os.makedirs(videos, exist_ok = False)\n",
    "    print(\"File created successfully\")\n",
    "except OSError as error:\n",
    "    print(\"File already exist!\")\n",
    "\n",
    "#Documents\n",
    "documents = os.path.join(os.getcwd(), \"Downloads/Documents\")\n",
    "try:\n",
    "    os.makedirs(documents, exist_ok = False)\n",
    "    print(\"File created successfully\")\n",
    "except OSError as error:\n",
    "    print(\"File already exist!\")\n",
    "\n",
    "zips = os.path.join(os.getcwd(), \"Downloads/Zips\")\n",
    "try:\n",
    "    os.makedirs(zips, exist_ok = False)\n",
    "    print(\"File created successfully\")\n",
    "except OSError as error:\n",
    "    print(\"File already exist!\")\n",
    "\n",
    "#Others\n",
    "others = os.path.join(os.getcwd(), \"Downloads/Others\")\n",
    "try:\n",
    "    os.makedirs(others, exist_ok = False)\n",
    "    print(\"File created successfully\")\n",
    "except OSError as error:\n",
    "    print(\"File already exist!\")"
   ]
  },
  {
   "cell_type": "code",
   "execution_count": 107,
   "id": "64725a26-1a94-4652-bf01-a38da7620d3b",
   "metadata": {},
   "outputs": [
    {
     "name": "stdout",
     "output_type": "stream",
     "text": [
      "file6.msi moved to Others\n",
      "No found moved!\n",
      "No found moved!\n",
      "No found moved!\n",
      "No found moved!\n",
      "No found moved!\n",
      "No found moved!\n",
      "No found moved!\n"
     ]
    }
   ],
   "source": [
    "#Moving files\n",
    "downloads = os.path.join(os.getcwd(), \"Downloads\")\n",
    "\n",
    "for file in os.listdir(downloads):\n",
    "    source = os.path.join(downloads, file)\n",
    "    if file.endswith((\".mp4\", \".mkv\", \".mov\")):\n",
    "        source = os.path.join(downloads, file)\n",
    "        destination = os.path.join(videos, file)\n",
    "        shutil.move(source, destination)\n",
    "        print(f\"{file} moved to {os.path.basename(videos)}\")\n",
    "    elif file.endswith((\".jpg\", \".jpeg\", \".png\", \".gif\")):\n",
    "        source = os.path.join(downloads, file)\n",
    "        destination = os.path.join(images, file)\n",
    "        shutil.move(source, destination)\n",
    "        print(f\"{file} moved to {os.path.basename(images)}\")\n",
    "    elif file.endswith((\".pdf\")):\n",
    "        source = os.path.join(downloads, file)\n",
    "        destination = os.path.join(pdf, file)\n",
    "        shutil.move(source, destination)\n",
    "        print(f\"{file} moved to {os.path.basename(pdf)}\")\n",
    "    elif file.endswith((\".docx\", \".txt\", \".csv\")):\n",
    "        source = os.path.join(downloads, file)\n",
    "        destination = os.path.join(documents, file)\n",
    "        shutil.move(source, destination)\n",
    "        print(f\"{file} moved to {os.path.basename(documents)}\")\n",
    "    elif file.endswith((\".zip\", \".rar\", \".7z\")):\n",
    "        source = os.path.join(downloads, file)\n",
    "        destination = os.path.join(zips, file)\n",
    "        shutil.move(source, destination)\n",
    "        print(f\"{file} moved to {os.path.basename(zips)}\")\n",
    "    elif os.path.isfile(source): #To ensure only a file is movedA\n",
    "        destination = os.path.join(others, file)\n",
    "        shutil.move(source, destination)\n",
    "        print(f\"{file} moved to {os.path.basename(others)}\")\n",
    "    else:\n",
    "        print(\"No found moved!\")"
   ]
  },
  {
   "cell_type": "code",
   "execution_count": null,
   "id": "da76dc5c-6096-44d6-b375-efacf3fe8d12",
   "metadata": {},
   "outputs": [],
   "source": []
  }
 ],
 "metadata": {
  "kernelspec": {
   "display_name": "Python [conda env:base] *",
   "language": "python",
   "name": "conda-base-py"
  },
  "language_info": {
   "codemirror_mode": {
    "name": "ipython",
    "version": 3
   },
   "file_extension": ".py",
   "mimetype": "text/x-python",
   "name": "python",
   "nbconvert_exporter": "python",
   "pygments_lexer": "ipython3",
   "version": "3.13.5"
  }
 },
 "nbformat": 4,
 "nbformat_minor": 5
}
