{
 "cells": [
  {
   "cell_type": "code",
   "execution_count": 359,
   "id": "f40b2b5e-95ea-4f38-b34b-5d09fda8f110",
   "metadata": {},
   "outputs": [],
   "source": [
    "class Book():\n",
    "    def __init__(self, title, author, isbn, published_year):\n",
    "        self.title = title\n",
    "        self.author = author\n",
    "        self.isbn = isbn\n",
    "        self.published_year = published_year\n",
    "        self.is_available = True\n",
    "\n",
    "    def borrow_book(self):\n",
    "        if self.is_available:\n",
    "            self.is_available = False\n",
    "            return True\n",
    "        return False\n",
    "        \n",
    "\n",
    "    def return_book(self):\n",
    "        if not self.is_available:\n",
    "            self.is_available = False\n",
    "            return True\n",
    "        return False\n",
    "        \n",
    "    def __str__(self):\n",
    "        availability = \"Available\" if self.is_available else \"Borrowed\"\n",
    "        return f\"{self.title} {self.author} {self.isbn} {self.published_year} - {availability}\""
   ]
  },
  {
   "cell_type": "code",
   "execution_count": 916,
   "id": "f7476533-1cf4-43d6-9aa3-25209b0add63",
   "metadata": {},
   "outputs": [],
   "source": [
    "class Member():\n",
    "    def __init__(self, name, member_id):\n",
    "        self.name = name\n",
    "        self.member_id = member_id\n",
    "        self.borrowed_books = []\n",
    "\n",
    "    def borrow_book(self, isbn):\n",
    "        for book in self.book_storage:\n",
    "            if book.isbn == isbn:\n",
    "                if book.is_available:\n",
    "                    self.borrowed_books.append(book)\n",
    "                    print(f\"You've borrowed {book.title}\")\n",
    "                    book.is_available = False\n",
    "                    return True\n",
    "                else:\n",
    "                    print(f\"{book.title} has been borrowed\")\n",
    "                    return False\n",
    "        print(f\"{isbn} not found\")\n",
    "\n",
    "\n",
    "    def return_book(self, isbn):\n",
    "        pass\n",
    "    def __str__(self):\n",
    "        return f\"{self.name} {self.member_id}\"\n",
    "    "
   ]
  },
  {
   "cell_type": "code",
   "execution_count": 917,
   "id": "15a2b8a9-59e4-40fd-855b-814c7e511603",
   "metadata": {},
   "outputs": [],
   "source": [
    "class Library():\n",
    "    def __init__(self):\n",
    "        self.book_storage = []\n",
    "        self.members = []\n",
    "        \n",
    "    def add_book(self, book):\n",
    "        self.book_storage.append(book)\n",
    "        print(f\"{book.title} - has been added to library\")\n",
    "\n",
    "    def remove_book(self, isbn):\n",
    "        for book in self.book_storage:\n",
    "            if book.is_available == True:\n",
    "                if book.isbn == isbn:\n",
    "                    self.book_storage.remove(book)\n",
    "                    print(f\"{isbn} - has been removed from library\")\n",
    "                    return True #To stop the loop\n",
    "                else:\n",
    "                    print(f\"{isbn} doesn't exist\")\n",
    "            else:\n",
    "                print(f\"{book.title} has been borrowed\")\n",
    "                return False #To stop the loop\n",
    "\n",
    "    def register_member(self, member):\n",
    "        for new_member in self.members:\n",
    "            if new_member.member_id == member.member_id:\n",
    "                print(f\"{member} is already registered\")\n",
    "                return False\n",
    "\n",
    "        self.members.append(member)\n",
    "        print(f\"{member} is now a member of the library\")\n",
    "        return True\n",
    "                 \n",
    "        \n",
    "    def find_book(self, isbn):\n",
    "        for book in self.book_storage:\n",
    "            if book.isbn == isbn:\n",
    "                print(book)\n",
    "                return True\n",
    "        return f\"{isbn} not found\" \n",
    "                \n",
    "    def lend_book(self,member_id, isbn):\n",
    "        for book in self.book_storage:\n",
    "            if book.isbn == isbn:\n",
    "                if book.is_available == True:\n",
    "                    for member in self.members:\n",
    "                        if member.member_id == member_id:\n",
    "                            print(f\"{book.title} has been borrowed sucessfully\")\n",
    "                            book.is_available = False\n",
    "                            return True\n",
    "                    print(f\"{member.name} is not a registered member\")\n",
    "                    return False\n",
    "                else:\n",
    "                    print(f\"{book.title} has been borrowed\")\n",
    "                    return False\n",
    "        print(f\"{isbn} not found in library database\")\n",
    "        return\n",
    "        \n",
    "    def accept_return(self, member_id, isbn):\n",
    "        for book in self.book_storage:\n",
    "            if book.isbn == isbn:\n",
    "                if book.is_available == False:\n",
    "                    for member in self.members:\n",
    "                        if member.member_id == member_id:\n",
    "                            print(f\"{book.title} has been returned sucessfully\")\n",
    "                            book.is_available = True\n",
    "                            return True\n",
    "                    print(f\"{member_id} is not a registered member\")\n",
    "                    return False\n",
    "                else:\n",
    "                    print(f\"{book.title} is currently not borrowed\")\n",
    "                    return False\n",
    "        print(f\"{isbn} not found in library database\")\n",
    "        return\n",
    "\n",
    "    def list_books(self):\n",
    "        for book in self.book_storage:\n",
    "            print(book)\n",
    "        \n",
    "    def search(self, query):\n",
    "        self.query = query.lower()\n",
    "        self.results = []\n",
    "\n",
    "        for book in self.book_storage:\n",
    "            if query in book.title or query in book.author or query in book.isbn or query in book.published_year:\n",
    "                self.results.append(book)\n",
    "\n",
    "        for result in self.results:\n",
    "            print(result)"
   ]
  },
  {
   "cell_type": "code",
   "execution_count": 918,
   "id": "928e9bca-de25-4bae-9ecc-c6274457a4a9",
   "metadata": {},
   "outputs": [],
   "source": [
    "my_lib = Library()"
   ]
  },
  {
   "cell_type": "code",
   "execution_count": 919,
   "id": "4e53f93a-ea18-4e8a-8b2e-fcfe1886d547",
   "metadata": {},
   "outputs": [],
   "source": [
    "b3 = Book(\"Life\", \"Mamello\", \"123\", \"2025\")\n",
    "b1 = Book(\"Python Basics\", \"Alice\", \"1234\", \"2020\")\n",
    "b2 = Book(\"Advanced Python\", \"Bob\", \"456\", \"2021\")"
   ]
  },
  {
   "cell_type": "code",
   "execution_count": 920,
   "id": "18740f94-cc5f-43be-a046-f73bd976aeec",
   "metadata": {},
   "outputs": [],
   "source": [
    "user1 = Member(\"Mamello\", \"M001\")\n",
    "user2 = Member(\"Vimbai\", \"M002\")\n",
    "user3 = Member(\"Mhlophe\", \"M003\")"
   ]
  },
  {
   "cell_type": "code",
   "execution_count": 921,
   "id": "641af0b7-1f62-4c19-96c1-058fc371cef8",
   "metadata": {},
   "outputs": [],
   "source": [
    "my_lib.book_storage = [b1, b2, b3]\n",
    "my_lib.members = [user1, user2, user3]"
   ]
  },
  {
   "cell_type": "code",
   "execution_count": 922,
   "id": "b01e8457-ef0f-4e4a-bd83-7f2957cf2681",
   "metadata": {},
   "outputs": [
    {
     "name": "stdout",
     "output_type": "stream",
     "text": [
      "Python Basics Alice 1234 2020 - Available\n",
      "Advanced Python Bob 456 2021 - Available\n",
      "Life Mamello 123 2025 - Available\n"
     ]
    }
   ],
   "source": [
    "my_lib.list_books()"
   ]
  },
  {
   "cell_type": "code",
   "execution_count": 923,
   "id": "fb09f5d6-c9b5-47d0-92ec-b94396785902",
   "metadata": {},
   "outputs": [
    {
     "name": "stdout",
     "output_type": "stream",
     "text": [
      "Life has been borrowed sucessfully\n"
     ]
    },
    {
     "data": {
      "text/plain": [
       "True"
      ]
     },
     "execution_count": 923,
     "metadata": {},
     "output_type": "execute_result"
    }
   ],
   "source": [
    "my_lib.lend_book(\"M003\", \"123\")"
   ]
  },
  {
   "cell_type": "code",
   "execution_count": 924,
   "id": "35e4d48e-b0aa-4f49-88d2-4f7841410a96",
   "metadata": {},
   "outputs": [
    {
     "name": "stdout",
     "output_type": "stream",
     "text": [
      "13 not found in library database\n"
     ]
    }
   ],
   "source": [
    "my_lib.accept_return(\"M001\", \"13\")"
   ]
  },
  {
   "cell_type": "code",
   "execution_count": 925,
   "id": "96aa9895-7993-4213-bf08-2c67838a26f0",
   "metadata": {},
   "outputs": [
    {
     "name": "stdout",
     "output_type": "stream",
     "text": [
      "Life Mamello 123 2025 - Borrowed\n"
     ]
    }
   ],
   "source": [
    "my_lib.search(\"Mamello\")"
   ]
  },
  {
   "cell_type": "code",
   "execution_count": 926,
   "id": "60833897-3436-4b1c-811c-1aecb9feb56f",
   "metadata": {},
   "outputs": [
    {
     "ename": "AttributeError",
     "evalue": "'Member' object has no attribute 'book_storage'",
     "output_type": "error",
     "traceback": [
      "\u001b[0;31m---------------------------------------------------------------------------\u001b[0m",
      "\u001b[0;31mAttributeError\u001b[0m                            Traceback (most recent call last)",
      "Cell \u001b[0;32mIn[926], line 1\u001b[0m\n\u001b[0;32m----> 1\u001b[0m user1\u001b[38;5;241m.\u001b[39mborrow_book(\u001b[38;5;124m\"\u001b[39m\u001b[38;5;124m123\u001b[39m\u001b[38;5;124m\"\u001b[39m)\n",
      "Cell \u001b[0;32mIn[916], line 8\u001b[0m, in \u001b[0;36mMember.borrow_book\u001b[0;34m(self, isbn)\u001b[0m\n\u001b[1;32m      7\u001b[0m \u001b[38;5;28;01mdef\u001b[39;00m\u001b[38;5;250m \u001b[39m\u001b[38;5;21mborrow_book\u001b[39m(\u001b[38;5;28mself\u001b[39m, isbn):\n\u001b[0;32m----> 8\u001b[0m     \u001b[38;5;28;01mfor\u001b[39;00m book \u001b[38;5;129;01min\u001b[39;00m \u001b[38;5;28mself\u001b[39m\u001b[38;5;241m.\u001b[39mbook_storage:\n\u001b[1;32m      9\u001b[0m         \u001b[38;5;28;01mif\u001b[39;00m book\u001b[38;5;241m.\u001b[39misbn \u001b[38;5;241m==\u001b[39m isbn:\n\u001b[1;32m     10\u001b[0m             \u001b[38;5;28;01mif\u001b[39;00m book\u001b[38;5;241m.\u001b[39mis_available:\n",
      "\u001b[0;31mAttributeError\u001b[0m: 'Member' object has no attribute 'book_storage'"
     ]
    }
   ],
   "source": [
    "user1.borrow_book(\"123\")"
   ]
  },
  {
   "cell_type": "code",
   "execution_count": null,
   "id": "299af66c-0ea6-491d-bc3e-38e2b447ace5",
   "metadata": {},
   "outputs": [],
   "source": []
  }
 ],
 "metadata": {
  "kernelspec": {
   "display_name": "Python [conda env:base] *",
   "language": "python",
   "name": "conda-base-py"
  },
  "language_info": {
   "codemirror_mode": {
    "name": "ipython",
    "version": 3
   },
   "file_extension": ".py",
   "mimetype": "text/x-python",
   "name": "python",
   "nbconvert_exporter": "python",
   "pygments_lexer": "ipython3",
   "version": "3.13.5"
  }
 },
 "nbformat": 4,
 "nbformat_minor": 5
}
