{
 "cells": [
  {
   "cell_type": "code",
   "execution_count": 359,
   "id": "f40b2b5e-95ea-4f38-b34b-5d09fda8f110",
   "metadata": {},
   "outputs": [],
   "source": [
    "class Book():\n",
    "    def __init__(self, title, author, isbn, published_year):\n",
    "        self.title = title\n",
    "        self.author = author\n",
    "        self.isbn = isbn\n",
    "        self.published_year = published_year\n",
    "        self.is_available = True\n",
    "\n",
    "    def borrow_book(self):\n",
    "        if self.is_available:\n",
    "            self.is_available = False\n",
    "            return True\n",
    "        return False\n",
    "        \n",
    "\n",
    "    def return_book(self):\n",
    "        if not self.is_available:\n",
    "            self.is_available = False\n",
    "            return True\n",
    "        return False\n",
    "        \n",
    "    def __str__(self):\n",
    "        availability = \"Available\" if self.is_available else \"Borrowed\"\n",
    "        return f\"{self.title} {self.author} {self.isbn} {self.published_year} - {availability}\""
   ]
  },
  {
   "cell_type": "code",
   "execution_count": null,
   "id": "f7476533-1cf4-43d6-9aa3-25209b0add63",
   "metadata": {},
   "outputs": [],
   "source": [
    "class Member():\n",
    "    def __init__(self, name, member_id, borrowed_books):\n",
    "        self.name = name\n",
    "        self.member_id = member_id\n",
    "        self.borrowed_books = []\n",
    "\n",
    "    def borrow_book(self, isbn):\n",
    "        \n",
    "\n",
    "    def return_book(self, isbn):\n",
    "        pass\n",
    "\n",
    "    \n",
    "    "
   ]
  },
  {
   "cell_type": "code",
   "execution_count": 554,
   "id": "15a2b8a9-59e4-40fd-855b-814c7e511603",
   "metadata": {},
   "outputs": [],
   "source": [
    "class Library():\n",
    "    def __init__(self):\n",
    "        self.book_storage = []\n",
    "        self.members = []\n",
    "        \n",
    "    def add_book(self, book):\n",
    "        self.book_storage.append(book)\n",
    "        print(f\"{book.title} - has been added to library\")\n",
    "\n",
    "    def remove_book(self, isbn):\n",
    "        for book in self.book_storage:\n",
    "            if book.is_available == True:\n",
    "                if book.isbn == isbn:\n",
    "                    self.book_storage.remove(book)\n",
    "                    print(f\"{isbn} - has been removed from library\")\n",
    "                    return True #To stop the loop\n",
    "                else:\n",
    "                    print(f\"{isbn} doesn't exist\")\n",
    "            else:\n",
    "                print(f\"{book.title} has been borrowed\")\n",
    "                return False #To stop the loop\n",
    "\n",
    "    def register_member(self, member):\n",
    "        for member in self.members:\n",
    "            if not name.member == name:\n",
    "                self.members.append(member)\n",
    "                print(f\"{member} is now a member of the library\")\n",
    "                return True\n",
    "            else:\n",
    "                print(f\"{member} is already registered\")\n",
    "                return \n",
    "        \n",
    "    def find_book(self, isbn):\n",
    "        for book in self.book_storage:\n",
    "            if book.isbn == isbn:\n",
    "                return f\"{book}\"\n",
    "            else: \n",
    "                return f\"{isbn} not found\" \n",
    "                \n",
    "                \n",
    "    \n",
    "    def lend_book(self, member_id, isbn):\n",
    "        pass\n",
    "\n",
    "    def accept_return(member_id, isbn):\n",
    "        pass\n",
    "\n",
    "    def list_books(self):\n",
    "        for book in self.book_storage:\n",
    "            print(book)\n",
    "        \n",
    "    def search(self, query):\n",
    "        pass"
   ]
  },
  {
   "cell_type": "code",
   "execution_count": 555,
   "id": "4e53f93a-ea18-4e8a-8b2e-fcfe1886d547",
   "metadata": {},
   "outputs": [],
   "source": [
    "a_book = Book(\"Life\", \"Mamello\", \"123\", \"2025\")\n",
    "b1 = Book(\"Python Basics\", \"Alice\", \"1234\", \"2020\")\n",
    "b2 = Book(\"Advanced Python\", \"Bob\", \"456\", \"2021\")"
   ]
  },
  {
   "cell_type": "code",
   "execution_count": 556,
   "id": "928e9bca-de25-4bae-9ecc-c6274457a4a9",
   "metadata": {},
   "outputs": [],
   "source": [
    "my_lib = Library()"
   ]
  },
  {
   "cell_type": "code",
   "execution_count": 557,
   "id": "b01e8457-ef0f-4e4a-bd83-7f2957cf2681",
   "metadata": {},
   "outputs": [],
   "source": [
    "my_lib.list_books()"
   ]
  },
  {
   "cell_type": "code",
   "execution_count": 558,
   "id": "9f09aa7b-6bc5-4b2a-9c4c-6772d0a75bad",
   "metadata": {},
   "outputs": [
    {
     "name": "stdout",
     "output_type": "stream",
     "text": [
      "Python Basics - has been added to library\n"
     ]
    }
   ],
   "source": [
    "my_lib.add_book(b1)"
   ]
  },
  {
   "cell_type": "code",
   "execution_count": 560,
   "id": "84f817e2-a60e-4bf5-b716-b6a255c33433",
   "metadata": {},
   "outputs": [
    {
     "data": {
      "text/plain": [
       "'2 not found'"
      ]
     },
     "execution_count": 560,
     "metadata": {},
     "output_type": "execute_result"
    }
   ],
   "source": [
    "my_lib.find_book(\"2\")"
   ]
  },
  {
   "cell_type": "code",
   "execution_count": null,
   "id": "ed06bb0a-4476-441e-9785-b2672fecee66",
   "metadata": {},
   "outputs": [],
   "source": []
  }
 ],
 "metadata": {
  "kernelspec": {
   "display_name": "Python [conda env:base] *",
   "language": "python",
   "name": "conda-base-py"
  },
  "language_info": {
   "codemirror_mode": {
    "name": "ipython",
    "version": 3
   },
   "file_extension": ".py",
   "mimetype": "text/x-python",
   "name": "python",
   "nbconvert_exporter": "python",
   "pygments_lexer": "ipython3",
   "version": "3.13.5"
  }
 },
 "nbformat": 4,
 "nbformat_minor": 5
}
