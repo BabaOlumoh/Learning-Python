{
 "cells": [
  {
   "cell_type": "code",
   "execution_count": 221,
   "id": "f40b2b5e-95ea-4f38-b34b-5d09fda8f110",
   "metadata": {},
   "outputs": [],
   "source": [
    "class Book():\n",
    "    def __init__(self, title, author, isbn, published_year):\n",
    "        self.title = title\n",
    "        self.author = author\n",
    "        self.isbn = isbn\n",
    "        self.published_year = published_year\n",
    "        self.is_available = True\n",
    "\n",
    "    def borrow_book(self):\n",
    "        if self.is_available:\n",
    "            self.is_available = False\n",
    "            return True\n",
    "        return False\n",
    "        \n",
    "\n",
    "    def return_book(self):\n",
    "        if not self.is_available:\n",
    "            self.is_available = False\n",
    "            return True\n",
    "        return False\n",
    "        \n",
    "    def __str__(self):\n",
    "        availability = \"Available\" if self.is_available else \"Borrowed\"\n",
    "        return f\"{self.title} {self.author} {self.isbn} {self.published_year} - {availability}\""
   ]
  },
  {
   "cell_type": "code",
   "execution_count": 329,
   "id": "15a2b8a9-59e4-40fd-855b-814c7e511603",
   "metadata": {},
   "outputs": [],
   "source": [
    "class Library():\n",
    "    def __init__(self):\n",
    "        self.book_storage = []\n",
    "        \n",
    "        \n",
    "    def add_book(self, book):\n",
    "        self.book_storage.append(book)\n",
    "        print(f\"{book.title} - has been added to library\")\n",
    "\n",
    "    def remove_book(self):\n",
    "        print(\"List of books is library: \")\n",
    "        my_lib.list_books()\n",
    "        if \n",
    "        \n",
    "        \n",
    "    def register_member(self, book):\n",
    "        pass\n",
    "        \n",
    "    def find_book(self, isbn):\n",
    "        pass\n",
    "    \n",
    "    def lend_book(self, number_id, isbn):\n",
    "        pass\n",
    "\n",
    "    def list_books(self):\n",
    "        for book in self.book_storage:\n",
    "            print(book)\n",
    "        \n",
    "    def search(self, query):\n",
    "        pass"
   ]
  },
  {
   "cell_type": "code",
   "execution_count": 330,
   "id": "4e53f93a-ea18-4e8a-8b2e-fcfe1886d547",
   "metadata": {},
   "outputs": [],
   "source": [
    "a_book = Book(\"Life\", \"Mamello\", \"12345\", \"2025\")"
   ]
  },
  {
   "cell_type": "code",
   "execution_count": 331,
   "id": "928e9bca-de25-4bae-9ecc-c6274457a4a9",
   "metadata": {},
   "outputs": [],
   "source": [
    "my_lib = Library()"
   ]
  },
  {
   "cell_type": "code",
   "execution_count": 332,
   "id": "b01e8457-ef0f-4e4a-bd83-7f2957cf2681",
   "metadata": {},
   "outputs": [],
   "source": [
    "my_lib.list_books()"
   ]
  },
  {
   "cell_type": "code",
   "execution_count": 333,
   "id": "9f09aa7b-6bc5-4b2a-9c4c-6772d0a75bad",
   "metadata": {},
   "outputs": [
    {
     "name": "stdout",
     "output_type": "stream",
     "text": [
      "Life - has been added to library\n"
     ]
    }
   ],
   "source": [
    "my_lib.add_book(a_book)"
   ]
  },
  {
   "cell_type": "code",
   "execution_count": 334,
   "id": "84f817e2-a60e-4bf5-b716-b6a255c33433",
   "metadata": {},
   "outputs": [
    {
     "name": "stdout",
     "output_type": "stream",
     "text": [
      "Life Mamello 12345 2025 - Available\n",
      "Enter book isbn\n"
     ]
    }
   ],
   "source": [
    "my_lib.remove_book()"
   ]
  },
  {
   "cell_type": "code",
   "execution_count": null,
   "id": "c4833738-d5ff-4e78-b456-e39ae56cc99d",
   "metadata": {},
   "outputs": [],
   "source": []
  }
 ],
 "metadata": {
  "kernelspec": {
   "display_name": "Python [conda env:base] *",
   "language": "python",
   "name": "conda-base-py"
  },
  "language_info": {
   "codemirror_mode": {
    "name": "ipython",
    "version": 3
   },
   "file_extension": ".py",
   "mimetype": "text/x-python",
   "name": "python",
   "nbconvert_exporter": "python",
   "pygments_lexer": "ipython3",
   "version": "3.13.5"
  }
 },
 "nbformat": 4,
 "nbformat_minor": 5
}
