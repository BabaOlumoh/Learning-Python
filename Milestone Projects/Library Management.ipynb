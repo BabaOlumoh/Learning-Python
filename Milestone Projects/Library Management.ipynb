{
 "cells": [
  {
   "cell_type": "code",
   "execution_count": 359,
   "id": "f40b2b5e-95ea-4f38-b34b-5d09fda8f110",
   "metadata": {},
   "outputs": [],
   "source": [
    "class Book():\n",
    "    def __init__(self, title, author, isbn, published_year):\n",
    "        self.title = title\n",
    "        self.author = author\n",
    "        self.isbn = isbn\n",
    "        self.published_year = published_year\n",
    "        self.is_available = True\n",
    "\n",
    "    def borrow_book(self):\n",
    "        if self.is_available:\n",
    "            self.is_available = False\n",
    "            return True\n",
    "        return False\n",
    "        \n",
    "\n",
    "    def return_book(self):\n",
    "        if not self.is_available:\n",
    "            self.is_available = False\n",
    "            return True\n",
    "        return False\n",
    "        \n",
    "    def __str__(self):\n",
    "        availability = \"Available\" if self.is_available else \"Borrowed\"\n",
    "        return f\"{self.title} {self.author} {self.isbn} {self.published_year} - {availability}\""
   ]
  },
  {
   "cell_type": "code",
   "execution_count": 505,
   "id": "15a2b8a9-59e4-40fd-855b-814c7e511603",
   "metadata": {},
   "outputs": [
    {
     "ename": "IndentationError",
     "evalue": "expected an indented block after 'else' statement on line 16 (3147454340.py, line 17)",
     "output_type": "error",
     "traceback": [
      "\u001b[0;36m  Cell \u001b[0;32mIn[505], line 17\u001b[0;36m\u001b[0m\n\u001b[0;31m    print(f\"{isbn} doesn't exist\")\u001b[0m\n\u001b[0m    ^\u001b[0m\n\u001b[0;31mIndentationError\u001b[0m\u001b[0;31m:\u001b[0m expected an indented block after 'else' statement on line 16\n"
     ]
    }
   ],
   "source": [
    "class Library():\n",
    "    def __init__(self):\n",
    "        self.book_storage = []\n",
    "        \n",
    "        \n",
    "    def add_book(self, book):\n",
    "        self.book_storage.append(book)\n",
    "        print(f\"{book.title} - has been added to library\")\n",
    "\n",
    "    def remove_book(self, isbn):\n",
    "        for book in self.book_storage:\n",
    "            if book.is_available == True:\n",
    "                if book.isbn == isbn:\n",
    "                    self.book_storage.remove(book)\n",
    "                    print(f\"{isbn} - has been removed from library\")\n",
    "                    return T\n",
    "                else:\n",
    "                    print(f\"{isbn} doesn't exist\")\n",
    "            else:\n",
    "                print(f\"{book.title} has been borrowed\")\n",
    "            \n",
    "        \n",
    "        \n",
    "    def register_member(self, book):\n",
    "        pass\n",
    "        \n",
    "    def find_book(self, isbn):\n",
    "        pass\n",
    "    \n",
    "    def lend_book(self, number_id, isbn):\n",
    "        pass\n",
    "\n",
    "    def list_books(self):\n",
    "        for book in self.book_storage:\n",
    "            print(book)\n",
    "        \n",
    "    def search(self, query):\n",
    "        pass"
   ]
  },
  {
   "cell_type": "code",
   "execution_count": 487,
   "id": "4e53f93a-ea18-4e8a-8b2e-fcfe1886d547",
   "metadata": {},
   "outputs": [],
   "source": [
    "a_book = Book(\"Life\", \"Mamello\", \"123\", \"2025\")\n",
    "b1 = Book(\"Python Basics\", \"Alice\", \"1234\", \"2020\")\n",
    "b2 = Book(\"Advanced Python\", \"Bob\", \"456\", \"2021\")"
   ]
  },
  {
   "cell_type": "code",
   "execution_count": 488,
   "id": "928e9bca-de25-4bae-9ecc-c6274457a4a9",
   "metadata": {},
   "outputs": [],
   "source": [
    "my_lib = Library()"
   ]
  },
  {
   "cell_type": "code",
   "execution_count": 496,
   "id": "b01e8457-ef0f-4e4a-bd83-7f2957cf2681",
   "metadata": {},
   "outputs": [
    {
     "name": "stdout",
     "output_type": "stream",
     "text": [
      "Python Basics Alice 1234 2020 - Available\n",
      "Advanced Python Bob 456 2021 - Available\n",
      "Life Mamello 123 2025 - Available\n"
     ]
    }
   ],
   "source": [
    "my_lib.list_books()"
   ]
  },
  {
   "cell_type": "code",
   "execution_count": 495,
   "id": "9f09aa7b-6bc5-4b2a-9c4c-6772d0a75bad",
   "metadata": {},
   "outputs": [
    {
     "name": "stdout",
     "output_type": "stream",
     "text": [
      "Life - has been added to library\n"
     ]
    }
   ],
   "source": [
    "my_lib.add_book(a_book)"
   ]
  },
  {
   "cell_type": "code",
   "execution_count": 504,
   "id": "84f817e2-a60e-4bf5-b716-b6a255c33433",
   "metadata": {},
   "outputs": [
    {
     "name": "stdout",
     "output_type": "stream",
     "text": [
      "123 doesn't exist\n",
      "Life has been borrowed\n"
     ]
    }
   ],
   "source": [
    "my_lib.remove_book(\"123\")"
   ]
  },
  {
   "cell_type": "code",
   "execution_count": 465,
   "id": "c4833738-d5ff-4e78-b456-e39ae56cc99d",
   "metadata": {},
   "outputs": [
    {
     "data": {
      "text/plain": [
       "'123'"
      ]
     },
     "execution_count": 465,
     "metadata": {},
     "output_type": "execute_result"
    }
   ],
   "source": [
    "a_book.isbn"
   ]
  },
  {
   "cell_type": "code",
   "execution_count": 503,
   "id": "a372784a-34af-4a32-9a03-1827b292dcd3",
   "metadata": {},
   "outputs": [
    {
     "data": {
      "text/plain": [
       "False"
      ]
     },
     "execution_count": 503,
     "metadata": {},
     "output_type": "execute_result"
    }
   ],
   "source": [
    "a_book.borrow_book()"
   ]
  },
  {
   "cell_type": "code",
   "execution_count": null,
   "id": "3b285e0c-8cc4-448e-bc21-4c9e012d4041",
   "metadata": {},
   "outputs": [],
   "source": []
  }
 ],
 "metadata": {
  "kernelspec": {
   "display_name": "Python [conda env:base] *",
   "language": "python",
   "name": "conda-base-py"
  },
  "language_info": {
   "codemirror_mode": {
    "name": "ipython",
    "version": 3
   },
   "file_extension": ".py",
   "mimetype": "text/x-python",
   "name": "python",
   "nbconvert_exporter": "python",
   "pygments_lexer": "ipython3",
   "version": "3.13.5"
  }
 },
 "nbformat": 4,
 "nbformat_minor": 5
}
