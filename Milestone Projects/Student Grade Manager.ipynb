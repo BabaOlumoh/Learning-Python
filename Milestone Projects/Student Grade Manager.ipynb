{
 "cells": [
  {
   "cell_type": "code",
   "execution_count": 284,
   "id": "b2fa3614-ad60-42da-9d80-e4a93f9d1802",
   "metadata": {},
   "outputs": [],
   "source": [
    "import statistics\n",
    "class Student:\n",
    "    def __init__(self, name, student_id, grades):\n",
    "        self.name = name\n",
    "        self.student_id = student_id\n",
    "        self.grades = grades\n",
    "        \n",
    "    def add_grade(self, subject, score):\n",
    "        self.grades.update({subject:score})\n",
    "\n",
    "    def calculate_average(self):\n",
    "        result = statistics.mean(list(self.grades.values()))\n",
    "        return result\n",
    "\n",
    "    def display_info(self):\n",
    "        return f\"Name: {self.name}, Student_ID: {self.student_id}, Grades: {self.grades}, Average: {self.calculate_average()}\"\n",
    "        \n",
    "    def __str__(self):\n",
    "        return f\"{self.name} - {self.student_id}: {self.grades}\"\n",
    "        "
   ]
  },
  {
   "cell_type": "code",
   "execution_count": 285,
   "id": "7b05f921-336a-4714-8fc2-7c3f085080d4",
   "metadata": {},
   "outputs": [],
   "source": [
    "class School:\n",
    "    def __init__(self):\n",
    "        self.students = []\n",
    "\n",
    "    def add_student(self, student):\n",
    "        self.students.append(student)\n",
    "\n",
    "    def show_all_students(self):\n",
    "        for student in self.students:\n",
    "            print(student)\n",
    "\n",
    "    def find_student(self, student_id):\n",
    "        for student in self.students:\n",
    "            if student_id == student.student_id:\n",
    "                print(student)\n",
    "                return student\n",
    "        print(f\"{student_id} not found\")\n",
    "        return None"
   ]
  },
  {
   "cell_type": "code",
   "execution_count": 286,
   "id": "dd27e4f5-ad7d-4a45-a61e-afb6ac2ddf9f",
   "metadata": {},
   "outputs": [],
   "source": [
    "john = Student(\"John\", \"MAT001\", {\"Math\": 85, \"English\": 90, \"Science\": 78, \"History\": 88})\n",
    "mary = Student(\"Mary\", \"MAT002\", {\"Math\": 70, \"English\": 82, \"Science\": 75, \"History\": 80})\n",
    "david = Student(\"David\", \"MAT003\", {\"Math\": 95, \"English\": 89, \"Science\": 92, \"History\": 94})\n",
    "sarah = Student(\"Sarah\", \"MAT004\", {\"Math\": 60, \"English\": 65, \"Science\": 58, \"History\": 62})\n",
    "grace = Student(\"Grace\", \"MAT005\", {\"Math\": 78, \"English\": 85, \"Science\": 80, \"History\": 76})"
   ]
  },
  {
   "cell_type": "code",
   "execution_count": 287,
   "id": "362bab43-885e-4092-a730-859a472d7828",
   "metadata": {},
   "outputs": [],
   "source": [
    "model = School()"
   ]
  },
  {
   "cell_type": "code",
   "execution_count": 288,
   "id": "f3368204-98e5-46af-a5b3-083306ec8dd7",
   "metadata": {},
   "outputs": [],
   "source": [
    "model.students = [john, mary, david, sarah, grace]"
   ]
  },
  {
   "cell_type": "code",
   "execution_count": 289,
   "id": "45261d85-bf98-4d98-b910-bccba20abe26",
   "metadata": {},
   "outputs": [],
   "source": [
    "mel = Student(\"Mel\", \"MAT006\", {\"Math\": 90, \"English\": 95, \"Science\": 82, \"History\": 83})"
   ]
  },
  {
   "cell_type": "code",
   "execution_count": 290,
   "id": "48eeb7b7-3a98-4aa1-8eb0-01ccfea0aaf4",
   "metadata": {},
   "outputs": [],
   "source": [
    "model.add_student(mel)"
   ]
  },
  {
   "cell_type": "code",
   "execution_count": 296,
   "id": "5b7f5219-9906-4573-b976-4a9c5e60040d",
   "metadata": {},
   "outputs": [
    {
     "name": "stdout",
     "output_type": "stream",
     "text": [
      "John - MAT001: {'Math': 90, 'English': 90, 'Science': 78, 'History': 88}\n",
      "Mary - MAT002: {'Math': 70, 'English': 82, 'Science': 75, 'History': 80}\n",
      "David - MAT003: {'Math': 95, 'English': 89, 'Science': 92, 'History': 94}\n",
      "Sarah - MAT004: {'Math': 60, 'English': 65, 'Science': 58, 'History': 62}\n",
      "Grace - MAT005: {'Math': 78, 'English': 85, 'Science': 80, 'History': 76}\n",
      "Mel - MAT006: {'Math': 90, 'English': 95, 'Science': 82, 'History': 83}\n"
     ]
    }
   ],
   "source": [
    "model.show_all_students()"
   ]
  },
  {
   "cell_type": "code",
   "execution_count": 292,
   "id": "bc194337-f09d-496f-93b8-aa0e18a6d47e",
   "metadata": {},
   "outputs": [
    {
     "name": "stdout",
     "output_type": "stream",
     "text": [
      "MAT007 not found\n"
     ]
    },
    {
     "data": {
      "text/plain": [
       "False"
      ]
     },
     "execution_count": 292,
     "metadata": {},
     "output_type": "execute_result"
    }
   ],
   "source": [
    "model.find_student(\"MAT007\")"
   ]
  },
  {
   "cell_type": "code",
   "execution_count": 293,
   "id": "4f3a223e-9aa4-47d5-8b59-a1317de2229d",
   "metadata": {},
   "outputs": [
    {
     "data": {
      "text/plain": [
       "87.5"
      ]
     },
     "execution_count": 293,
     "metadata": {},
     "output_type": "execute_result"
    }
   ],
   "source": [
    "mel.calculate_average()"
   ]
  },
  {
   "cell_type": "code",
   "execution_count": 294,
   "id": "0c168a87-fe53-4ac3-9af9-c0d25e88a117",
   "metadata": {},
   "outputs": [
    {
     "data": {
      "text/plain": [
       "\"Name: John, Student_ID: MAT001, Grades: {'Math': 85, 'English': 90, 'Science': 78, 'History': 88}, Average: 85.25\""
      ]
     },
     "execution_count": 294,
     "metadata": {},
     "output_type": "execute_result"
    }
   ],
   "source": [
    "john.display_info()"
   ]
  },
  {
   "cell_type": "code",
   "execution_count": 295,
   "id": "df5e35a9-5908-471a-b448-2f7adbf5a75c",
   "metadata": {},
   "outputs": [],
   "source": [
    "john.add_grade(\"Math\", 90)"
   ]
  },
  {
   "cell_type": "code",
   "execution_count": null,
   "id": "52d535a8-ef2b-451e-b79f-7de37040f06f",
   "metadata": {},
   "outputs": [],
   "source": []
  }
 ],
 "metadata": {
  "kernelspec": {
   "display_name": "Python [conda env:base] *",
   "language": "python",
   "name": "conda-base-py"
  },
  "language_info": {
   "codemirror_mode": {
    "name": "ipython",
    "version": 3
   },
   "file_extension": ".py",
   "mimetype": "text/x-python",
   "name": "python",
   "nbconvert_exporter": "python",
   "pygments_lexer": "ipython3",
   "version": "3.13.5"
  }
 },
 "nbformat": 4,
 "nbformat_minor": 5
}
