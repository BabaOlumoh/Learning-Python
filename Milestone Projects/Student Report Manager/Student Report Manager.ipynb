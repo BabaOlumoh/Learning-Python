{
 "cells": [
  {
   "cell_type": "code",
   "execution_count": 366,
   "id": "375f31ee-1bca-45c9-8b6f-b404ca41f56a",
   "metadata": {},
   "outputs": [],
   "source": [
    "import statistics\n",
    "import datetime\n",
    "import os\n",
    "import shutil\n",
    "import glob\n",
    "import send2trash\n",
    "\n",
    "class Student:\n",
    "    def __init__(self, name, student_id, grades, average):\n",
    "        self.name = name\n",
    "        self.student_id = student_id\n",
    "        self.grades = grades\n",
    "        self.average = average\n",
    "\n",
    "    def add_grade(self, subject, score):\n",
    "        self.grades.update({subject:score})\n",
    "\n",
    "    def calculate_average(self):\n",
    "        self.average = statistics.mean(list(self.grades.values()))\n",
    "        return self.average\n",
    "\n",
    "    def display_info(self):\n",
    "        return f\"Name: {self.name} | Student_ID: {self.student_id} | Grades: {self.grades} | Average {self.average}\" \n",
    "\n",
    "    def generate_report(self):\n",
    "        getdate = datetime.datetime.now()\n",
    "        title = getdate.strftime(\"%Y%m%d\")\n",
    "        with open(f\"singlereport{title}.txt\", \"a+\") as f:\n",
    "            f.write(self.display_info())\n",
    "\n",
    "    def __str__(self):\n",
    "        return f\"{self.name} {self.student_id} {self.average}\"\n",
    "        "
   ]
  },
  {
   "cell_type": "code",
   "execution_count": 367,
   "id": "49fe5bd7-87a0-4cab-9d65-748394db937d",
   "metadata": {},
   "outputs": [],
   "source": [
    "class School:\n",
    "    def __init__(self):\n",
    "        self.students= []\n",
    "\n",
    "    def add_student(self, student):\n",
    "        self.students.append(student)\n",
    "\n",
    "    def show_all_students(self):\n",
    "        for student in self.students:\n",
    "            print(student.display_info())\n",
    "\n",
    "    def find_student(self, student_id):\n",
    "        for student in self.students:\n",
    "            if student_id == student.student_id:\n",
    "                print(student.display_info())\n",
    "                return None\n",
    "        print(f\"{student_id} not found!\")\n",
    "        return None\n",
    "\n",
    "    def generate_all_reports(self):\n",
    "        directory = \"Report_Directory\"\n",
    "        path = os.path.join(os.getcwd(), directory)\n",
    "        try:\n",
    "            os.makedirs(path, exist_ok = True)\n",
    "            print(f\"{directory} created successfully\")\n",
    "        except OSError as error:\n",
    "            print(f\"{directory} already exist\")\n",
    "        finally:\n",
    "            gen_getdate = datetime.datetime.now()\n",
    "            gen_title = gen_getdate.strftime(\"%Y%m%d\")\n",
    "            for student in self.students:\n",
    "                with open(os.path.join(path, f\"{student.name}_report{gen_title}.txt\"), \"a+\") as f:\n",
    "                    f.write(f\"{student.display_info()}\\n\")\n",
    "                with open(os.path.join(path, f\"report{gen_title}.txt\"), \"a+\") as f:\n",
    "                    f.write(f\"{student.display_info()}\\n\")\n",
    "\n",
    "    def back_reports(self):\n",
    "        directory = \"Backup_Directory\"\n",
    "        destination = os.path.join(os.getcwd(), directory)\n",
    "        source = glob.glob(os.path.join(os.getcwd(), \"Report_Directory/*.txt\"))\n",
    "        try:\n",
    "            os.makedirs(destination, exist_ok = True)\n",
    "            print(f\"{directory} created successfully\")\n",
    "        except OSError as error:\n",
    "            print(f\"{directory} already exist\")\n",
    "        finally:\n",
    "            for file in source:\n",
    "                shutil.copy(file, destination)\n",
    "                print(f\"The following files {os.path.basename(file)} have been copied to {directory}\")\n",
    "            \n",
    "    def delete_all_reports(self):\n",
    "        directory = \"Report_Directory\"\n",
    "        destination = glob.glob(os.path.join(os.getcwd(), \"Report_Directory/*.txt\"))\n",
    "        for file in destination:\n",
    "            send2trash.send2trash(file)\n",
    "            print(f\"The following files: {os.path.basename(file)} have been sent to bin\")\n",
    "            "
   ]
  },
  {
   "cell_type": "code",
   "execution_count": 368,
   "id": "a03fff98-6165-44f2-b9f6-bb2053e1122c",
   "metadata": {},
   "outputs": [],
   "source": [
    "john = Student(\"John\", \"MAT001\", {\"Math\": 85, \"English\": 90, \"Science\": 78, \"History\": 88}, 0)\n",
    "mary = Student(\"Mary\", \"MAT002\", {\"Math\": 70, \"English\": 82, \"Science\": 75, \"History\": 80}, 0)\n",
    "david = Student(\"David\", \"MAT003\", {\"Math\": 95, \"English\": 89, \"Science\": 92, \"History\": 94}, 0)\n",
    "sarah = Student(\"Sarah\", \"MAT004\", {\"Math\": 60, \"English\": 65, \"Science\": 58, \"History\": 62}, 0)\n",
    "grace = Student(\"Grace\", \"MAT005\", {\"Math\": 78, \"English\": 85, \"Science\": 80, \"History\": 76}, 0)"
   ]
  },
  {
   "cell_type": "code",
   "execution_count": 369,
   "id": "a62341e5-b950-42ca-8020-8b00b8e36c88",
   "metadata": {},
   "outputs": [],
   "source": [
    "model = School()"
   ]
  },
  {
   "cell_type": "code",
   "execution_count": 370,
   "id": "1b2c793e-f78a-4e92-80c2-b2fc2647ee2f",
   "metadata": {},
   "outputs": [],
   "source": [
    "model.students = [john, mary, david, sarah, grace]"
   ]
  },
  {
   "cell_type": "code",
   "execution_count": 371,
   "id": "2837b5e2-7789-4df5-a775-85cdce268adb",
   "metadata": {},
   "outputs": [],
   "source": [
    "john.add_grade(\"Chem\", 7)"
   ]
  },
  {
   "cell_type": "code",
   "execution_count": 372,
   "id": "b4a4f4fe-392c-485e-8c7f-197f2af2b5b2",
   "metadata": {},
   "outputs": [
    {
     "data": {
      "text/plain": [
       "79.75"
      ]
     },
     "execution_count": 372,
     "metadata": {},
     "output_type": "execute_result"
    }
   ],
   "source": [
    "grace.calculate_average()"
   ]
  },
  {
   "cell_type": "code",
   "execution_count": 373,
   "id": "352186c2-df92-4b97-8969-d5e85fe83b30",
   "metadata": {},
   "outputs": [
    {
     "data": {
      "text/plain": [
       "\"Name: Grace | Student_ID: MAT005 | Grades: {'Math': 78, 'English': 85, 'Science': 80, 'History': 76} | Average 79.75\""
      ]
     },
     "execution_count": 373,
     "metadata": {},
     "output_type": "execute_result"
    }
   ],
   "source": [
    "grace.display_info()"
   ]
  },
  {
   "cell_type": "code",
   "execution_count": 374,
   "id": "9e83852e-afcd-4e1d-8503-3c5e922fd5cd",
   "metadata": {},
   "outputs": [],
   "source": [
    "john.generate_report()"
   ]
  },
  {
   "cell_type": "code",
   "execution_count": 375,
   "id": "d00e3715-c998-4e41-9dcb-4a480ea10acb",
   "metadata": {},
   "outputs": [],
   "source": [
    "mel = Student(\"Mel\", \"MAT006\", {\"Math\": 83, \"English\": 90, \"Science\": 85, \"History\": 81}, 0)"
   ]
  },
  {
   "cell_type": "code",
   "execution_count": 376,
   "id": "9b785d25-00d4-4f62-954f-ea06a2a146fe",
   "metadata": {},
   "outputs": [],
   "source": [
    "#model.add_student(mel)"
   ]
  },
  {
   "cell_type": "code",
   "execution_count": 377,
   "id": "198e33d8-3353-45de-9af2-a755b8105a79",
   "metadata": {},
   "outputs": [
    {
     "name": "stdout",
     "output_type": "stream",
     "text": [
      "Name: John | Student_ID: MAT001 | Grades: {'Math': 85, 'English': 90, 'Science': 78, 'History': 88, 'Chem': 7} | Average 0\n",
      "Name: Mary | Student_ID: MAT002 | Grades: {'Math': 70, 'English': 82, 'Science': 75, 'History': 80} | Average 0\n",
      "Name: David | Student_ID: MAT003 | Grades: {'Math': 95, 'English': 89, 'Science': 92, 'History': 94} | Average 0\n",
      "Name: Sarah | Student_ID: MAT004 | Grades: {'Math': 60, 'English': 65, 'Science': 58, 'History': 62} | Average 0\n",
      "Name: Grace | Student_ID: MAT005 | Grades: {'Math': 78, 'English': 85, 'Science': 80, 'History': 76} | Average 79.75\n"
     ]
    }
   ],
   "source": [
    "model.show_all_students()"
   ]
  },
  {
   "cell_type": "code",
   "execution_count": 378,
   "id": "4c884de4-49f1-4057-9cdd-07d2d4eeb16a",
   "metadata": {},
   "outputs": [
    {
     "name": "stdout",
     "output_type": "stream",
     "text": [
      "Name: John | Student_ID: MAT001 | Grades: {'Math': 85, 'English': 90, 'Science': 78, 'History': 88, 'Chem': 7} | Average 0\n"
     ]
    }
   ],
   "source": [
    "model.find_student(\"MAT001\")"
   ]
  },
  {
   "cell_type": "code",
   "execution_count": 379,
   "id": "c7055474-dea7-48c6-9480-d0a513af15ae",
   "metadata": {},
   "outputs": [
    {
     "name": "stdout",
     "output_type": "stream",
     "text": [
      "Report_Directory created successfully\n"
     ]
    }
   ],
   "source": [
    "model.generate_all_reports()"
   ]
  },
  {
   "cell_type": "code",
   "execution_count": 382,
   "id": "6e2df221-1e6f-4da6-9092-e380a9e1ff52",
   "metadata": {},
   "outputs": [
    {
     "name": "stdout",
     "output_type": "stream",
     "text": [
      "Backup_Directory created successfully\n",
      "The above files have been copied to Backup_Directory\n"
     ]
    }
   ],
   "source": [
    "model.back_reports()"
   ]
  },
  {
   "cell_type": "code",
   "execution_count": 383,
   "id": "d189c173-0900-4083-a627-69e144df22ab",
   "metadata": {},
   "outputs": [
    {
     "name": "stdout",
     "output_type": "stream",
     "text": [
      "The following files have been sent to bin\n"
     ]
    }
   ],
   "source": [
    "model.delete_all_reports()"
   ]
  },
  {
   "cell_type": "code",
   "execution_count": 246,
   "id": "758bda75-1115-40bd-9f94-3af02b41b471",
   "metadata": {},
   "outputs": [],
   "source": [
    "import os\n",
    "getcwd = os.getcwd()"
   ]
  },
  {
   "cell_type": "code",
   "execution_count": 245,
   "id": "0ad3f364-059d-4d88-8568-82e05842f97e",
   "metadata": {},
   "outputs": [
    {
     "name": "stdout",
     "output_type": "stream",
     "text": [
      "/Users/homebase/Desktop/Python/Udemy Course/Milestone Projects/Student Report Manager/file.txt\n"
     ]
    }
   ],
   "source": [
    "print(os.path.join(backup_path, \"file.txt\"))"
   ]
  },
  {
   "cell_type": "code",
   "execution_count": 250,
   "id": "7e7c716e-7bcc-4dac-adf8-c96358f63126",
   "metadata": {},
   "outputs": [],
   "source": [
    "backup_path = os.path.join(backup_path, \"file.txt\")"
   ]
  },
  {
   "cell_type": "code",
   "execution_count": 251,
   "id": "cfda7d11-585d-4e89-bf30-f2a99f62cec1",
   "metadata": {},
   "outputs": [],
   "source": [
    "with open(\"backup_path\", \"w+\") as f:\n",
    "    f.write(\"This is a txt file\")"
   ]
  },
  {
   "cell_type": "code",
   "execution_count": 252,
   "id": "d4853de5-532b-4ffe-a19a-f66bf6037b79",
   "metadata": {},
   "outputs": [],
   "source": [
    "report_directory = \"Report_Directory\"\n",
    "backup_directory = \"Backup_Directory\""
   ]
  },
  {
   "cell_type": "code",
   "execution_count": 253,
   "id": "f53da9cc-e207-4e80-8b9c-7be7f045e034",
   "metadata": {},
   "outputs": [],
   "source": [
    "report_path = os.path.join(os.getcwd(), report_directory)\n"
   ]
  },
  {
   "cell_type": "code",
   "execution_count": 282,
   "id": "59c0d50a-ef60-4edf-9a62-9e7ab7894a41",
   "metadata": {},
   "outputs": [
    {
     "ename": "FileExistsError",
     "evalue": "[Errno 17] File exists: '/Users/homebase/Desktop/Python/Udemy Course/Milestone Projects/Student Report Manager/Report_Directory'",
     "output_type": "error",
     "traceback": [
      "\u001b[0;31m---------------------------------------------------------------------------\u001b[0m",
      "\u001b[0;31mFileExistsError\u001b[0m                           Traceback (most recent call last)",
      "Cell \u001b[0;32mIn[282], line 1\u001b[0m\n\u001b[0;32m----> 1\u001b[0m os\u001b[38;5;241m.\u001b[39mmakedirs(report_path)\n",
      "File \u001b[0;32m/opt/anaconda3/lib/python3.13/os.py:228\u001b[0m, in \u001b[0;36mmakedirs\u001b[0;34m(name, mode, exist_ok)\u001b[0m\n\u001b[1;32m    226\u001b[0m         \u001b[38;5;28;01mreturn\u001b[39;00m\n\u001b[1;32m    227\u001b[0m \u001b[38;5;28;01mtry\u001b[39;00m:\n\u001b[0;32m--> 228\u001b[0m     mkdir(name, mode)\n\u001b[1;32m    229\u001b[0m \u001b[38;5;28;01mexcept\u001b[39;00m \u001b[38;5;167;01mOSError\u001b[39;00m:\n\u001b[1;32m    230\u001b[0m     \u001b[38;5;66;03m# Cannot rely on checking for EEXIST, since the operating system\u001b[39;00m\n\u001b[1;32m    231\u001b[0m     \u001b[38;5;66;03m# could give priority to other errors like EACCES or EROFS\u001b[39;00m\n\u001b[1;32m    232\u001b[0m     \u001b[38;5;28;01mif\u001b[39;00m \u001b[38;5;129;01mnot\u001b[39;00m exist_ok \u001b[38;5;129;01mor\u001b[39;00m \u001b[38;5;129;01mnot\u001b[39;00m path\u001b[38;5;241m.\u001b[39misdir(name):\n",
      "\u001b[0;31mFileExistsError\u001b[0m: [Errno 17] File exists: '/Users/homebase/Desktop/Python/Udemy Course/Milestone Projects/Student Report Manager/Report_Directory'"
     ]
    }
   ],
   "source": [
    "os.makedirs(report_path)"
   ]
  },
  {
   "cell_type": "code",
   "execution_count": 260,
   "id": "dd5eb4e6-c60a-4f1a-97aa-87088b3d49e0",
   "metadata": {},
   "outputs": [
    {
     "name": "stdout",
     "output_type": "stream",
     "text": [
      "/Users/homebase/Desktop/Python/Udemy Course/Milestone Projects/Student Report Manager/Report_Directory already exist\n"
     ]
    }
   ],
   "source": [
    "try:\n",
    "    os.makedirs(report_path)\n",
    "    print(f\"{report_path} created successfully\")\n",
    "except OSError as error:\n",
    "    print(f\"{report_path} already exist\")"
   ]
  },
  {
   "cell_type": "code",
   "execution_count": null,
   "id": "4415071a-1ebe-42ba-b3d9-78d42bb922c5",
   "metadata": {},
   "outputs": [],
   "source": []
  }
 ],
 "metadata": {
  "kernelspec": {
   "display_name": "Python [conda env:base] *",
   "language": "python",
   "name": "conda-base-py"
  },
  "language_info": {
   "codemirror_mode": {
    "name": "ipython",
    "version": 3
   },
   "file_extension": ".py",
   "mimetype": "text/x-python",
   "name": "python",
   "nbconvert_exporter": "python",
   "pygments_lexer": "ipython3",
   "version": "3.13.5"
  }
 },
 "nbformat": 4,
 "nbformat_minor": 5
}
