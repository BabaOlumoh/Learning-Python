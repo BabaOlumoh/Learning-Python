{
 "cells": [
  {
   "cell_type": "code",
   "execution_count": 1,
   "id": "375f31ee-1bca-45c9-8b6f-b404ca41f56a",
   "metadata": {},
   "outputs": [],
   "source": [
    "class Student:\n",
    "    def __init__(self, name, student_id, grades, average):\n",
    "        self.name = name\n",
    "        self.student_id = student_id\n",
    "        self.grades = grades\n",
    "        self.average = average\n",
    "\n",
    "    def add_grade(self, subject, score):\n",
    "        pass\n",
    "\n",
    "    def calculate_average(self):\n",
    "        pass\n",
    "\n",
    "    def generate_report(self):\n",
    "        pass\n",
    "\n",
    "    def __str__(self):\n",
    "        return f\"{self.name} {self.student_id} {self.average}\"\n",
    "        "
   ]
  },
  {
   "cell_type": "code",
   "execution_count": null,
   "id": "49fe5bd7-87a0-4cab-9d65-748394db937d",
   "metadata": {},
   "outputs": [],
   "source": [
    "class School:\n",
    "    def __init__(self):\n",
    "        self.students= []\n",
    "\n",
    "    def add_student(self, student):\n",
    "        pass\n",
    "\n",
    "    def show_all_students(self):\n",
    "        pass\n",
    "\n",
    "    def find_student(self, student_id):\n",
    "        pass\n",
    "\n",
    "    def generate_all_reports()(self, student):\n",
    "        pass\n"
   ]
  }
 ],
 "metadata": {
  "kernelspec": {
   "display_name": "Python [conda env:base] *",
   "language": "python",
   "name": "conda-base-py"
  },
  "language_info": {
   "codemirror_mode": {
    "name": "ipython",
    "version": 3
   },
   "file_extension": ".py",
   "mimetype": "text/x-python",
   "name": "python",
   "nbconvert_exporter": "python",
   "pygments_lexer": "ipython3",
   "version": "3.13.5"
  }
 },
 "nbformat": 4,
 "nbformat_minor": 5
}
