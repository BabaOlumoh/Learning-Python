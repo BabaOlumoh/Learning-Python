{
 "cells": [
  {
   "cell_type": "code",
   "execution_count": 197,
   "id": "375f31ee-1bca-45c9-8b6f-b404ca41f56a",
   "metadata": {},
   "outputs": [],
   "source": [
    "import statistics\n",
    "import datetime\n",
    "class Student:\n",
    "    def __init__(self, name, student_id, grades, average):\n",
    "        self.name = name\n",
    "        self.student_id = student_id\n",
    "        self.grades = grades\n",
    "        self.average = average\n",
    "\n",
    "    def add_grade(self, subject, score):\n",
    "        self.grades.update({subject:score})\n",
    "\n",
    "    def calculate_average(self):\n",
    "        self.average = statistics.mean(list(self.grades.values()))\n",
    "        return self.average\n",
    "\n",
    "    def display_info(self):\n",
    "        return f\"Name: {self.name} | Student_ID: {self.student_id} | Grades: {self.grades} | Average {self.average}\" \n",
    "\n",
    "    def generate_report(self):\n",
    "        getdate = datetime.datetime.now()\n",
    "        title = getdate.strftime(\"%Y%m%d\")\n",
    "        with open(f\"singlereport{title}.txt\", \"a+\") as f:\n",
    "            f.write(Student.display_info(self))\n",
    "\n",
    "    def __str__(self):\n",
    "        return f\"{self.name} {self.student_id} {self.average}\"\n",
    "        "
   ]
  },
  {
   "cell_type": "code",
   "execution_count": 225,
   "id": "49fe5bd7-87a0-4cab-9d65-748394db937d",
   "metadata": {},
   "outputs": [],
   "source": [
    "class School:\n",
    "    def __init__(self):\n",
    "        self.students= []\n",
    "\n",
    "    def add_student(self, student):\n",
    "        self.students.append(student)\n",
    "\n",
    "    def show_all_students(self):\n",
    "        for student in self.students:\n",
    "            print(student.display_info())\n",
    "\n",
    "    def find_student(self, student_id):\n",
    "        for student in self.students:\n",
    "            if student_id == student.student_id:\n",
    "                print(student.display_info())\n",
    "                return None\n",
    "        print(f\"{student_id} not found!\")\n",
    "        return None\n",
    "\n",
    "    def generate_all_reports(self):\n",
    "        gen_getdate = datetime.datetime.now()\n",
    "        gen_title = gen_getdate.strftime(\"%Y%m%d\")\n",
    "        for student in self.students:\n",
    "            with open(f\"{student.name}report{gen_title}.txt\", \"a+\") as f:\n",
    "                f.write(f\"{student.display_info()}\\n\")\n",
    "            with open(f\"report{gen_title}.txt\", \"a+\") as f:\n",
    "                f.write(f\"{student.display_info()}\\n\")\n",
    "\n",
    "    def back_reports(self):\n",
    "        pass\n",
    "\n",
    "    def delete_all_reports(self):\n",
    "        pass"
   ]
  },
  {
   "cell_type": "code",
   "execution_count": 212,
   "id": "a03fff98-6165-44f2-b9f6-bb2053e1122c",
   "metadata": {},
   "outputs": [],
   "source": [
    "john = Student(\"John\", \"MAT001\", {\"Math\": 85, \"English\": 90, \"Science\": 78, \"History\": 88}, 0)\n",
    "mary = Student(\"Mary\", \"MAT002\", {\"Math\": 70, \"English\": 82, \"Science\": 75, \"History\": 80}, 0)\n",
    "david = Student(\"David\", \"MAT003\", {\"Math\": 95, \"English\": 89, \"Science\": 92, \"History\": 94}, 0)\n",
    "sarah = Student(\"Sarah\", \"MAT004\", {\"Math\": 60, \"English\": 65, \"Science\": 58, \"History\": 62}, 0)\n",
    "grace = Student(\"Grace\", \"MAT005\", {\"Math\": 78, \"English\": 85, \"Science\": 80, \"History\": 76}, 0)"
   ]
  },
  {
   "cell_type": "code",
   "execution_count": 213,
   "id": "a62341e5-b950-42ca-8020-8b00b8e36c88",
   "metadata": {},
   "outputs": [],
   "source": [
    "model = School()"
   ]
  },
  {
   "cell_type": "code",
   "execution_count": 214,
   "id": "1b2c793e-f78a-4e92-80c2-b2fc2647ee2f",
   "metadata": {},
   "outputs": [],
   "source": [
    "model.students = [john, mary, david, sarah, grace]"
   ]
  },
  {
   "cell_type": "code",
   "execution_count": 215,
   "id": "2837b5e2-7789-4df5-a775-85cdce268adb",
   "metadata": {},
   "outputs": [],
   "source": [
    "john.add_grade(\"Chem\", 7)"
   ]
  },
  {
   "cell_type": "code",
   "execution_count": 216,
   "id": "b4a4f4fe-392c-485e-8c7f-197f2af2b5b2",
   "metadata": {},
   "outputs": [
    {
     "data": {
      "text/plain": [
       "79.75"
      ]
     },
     "execution_count": 216,
     "metadata": {},
     "output_type": "execute_result"
    }
   ],
   "source": [
    "grace.calculate_average()"
   ]
  },
  {
   "cell_type": "code",
   "execution_count": 217,
   "id": "352186c2-df92-4b97-8969-d5e85fe83b30",
   "metadata": {},
   "outputs": [
    {
     "data": {
      "text/plain": [
       "\"Name: Grace | Student_ID: MAT005 | Grades: {'Math': 78, 'English': 85, 'Science': 80, 'History': 76} | Average 79.75\""
      ]
     },
     "execution_count": 217,
     "metadata": {},
     "output_type": "execute_result"
    }
   ],
   "source": [
    "grace.display_info()"
   ]
  },
  {
   "cell_type": "code",
   "execution_count": 218,
   "id": "9e83852e-afcd-4e1d-8503-3c5e922fd5cd",
   "metadata": {},
   "outputs": [],
   "source": [
    "john.generate_report()"
   ]
  },
  {
   "cell_type": "code",
   "execution_count": 219,
   "id": "d00e3715-c998-4e41-9dcb-4a480ea10acb",
   "metadata": {},
   "outputs": [],
   "source": [
    "mel = Student(\"Mel\", \"MAT006\", {\"Math\": 83, \"English\": 90, \"Science\": 85, \"History\": 81}, 0)"
   ]
  },
  {
   "cell_type": "code",
   "execution_count": 220,
   "id": "9b785d25-00d4-4f62-954f-ea06a2a146fe",
   "metadata": {},
   "outputs": [],
   "source": [
    "#model.add_student(mel)"
   ]
  },
  {
   "cell_type": "code",
   "execution_count": 221,
   "id": "198e33d8-3353-45de-9af2-a755b8105a79",
   "metadata": {},
   "outputs": [
    {
     "name": "stdout",
     "output_type": "stream",
     "text": [
      "Name: John | Student_ID: MAT001 | Grades: {'Math': 85, 'English': 90, 'Science': 78, 'History': 88, 'Chem': 7} | Average 0\n",
      "Name: Mary | Student_ID: MAT002 | Grades: {'Math': 70, 'English': 82, 'Science': 75, 'History': 80} | Average 0\n",
      "Name: David | Student_ID: MAT003 | Grades: {'Math': 95, 'English': 89, 'Science': 92, 'History': 94} | Average 0\n",
      "Name: Sarah | Student_ID: MAT004 | Grades: {'Math': 60, 'English': 65, 'Science': 58, 'History': 62} | Average 0\n",
      "Name: Grace | Student_ID: MAT005 | Grades: {'Math': 78, 'English': 85, 'Science': 80, 'History': 76} | Average 79.75\n"
     ]
    }
   ],
   "source": [
    "model.show_all_students()"
   ]
  },
  {
   "cell_type": "code",
   "execution_count": 222,
   "id": "4c884de4-49f1-4057-9cdd-07d2d4eeb16a",
   "metadata": {},
   "outputs": [
    {
     "name": "stdout",
     "output_type": "stream",
     "text": [
      "Name: John | Student_ID: MAT001 | Grades: {'Math': 85, 'English': 90, 'Science': 78, 'History': 88, 'Chem': 7} | Average 0\n"
     ]
    }
   ],
   "source": [
    "model.find_student(\"MAT001\")"
   ]
  },
  {
   "cell_type": "code",
   "execution_count": 226,
   "id": "c7055474-dea7-48c6-9480-d0a513af15ae",
   "metadata": {},
   "outputs": [],
   "source": [
    "model.generate_all_reports()"
   ]
  },
  {
   "cell_type": "code",
   "execution_count": null,
   "id": "758bda75-1115-40bd-9f94-3af02b41b471",
   "metadata": {},
   "outputs": [],
   "source": []
  }
 ],
 "metadata": {
  "kernelspec": {
   "display_name": "Python [conda env:base] *",
   "language": "python",
   "name": "conda-base-py"
  },
  "language_info": {
   "codemirror_mode": {
    "name": "ipython",
    "version": 3
   },
   "file_extension": ".py",
   "mimetype": "text/x-python",
   "name": "python",
   "nbconvert_exporter": "python",
   "pygments_lexer": "ipython3",
   "version": "3.13.5"
  }
 },
 "nbformat": 4,
 "nbformat_minor": 5
}
