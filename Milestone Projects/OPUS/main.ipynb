{
 "cells": [
  {
   "cell_type": "code",
   "execution_count": 91,
   "id": "e6cd464f-527c-453c-80e8-ad4871f43f13",
   "metadata": {},
   "outputs": [],
   "source": [
    "import os\n",
    "import shutil\n",
    "import time"
   ]
  },
  {
   "cell_type": "code",
   "execution_count": 2,
   "id": "00db8731-66dd-4b94-b562-742b5e19ebfc",
   "metadata": {},
   "outputs": [
    {
     "data": {
      "text/plain": [
       "'/Users/homebase/Desktop/Python/Udemy Course/Milestone Projects/OPUS'"
      ]
     },
     "execution_count": 2,
     "metadata": {},
     "output_type": "execute_result"
    }
   ],
   "source": [
    "os.getcwd()"
   ]
  },
  {
   "cell_type": "code",
   "execution_count": 130,
   "id": "828bb80e-9cfc-4796-84cb-77303cea9ac5",
   "metadata": {},
   "outputs": [],
   "source": [
    "processing_dir = '/Users/homebase/Desktop/Python/Udemy Course/Milestone Projects/Daily-File-Organiser'"
   ]
  },
  {
   "cell_type": "code",
   "execution_count": 127,
   "id": "19056b43-1db1-4f29-b4d1-1b3769aa9b0d",
   "metadata": {},
   "outputs": [
    {
     "data": {
      "text/plain": [
       "['main.ipynb',\n",
       " 'Archive',\n",
       " 'Folder2',\n",
       " 'Log',\n",
       " '.ipynb_checkpoints',\n",
       " 'Folder1',\n",
       " 'main.py',\n",
       " 'Backup',\n",
       " 'Downloads']"
      ]
     },
     "execution_count": 127,
     "metadata": {},
     "output_type": "execute_result"
    }
   ],
   "source": [
    "os.listdir(processing_dir)"
   ]
  },
  {
   "cell_type": "code",
   "execution_count": 116,
   "id": "b44613c2-1c71-4d0b-8e05-729b5e737a1a",
   "metadata": {},
   "outputs": [],
   "source": [
    "source = os.path.join(processing_dir)\n",
    "destination = os.path.join(os.getcwd(), \"Dest\")"
   ]
  },
  {
   "cell_type": "code",
   "execution_count": 139,
   "id": "cb08143b-d002-4071-88b3-535022c5e730",
   "metadata": {},
   "outputs": [
    {
     "name": "stdout",
     "output_type": "stream",
     "text": [
      "Folder2\n",
      "Folder1\n"
     ]
    }
   ],
   "source": [
    "destination = os.path.join(os.getcwd(), \"Dest\")\n",
    "for folder, sub_folders, files in os.walk(processing_dir):\n",
    "    \n",
    "    if os.path.basename(folder) not in [\"Folder1\", \"Folder2\"]: #ignore other folders except these\n",
    "            continue\n",
    "    for file in files:\n",
    "        if file.endswith(\".pdf\"):\n",
    "            source = os.path.join(folder, file)\n",
    "            shutil.copy(source, destination)\n",
    "            time.sleep(2)\n",
    "        if file.endswith(\".csv\"):\n",
    "            source = os.path.join(folder, file)\n",
    "            shutil.copy(source, destination)\n",
    "            time.sleep(10)\n",
    "\n",
    "processing_folders = os.path.join(processing_dir, \"Archive\")\n",
    "for folder in os.listdir(processing_dir):\n",
    "    source = os.path.join(processing_dir, folder)\n",
    "    if not folder in [\"Folder1\", \"Folder2\"]:\n",
    "        continue\n",
    "    shutil.move(source, processing_folders)\n",
    "\n",
    "    print(folder)"
   ]
  },
  {
   "cell_type": "code",
   "execution_count": 136,
   "id": "b3e03282-8d8c-4773-b6f0-7103efa18efe",
   "metadata": {},
   "outputs": [],
   "source": [
    "processing_folders = os.path.join(processing_dir, \"Archive\")"
   ]
  },
  {
   "cell_type": "code",
   "execution_count": 137,
   "id": "216d1b64-ca87-4954-b8e9-89823be93d1e",
   "metadata": {},
   "outputs": [
    {
     "data": {
      "text/plain": [
       "'/Users/homebase/Desktop/Python/Udemy Course/Milestone Projects/Daily-File-Organiser/Archive'"
      ]
     },
     "execution_count": 137,
     "metadata": {},
     "output_type": "execute_result"
    }
   ],
   "source": [
    "processing_folders"
   ]
  },
  {
   "cell_type": "code",
   "execution_count": 135,
   "id": "d88e671a-4691-4ef2-a206-e60d5f36a6b0",
   "metadata": {},
   "outputs": [],
   "source": [
    "\n",
    "    "
   ]
  },
  {
   "cell_type": "code",
   "execution_count": 117,
   "id": "44a16d7a-9ebd-4f68-8218-5e5b5a680407",
   "metadata": {},
   "outputs": [
    {
     "data": {
      "text/plain": [
       "'/Users/homebase/Desktop/Python/Udemy Course/Milestone Projects/Daily-File-Organiser'"
      ]
     },
     "execution_count": 117,
     "metadata": {},
     "output_type": "execute_result"
    }
   ],
   "source": [
    "source = os.path.join(processing_dir, )"
   ]
  },
  {
   "cell_type": "code",
   "execution_count": 103,
   "id": "4f44067d-a53f-46ac-9505-2b45ad38bb7c",
   "metadata": {},
   "outputs": [
    {
     "data": {
      "text/plain": [
       "'/Users/homebase/Desktop/Python/Udemy Course/Milestone Projects/OPUS/Dest'"
      ]
     },
     "execution_count": 103,
     "metadata": {},
     "output_type": "execute_result"
    }
   ],
   "source": [
    "destination"
   ]
  },
  {
   "cell_type": "code",
   "execution_count": null,
   "id": "ea1433f0-5ed9-4033-9638-05f5169f04fd",
   "metadata": {},
   "outputs": [],
   "source": []
  }
 ],
 "metadata": {
  "kernelspec": {
   "display_name": "Python [conda env:base] *",
   "language": "python",
   "name": "conda-base-py"
  },
  "language_info": {
   "codemirror_mode": {
    "name": "ipython",
    "version": 3
   },
   "file_extension": ".py",
   "mimetype": "text/x-python",
   "name": "python",
   "nbconvert_exporter": "python",
   "pygments_lexer": "ipython3",
   "version": "3.13.5"
  }
 },
 "nbformat": 4,
 "nbformat_minor": 5
}
