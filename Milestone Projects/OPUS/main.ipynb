{
 "cells": [
  {
   "cell_type": "code",
   "execution_count": 130,
   "id": "828bb80e-9cfc-4796-84cb-77303cea9ac5",
   "metadata": {},
   "outputs": [],
   "source": [
    "processing_dir = '/Users/homebase/Desktop/Python/Udemy Course/Milestone Projects/Daily-File-Organiser'"
   ]
  },
  {
   "cell_type": "code",
   "execution_count": 127,
   "id": "19056b43-1db1-4f29-b4d1-1b3769aa9b0d",
   "metadata": {},
   "outputs": [
    {
     "data": {
      "text/plain": [
       "['main.ipynb',\n",
       " 'Archive',\n",
       " 'Folder2',\n",
       " 'Log',\n",
       " '.ipynb_checkpoints',\n",
       " 'Folder1',\n",
       " 'main.py',\n",
       " 'Backup',\n",
       " 'Downloads']"
      ]
     },
     "execution_count": 127,
     "metadata": {},
     "output_type": "execute_result"
    }
   ],
   "source": [
    "os.listdir(processing_dir)"
   ]
  },
  {
   "cell_type": "code",
   "execution_count": 116,
   "id": "b44613c2-1c71-4d0b-8e05-729b5e737a1a",
   "metadata": {},
   "outputs": [],
   "source": [
    "source = os.path.join(processing_dir)\n",
    "destination = os.path.join(os.getcwd(), \"Dest\")"
   ]
  },
  {
   "cell_type": "code",
   "execution_count": 168,
   "id": "cb08143b-d002-4071-88b3-535022c5e730",
   "metadata": {},
   "outputs": [],
   "source": [
    "processing_dir = os.path.join(os.getcwd(), 'Processing')\n",
    "destination = os.path.join(os.getcwd(), \"Dest\")\n",
    "for folder, sub_folders, files in os.walk(processing_dir):\n",
    "    \n",
    "    if os.path.basename(folder) in [\"Archive\"]: #ignore Archive\n",
    "            continue\n",
    "    for file in files:\n",
    "        if file.endswith(\".pdf\"):\n",
    "            source = os.path.join(folder, file)\n",
    "            shutil.copy(source, destination)\n",
    "            time.sleep(2)\n",
    "        if file.endswith(\".csv\"):\n",
    "            source = os.path.join(folder, file)\n",
    "            shutil.copy(source, destination)\n",
    "            time.sleep(10)\n",
    "\n",
    "processing_folders = os.path.join(processing_dir, \"Archive\")\n",
    "for folder in os.listdir(processing_dir):\n",
    "    source = os.path.join(processing_dir, folder)\n",
    "    shutil.move(source, processing_folders)"
   ]
  },
  {
   "cell_type": "code",
   "execution_count": 271,
   "id": "ea1433f0-5ed9-4033-9638-05f5169f04fd",
   "metadata": {},
   "outputs": [],
   "source": [
    "#Inbound Process\n",
    "import paramiko\n",
    "import sys\n",
    "import shutil\n",
    "import time\n",
    "import posixpath\n",
    "import datetime\n",
    "\n",
    "#Today's date\n",
    "get_date = datetime.datetime.now().strftime(\"%Y%m%d_%H%M\")\n",
    "\n",
    "#path variables\n",
    "local = os.path.join(os.getcwd(), 'Processing')\n",
    "remote = '/Files/ScannedDocs/'\n",
    "archive = os.path.join(local, \"Archive\")\n",
    " \n",
    "\n",
    "#Paramiko instancw\n",
    "client = paramiko.SSHClient()\n",
    "client.load_system_host_keys()\n",
    "client.set_missing_host_key_policy(paramiko.AutoAddPolicy())\n",
    "client.connect(hostname = '192.168.64.3', username = 'testuser', password = 'TempPassword1')\n",
    "\n",
    "with open(f\"/Users/homebase/Desktop/Python/Udemy Course/Milestone Projects/OPUS/Processing/Log/Inbound/{get_date}\", 'a') as f:\n",
    "    f.write(f\"============= {get_date} Processing =============\\n\")\n",
    "    with client.open_sftp() as sftp:\n",
    "        for folder, sub_folders, files in os.walk(local):\n",
    "            if os.path.basename(folder) in ['Archive', 'Log', 'Outbound']:\n",
    "                continue\n",
    "    \n",
    "            for file in files:\n",
    "                if file.endswith(\".pdf\") or file.endswith(\".csv\"):\n",
    "                    local_source = os.path.join(folder, file)\n",
    "                    remote_destination = posixpath.join(remote, file)\n",
    "                    sftp.put(local_source, remote_destination)\n",
    "                    f.write(f\"Uploading {os.path.basename(local_source)} to {remote}\\n\")\n",
    "                    \n",
    "            if file.endswith(\".pdf\"):\n",
    "                time.sleep(2)\n",
    "    \n",
    "            if file.endswith(\".csv\"):\n",
    "                time.sleep(10)\n",
    "    client.close()\n",
    "    \n",
    "    \n",
    "    for folder in os.listdir(local):\n",
    "        if os.path.basename(folder) in ['Archive', 'Log', '.ipynb_checkpoints', 'Outbound']:\n",
    "                continue\n",
    "        source = os.path.join(local, folder)\n",
    "        shutil.move(source, archive)\n",
    "        f.write(f\"{os.path.basename(folder)} moved into Archive \\n\")"
   ]
  },
  {
   "cell_type": "code",
   "execution_count": 166,
   "id": "3e1ac808-88f3-46c5-b77a-25f90e549f17",
   "metadata": {},
   "outputs": [],
   "source": [
    "source = os.path.join(os.getcwd(), 'Processing')"
   ]
  },
  {
   "cell_type": "code",
   "execution_count": 167,
   "id": "4ffee2e9-ff4f-4e43-856c-5b674642dbae",
   "metadata": {},
   "outputs": [
    {
     "data": {
      "text/plain": [
       "['Archive', 'Folder2', 'Folder1']"
      ]
     },
     "execution_count": 167,
     "metadata": {},
     "output_type": "execute_result"
    }
   ],
   "source": [
    "os.listdir(source)"
   ]
  },
  {
   "cell_type": "code",
   "execution_count": 178,
   "id": "6a5c0ebb-82cd-459f-bfbe-0221f4524a5d",
   "metadata": {},
   "outputs": [],
   "source": [
    "import datetime\n",
    "get_date = datetime.datetime.now().strftime(\"%Y%m%d_%H%M\")"
   ]
  },
  {
   "cell_type": "code",
   "execution_count": 179,
   "id": "03b90187-a3fe-439a-be9c-caf9da0798d0",
   "metadata": {},
   "outputs": [
    {
     "data": {
      "text/plain": [
       "'20251005_1621'"
      ]
     },
     "execution_count": 179,
     "metadata": {},
     "output_type": "execute_result"
    }
   ],
   "source": [
    "get_date"
   ]
  },
  {
   "cell_type": "code",
   "execution_count": 257,
   "id": "7c467597-6b8b-453a-ae59-8fa94f79ce7c",
   "metadata": {},
   "outputs": [
    {
     "name": "stdout",
     "output_type": "stream",
     "text": [
      "file1.pdf moved to Outbound\n",
      "file2.pdf moved to Outbound\n",
      "file3.pdf moved to Outbound\n",
      "file4.pdf moved to Outbound\n",
      "file5.pdf moved to Outbound\n"
     ]
    }
   ],
   "source": [
    "import os\n",
    "import shutil\n",
    "\n",
    "destination = os.path.join(os.getcwd(), 'Processing/Outbound')\n",
    "outbound_file = os.path.join(os.getcwd(), \"Outbound Folder\")\n",
    "for file in os.listdir(outbound_file):\n",
    "    source_file = os.path.join(outbound_file, file)\n",
    "    \n",
    "    if os.path.isfile(source_file): #skip folders\n",
    "        if file.endswith(\".pdf\"):\n",
    "            shutil.move(source_file, destination)\n",
    "            print(f\"{os.path.basename(source_file)} moved to {os.path.basename(destination)}\")"
   ]
  },
  {
   "cell_type": "code",
   "execution_count": 220,
   "id": "eacea32c-681c-4c0c-b243-5a0216cf1b7e",
   "metadata": {},
   "outputs": [
    {
     "data": {
      "text/plain": [
       "'/Users/homebase/Desktop/Python/Udemy Course/Milestone Projects/OPUS/Outbound Folder'"
      ]
     },
     "execution_count": 220,
     "metadata": {},
     "output_type": "execute_result"
    }
   ],
   "source": [
    "outbound_file"
   ]
  },
  {
   "cell_type": "code",
   "execution_count": 251,
   "id": "171b5868-ba8f-4e01-baf0-5ea9f762e0a9",
   "metadata": {},
   "outputs": [],
   "source": [
    "destination = os.path.join(os.getcwd(), 'Processing/Outbound')"
   ]
  },
  {
   "cell_type": "code",
   "execution_count": 252,
   "id": "b0fa2932-3391-48be-b827-d83978e585c1",
   "metadata": {},
   "outputs": [
    {
     "data": {
      "text/plain": [
       "'/Users/homebase/Desktop/Python/Udemy Course/Milestone Projects/OPUS/Processing/Outbound'"
      ]
     },
     "execution_count": 252,
     "metadata": {},
     "output_type": "execute_result"
    }
   ],
   "source": [
    "destination"
   ]
  },
  {
   "cell_type": "code",
   "execution_count": 222,
   "id": "08d8eec5-3b69-41e7-8275-d7330294cc1a",
   "metadata": {},
   "outputs": [
    {
     "name": "stdout",
     "output_type": "stream",
     "text": [
      "file1.pdf\n",
      "folder2\n",
      "file2.pdf\n",
      "file3.pdf\n",
      "file4.pdf\n",
      "file5.pdf\n",
      ".ipynb_checkpoints\n",
      "folder1\n"
     ]
    }
   ],
   "source": [
    "for file in os.listdir(outbound_file):\n",
    "    print(file)"
   ]
  },
  {
   "cell_type": "code",
   "execution_count": 277,
   "id": "a300f256-72e4-440b-b98a-8d90658aee27",
   "metadata": {},
   "outputs": [],
   "source": [
    "#Otbound Process\n",
    "\n",
    "#path variables\n",
    "local_path = os.path.join(os.getcwd(), 'Processing/Outbound/Reprocess')\n",
    "remote = '/Files/OPUS/'\n",
    "\n",
    "#Paramiko instance\n",
    "client = paramiko.SSHClient()\n",
    "client.load_system_host_keys()\n",
    "client.set_missing_host_key_policy(paramiko.AutoAddPolicy())\n",
    "client.connect(hostname = '192.168.64.3', username = 'testuser', password = 'TempPassword1')\n",
    "\n",
    "with open(f\"Processing/Log/Outbound/{get_date}_outbound_log\", 'a') as f:\n",
    "    f.write(f\"============= {get_date} Outbound Processing =============\\n\")\n",
    "    with client.open_sftp() as sftp:\n",
    "        remote_files = sftp.listdir(remote) #os.listdir()\n",
    "        for file in remote_files:\n",
    "            if file.endswith(\".pdf\"):\n",
    "                source = posixpath.join(remote, file)\n",
    "                download_path = os.path.join(local_path, file)\n",
    "                sftp.get(source, download_path)\n",
    "                f.write(f\"{os.path.basename(source)} downloaded to {os.path.basename(local_path)}\\n\")\n",
    "\n",
    "                sftp.remove(source)\n",
    "                f.write(f\"{os.path.basename(source)} deleted\\n\")\n",
    "    client.close()"
   ]
  },
  {
   "cell_type": "code",
   "execution_count": null,
   "id": "b9335da2-385e-4943-b754-02570c8edf70",
   "metadata": {},
   "outputs": [],
   "source": []
  }
 ],
 "metadata": {
  "kernelspec": {
   "display_name": "Python [conda env:base] *",
   "language": "python",
   "name": "conda-base-py"
  },
  "language_info": {
   "codemirror_mode": {
    "name": "ipython",
    "version": 3
   },
   "file_extension": ".py",
   "mimetype": "text/x-python",
   "name": "python",
   "nbconvert_exporter": "python",
   "pygments_lexer": "ipython3",
   "version": "3.13.5"
  }
 },
 "nbformat": 4,
 "nbformat_minor": 5
}
