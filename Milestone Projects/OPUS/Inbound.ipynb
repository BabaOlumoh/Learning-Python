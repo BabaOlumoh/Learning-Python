{
 "cells": [
  {
   "cell_type": "code",
   "execution_count": null,
   "id": "8e972b4e-0f2a-4279-a94b-af598794522d",
   "metadata": {},
   "outputs": [],
   "source": []
  },
  {
   "cell_type": "code",
   "execution_count": 3,
   "id": "e50f1da3-c0fb-4b4d-ab80-e31ffe29e17a",
   "metadata": {},
   "outputs": [],
   "source": [
    "#Inbound Process\n",
    "import paramiko\n",
    "import sys\n",
    "import shutil\n",
    "import time\n",
    "import posixpath\n",
    "import datetime\n",
    "import os\n",
    "\n",
    "#Today's date\n",
    "get_date = datetime.datetime.now().strftime(\"%Y%m%d_%H%M\")\n",
    "\n",
    "#path variables\n",
    "local = os.path.join(os.getcwd(), 'Processing')\n",
    "remote = '/Files/ScannedDocs/'\n",
    "archive = os.path.join(local, \"Archive\")\n",
    " \n",
    "\n",
    "#Paramiko instancw\n",
    "client = paramiko.SSHClient()\n",
    "client.load_system_host_keys()\n",
    "client.set_missing_host_key_policy(paramiko.AutoAddPolicy())\n",
    "client.connect(hostname = '192.168.64.3', username = 'testuser', password = 'TempPassword1')\n",
    "\n",
    "with open(f\"/Users/homebase/Desktop/Python/Udemy Course/Milestone Projects/OPUS/Processing/Log/Inbound/{get_date}\", 'a') as f:\n",
    "    f.write(f\"============= {get_date} Processing =============\\n\")\n",
    "    with client.open_sftp() as sftp:\n",
    "        for folder, sub_folders, files in os.walk(local):\n",
    "            if os.path.basename(folder) in ['Archive', 'Log', 'Outbound']: #Ignore these folders\n",
    "                continue\n",
    "    \n",
    "            for file in files:\n",
    "                if file.endswith(\".pdf\") or file.endswith(\".csv\"):\n",
    "                    local_source = os.path.join(folder, file)\n",
    "                    remote_destination = posixpath.join(remote, file)\n",
    "                    sftp.put(local_source, remote_destination)\n",
    "                    f.write(f\"Uploading {os.path.basename(local_source)} to {remote}\\n\")\n",
    "                    \n",
    "                if file.endswith(\".pdf\"):\n",
    "                    time.sleep(2)\n",
    "    \n",
    "                if file.endswith(\".csv\"):\n",
    "                    time.sleep(10)\n",
    "    client.close()\n",
    "    \n",
    "    \n",
    "    for folder in os.listdir(local):\n",
    "        if os.path.basename(folder) in ['Archive', 'Log', '.ipynb_checkpoints', 'Outbound']: #Ignore these folders\n",
    "                continue\n",
    "        source = os.path.join(local, folder)\n",
    "        shutil.move(source, archive)\n",
    "        f.write(f\"{os.path.basename(folder)} moved into Archive \\n\")"
   ]
  }
 ],
 "metadata": {
  "kernelspec": {
   "display_name": "Python [conda env:base] *",
   "language": "python",
   "name": "conda-base-py"
  },
  "language_info": {
   "codemirror_mode": {
    "name": "ipython",
    "version": 3
   },
   "file_extension": ".py",
   "mimetype": "text/x-python",
   "name": "python",
   "nbconvert_exporter": "python",
   "pygments_lexer": "ipython3",
   "version": "3.13.5"
  }
 },
 "nbformat": 4,
 "nbformat_minor": 5
}
