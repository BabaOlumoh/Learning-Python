{
 "cells": [
  {
   "cell_type": "code",
   "execution_count": null,
   "id": "7ea7f15e-aa2c-4fa9-a54f-0dff16cbe95d",
   "metadata": {},
   "outputs": [],
   "source": [
    "#Outbound Process\n",
    "\n",
    "#path variables\n",
    "local_path = os.path.join(os.getcwd(), 'Processing/Outbound/Reprocess')\n",
    "remote = '/Files/OPUS/'\n",
    "\n",
    "#Paramiko instance\n",
    "client = paramiko.SSHClient()\n",
    "client.load_system_host_keys()\n",
    "client.set_missing_host_key_policy(paramiko.AutoAddPolicy())\n",
    "client.connect(hostname = '192.168.64.3', username = 'testuser', password = 'TempPassword1')\n",
    "\n",
    "with open(f\"Processing/Log/Outbound/{get_date}_outbound_log\", 'a') as f:\n",
    "    f.write(f\"============= {get_date} Outbound Processing =============\\n\")\n",
    "    with client.open_sftp() as sftp:\n",
    "        remote_location = sftp.listdir(remote) #os.listdir()\n",
    "        for file in remote_location:\n",
    "            if file.endswith(\".pdf\"):\n",
    "                source = posixpath.join(remote, file)\n",
    "                download_path = os.path.join(local_path, file)\n",
    "                sftp.get(source, download_path)\n",
    "                f.write(f\"{os.path.basename(source)} downloaded to {os.path.basename(local_path)}\\n\")\n",
    "\n",
    "                sftp.remove(source)\n",
    "                f.write(f\"{os.path.basename(source)} deleted\\n\")\n",
    "    client.close()"
   ]
  }
 ],
 "metadata": {
  "kernelspec": {
   "display_name": "Python [conda env:base] *",
   "language": "python",
   "name": "conda-base-py"
  },
  "language_info": {
   "codemirror_mode": {
    "name": "ipython",
    "version": 3
   },
   "file_extension": ".py",
   "mimetype": "text/x-python",
   "name": "python",
   "nbconvert_exporter": "python",
   "pygments_lexer": "ipython3",
   "version": "3.13.5"
  }
 },
 "nbformat": 4,
 "nbformat_minor": 5
}
