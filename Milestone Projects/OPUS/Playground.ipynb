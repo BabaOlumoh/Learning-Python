{
 "cells": [
  {
   "cell_type": "raw",
   "id": "250b97c7-145a-402e-b5dd-88bc7bc93882",
   "metadata": {},
   "source": [
    "import json\n",
    "\n",
    "with open(\"config.json\") as f:\n",
    "    config = json.load(f)\n",
    "\n",
    "db_user = config[\"database\"][\"user\"]\n",
    "db_pass = config[\"database\"][\"password\"]\n",
    "print(db_user, db_pass)"
   ]
  },
  {
   "cell_type": "code",
   "execution_count": 4,
   "id": "bf4a3b32-9aa2-409a-89b8-8b963b514e96",
   "metadata": {},
   "outputs": [
    {
     "name": "stdout",
     "output_type": "stream",
     "text": [
      "testuser TempPassword1\n"
     ]
    }
   ],
   "source": [
    "import json\n",
    "\n",
    "with open(\"config.json\") as f:\n",
    "    config = json.load(f)\n",
    "\n",
    "db_user = config[\"sftp\"][\"username\"]\n",
    "db_pass = config[\"sftp\"][\"password\"]\n",
    "print(db_user, db_pass)"
   ]
  },
  {
   "cell_type": "code",
   "execution_count": null,
   "id": "d1e74ba1-4310-4804-ae28-027b4f4d9a05",
   "metadata": {},
   "outputs": [],
   "source": []
  }
 ],
 "metadata": {
  "kernelspec": {
   "display_name": "Python [conda env:base] *",
   "language": "python",
   "name": "conda-base-py"
  },
  "language_info": {
   "codemirror_mode": {
    "name": "ipython",
    "version": 3
   },
   "file_extension": ".py",
   "mimetype": "text/x-python",
   "name": "python",
   "nbconvert_exporter": "python",
   "pygments_lexer": "ipython3",
   "version": "3.13.5"
  }
 },
 "nbformat": 4,
 "nbformat_minor": 5
}
