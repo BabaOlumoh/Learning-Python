{
 "cells": [
  {
   "cell_type": "code",
   "execution_count": 44,
   "id": "40882633-2152-4a7b-baff-336eb76721c9",
   "metadata": {},
   "outputs": [],
   "source": [
    "class Movie():\n",
    "    def __init__(self, title, genre, year, movie_id):\n",
    "        self.title = title\n",
    "        self.genre = genre\n",
    "        self.year = year\n",
    "        self.movie_id = movie_id\n",
    "        self.is_available = True\n",
    "\n",
    "    def rent_movie(self):\n",
    "        if self.is_available:\n",
    "            self.is_available = False\n",
    "            return True\n",
    "        return False\n",
    "\n",
    "    def return_movie(self):\n",
    "        if self.is_available == False:\n",
    "            self.is_available = True\n",
    "            return True\n",
    "        return False\n",
    "\n",
    "    def __str__(self):\n",
    "        availability = \"Available\" if self.is_available else \"Borrowed\"\n",
    "        return f\"{self.title} {self.genre} {self.year} {self.movie_id} - {availability}\""
   ]
  },
  {
   "cell_type": "code",
   "execution_count": 48,
   "id": "e50eadeb-63a0-4079-b1c2-48e66dfde632",
   "metadata": {},
   "outputs": [],
   "source": [
    "class Customer():\n",
    "    def __init__(self, name, customer_id):\n",
    "        self.name = name\n",
    "        self.customer_id = customer_id\n",
    "        self.rented_movies = []\n",
    "\n",
    "    def list_rented_movies(self):\n",
    "        pass\n",
    "\n",
    "    def __str__(self):\n",
    "        return f\"{self.name} {self.customer_id}\""
   ]
  },
  {
   "cell_type": "code",
   "execution_count": 49,
   "id": "1c403d95-8a6f-492e-90d7-5c2a92af3fce",
   "metadata": {},
   "outputs": [],
   "source": [
    "class RentalStore():\n",
    "    def __init__(self):\n",
    "        self.movie_inventory = []\n",
    "        self.customers = []\n",
    "\n",
    "    def add_movie(self, movie):\n",
    "        pass\n",
    "\n",
    "    def remove_movie(self, movie):\n",
    "        pass\n",
    "\n",
    "    def register_customer(self, movie):\n",
    "        pass\n",
    "\n",
    "    def rent_movie(self, customer_id, movie_id):\n",
    "        pass\n",
    "\n",
    "    def return_movie(self, customer_id, movie_id):\n",
    "        pass\n",
    "\n",
    "    def list_movie(self, movie):\n",
    "        pass\n",
    "\n",
    "    def search(self, query):\n",
    "        pass"
   ]
  },
  {
   "cell_type": "code",
   "execution_count": 50,
   "id": "7eccd80a-1ddc-4457-bd0a-bc2ad130abc9",
   "metadata": {},
   "outputs": [],
   "source": [
    "m1 = Movie(\"Inception\", \"Science Fiction\", \"2010\", \"M001\")\n",
    "m2 = Movie(\"The Dark Knight\", \"Action\", \"2008\", \"M002\")\n",
    "m3 = Movie(\"Black Panther\", \"Superhero\", \"2018\", \"M003\")"
   ]
  },
  {
   "cell_type": "code",
   "execution_count": 51,
   "id": "51f0927e-c900-413a-8c65-cb37d1de3279",
   "metadata": {},
   "outputs": [],
   "source": [
    "c1 = Customer(\"Alice Johnson\", \"C001\")\n",
    "c2 = Customer(\"Bob Smith\", \"C002\")\n",
    "c3 = Customer(\"Charlie Brown\", \"C003\")"
   ]
  },
  {
   "cell_type": "code",
   "execution_count": 52,
   "id": "03880b00-facf-47e4-8a0c-245ca4ab132f",
   "metadata": {},
   "outputs": [
    {
     "data": {
      "text/plain": [
       "'Alice Johnson'"
      ]
     },
     "execution_count": 52,
     "metadata": {},
     "output_type": "execute_result"
    }
   ],
   "source": [
    "c1.name"
   ]
  }
 ],
 "metadata": {
  "kernelspec": {
   "display_name": "Python [conda env:base] *",
   "language": "python",
   "name": "conda-base-py"
  },
  "language_info": {
   "codemirror_mode": {
    "name": "ipython",
    "version": 3
   },
   "file_extension": ".py",
   "mimetype": "text/x-python",
   "name": "python",
   "nbconvert_exporter": "python",
   "pygments_lexer": "ipython3",
   "version": "3.13.5"
  }
 },
 "nbformat": 4,
 "nbformat_minor": 5
}
