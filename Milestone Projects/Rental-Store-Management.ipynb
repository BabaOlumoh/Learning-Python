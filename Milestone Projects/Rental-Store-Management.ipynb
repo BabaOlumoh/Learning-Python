{
 "cells": [
  {
   "cell_type": "code",
   "execution_count": 328,
   "id": "40882633-2152-4a7b-baff-336eb76721c9",
   "metadata": {},
   "outputs": [],
   "source": [
    "class Movie():\n",
    "    def __init__(self, title, genre, year, movie_id):\n",
    "        self.title = title\n",
    "        self.genre = genre\n",
    "        self.year = year\n",
    "        self.movie_id = movie_id\n",
    "        self.is_available = True\n",
    "\n",
    "    def rent_movie(self):\n",
    "        if self.is_available:\n",
    "            self.is_available = False\n",
    "            return True\n",
    "        return False\n",
    "\n",
    "    def return_movie(self):\n",
    "        if self.is_available == False:\n",
    "            self.is_available = True\n",
    "            return True\n",
    "        return False\n",
    "\n",
    "    def __str__(self):\n",
    "        availability = \"Available\" if self.is_available else \"Borrowed\"\n",
    "        return f\"{self.title} {self.genre} {self.year} {self.movie_id} - {availability}\""
   ]
  },
  {
   "cell_type": "code",
   "execution_count": 329,
   "id": "e50eadeb-63a0-4079-b1c2-48e66dfde632",
   "metadata": {},
   "outputs": [],
   "source": [
    "class Customer():\n",
    "    def __init__(self, name, customer_id):\n",
    "        self.name = name\n",
    "        self.customer_id = customer_id\n",
    "        self.rented_movies = []\n",
    "\n",
    "    def list_rented_movies(self):\n",
    "        if not self.rented_movies:\n",
    "            print(\"No movies found\")\n",
    "        else:\n",
    "            for movies in self.rented_movies:\n",
    "                print(movies)\n",
    "\n",
    "    def __str__(self):\n",
    "        return f\"{self.name} {self.customer_id}\""
   ]
  },
  {
   "cell_type": "code",
   "execution_count": 574,
   "id": "1c403d95-8a6f-492e-90d7-5c2a92af3fce",
   "metadata": {},
   "outputs": [],
   "source": [
    "class RentalStore():\n",
    "    def __init__(self):\n",
    "        self.movie_inventory = []\n",
    "        self.customers = []\n",
    "\n",
    "    def add_movie(self, movie):\n",
    "        self.movie_inventory.append(movie)\n",
    "\n",
    "    def remove_movie(self, movie_id):\n",
    "        for new_movie in self.movie_inventory:\n",
    "            if new_movie.movie_id == movie_id:\n",
    "                if new_movie.is_available:\n",
    "                    self.movie_inventory.remove(new_movie)\n",
    "                    print(f\"{new_movie.title} removed successfully\")\n",
    "                    return True\n",
    "                else:\n",
    "                    print(f\"{new_movie.title} has been borrowed\")\n",
    "                    return False\n",
    "        print(f\"{movie_id} not found\")        \n",
    "        return False\n",
    "\n",
    "\n",
    "    def register_customer(self, customer):\n",
    "        for new_customer in self.customers:\n",
    "            if new_customer.customer_id == customer.customer_id:\n",
    "                print(f\"{customer} is already registered\")\n",
    "                return False\n",
    "\n",
    "        self.customers.append(customer)\n",
    "        print(f\"{customer} registered successfully!\")\n",
    "        return True\n",
    "        \n",
    "        \n",
    "\n",
    "    def rent_movie(self, customer_id, movie_id):\n",
    "        for movie in self.movie_inventory:\n",
    "            if movie.movie_id == movie_id:\n",
    "                if movie.is_available:\n",
    "                    for customer in self.customers:\n",
    "                        if customer.customer_id == customer_id:\n",
    "                            movie.is_available = False\n",
    "                            print(f\"You've borrowed {movie.title} successfully\")\n",
    "                            customer.rent_movie.append(movie)\n",
    "                            return True\n",
    "                    return \"You're not a registered member\"\n",
    "                    return False\n",
    "                \n",
    "            print(f\"{movie.title} is not available\")\n",
    "            \n",
    "        print(f\"{movie_id} not found\")\n",
    "        return False\n",
    "\n",
    "    def return_movie(self, customer_id, movie_id):\n",
    "        for movie in self.movie_inventory:\n",
    "            if movie.movie_id == movie_id:\n",
    "                if not movie.is_available:\n",
    "                    for customer in self.customers:\n",
    "                        if customer.customer_id == customer_id:\n",
    "                            movie.is_available = True\n",
    "                            print(f\"You've returned {movie.title} successfully\")\n",
    "                            customer.rent_movie.remove(movie)\n",
    "                            return True\n",
    "                    return \"You're not a registered member\"\n",
    "                    return False\n",
    "                \n",
    "            print(f\"{movie.title} is already in the library\")\n",
    "        print(f\"{movie_id} not found\")\n",
    "        return False\n",
    "\n",
    "    def list_movie(self):\n",
    "        if not self.movie_inventory:\n",
    "            print(\"No movies found\")\n",
    "        else:\n",
    "            for movies in self.movie_inventory:\n",
    "                print(movies)\n",
    "\n",
    "    def search(self, query):\n",
    "        query = query.lower()\n",
    "        results = []\n",
    "        \n",
    "        for movie in self.movie_inventory:\n",
    "            if (query in movie.title.lower() or \n",
    "                query in movie.genre.lower() or \n",
    "                query in movie.movie_id or\n",
    "                query in movie.year):\n",
    "                results.append(movie)\n",
    "\n",
    "        if results:\n",
    "            print(f\"Found {len(results)} movie(s):\")\n",
    "            for movie in results:\n",
    "                print(movie)\n",
    "        else:\n",
    "            print(f\"No movies found matching '{query}'\")\n",
    "        \n",
    "        return results"
   ]
  },
  {
   "cell_type": "code",
   "execution_count": 575,
   "id": "7eccd80a-1ddc-4457-bd0a-bc2ad130abc9",
   "metadata": {},
   "outputs": [],
   "source": [
    "m1 = Movie(\"Inception\", \"Science Fiction\", \"2010\", \"M001\")\n",
    "m2 = Movie(\"The Dark Knight\", \"Action\", \"2008\", \"M002\")\n",
    "m3 = Movie(\"Black Panther\", \"Superhero\", \"2018\", \"M003\")"
   ]
  },
  {
   "cell_type": "code",
   "execution_count": 576,
   "id": "51f0927e-c900-413a-8c65-cb37d1de3279",
   "metadata": {},
   "outputs": [],
   "source": [
    "c1 = Customer(\"Alice Johnson\", \"C001\")\n",
    "c2 = Customer(\"Bob Smith\", \"C002\")\n",
    "c3 = Customer(\"Charlie Brown\", \"C003\")"
   ]
  },
  {
   "cell_type": "code",
   "execution_count": 577,
   "id": "13e88394-7e7f-4c8f-a4f9-a6467f8b27ea",
   "metadata": {},
   "outputs": [],
   "source": [
    "rent = RentalStore()"
   ]
  },
  {
   "cell_type": "code",
   "execution_count": 578,
   "id": "dade0209-6833-4369-9d1f-e37b7e31b1cc",
   "metadata": {},
   "outputs": [],
   "source": [
    "rent.movie_inventory = [m1,m2,m3]"
   ]
  },
  {
   "cell_type": "code",
   "execution_count": 579,
   "id": "8f6c7679-7616-4efd-a9a1-33cc8025aedf",
   "metadata": {},
   "outputs": [],
   "source": [
    "rent.customers = []"
   ]
  },
  {
   "cell_type": "code",
   "execution_count": 580,
   "id": "ad8cf7b7-e394-4d53-80a8-a42f37c86abc",
   "metadata": {},
   "outputs": [
    {
     "name": "stdout",
     "output_type": "stream",
     "text": [
      "The Dark Knight removed successfully\n"
     ]
    },
    {
     "data": {
      "text/plain": [
       "True"
      ]
     },
     "execution_count": 580,
     "metadata": {},
     "output_type": "execute_result"
    }
   ],
   "source": [
    "rent.remove_movie(\"M002\")"
   ]
  },
  {
   "cell_type": "code",
   "execution_count": 581,
   "id": "2c2b7789-4f92-4a98-a9ac-e97c1338c498",
   "metadata": {},
   "outputs": [
    {
     "name": "stdout",
     "output_type": "stream",
     "text": [
      "Inception Science Fiction 2010 M001 - Available\n",
      "Black Panther Superhero 2018 M003 - Available\n"
     ]
    }
   ],
   "source": [
    "rent.list_movie()"
   ]
  },
  {
   "cell_type": "code",
   "execution_count": 582,
   "id": "dc74b874-f178-41e5-83f4-7454126b535c",
   "metadata": {},
   "outputs": [
    {
     "name": "stdout",
     "output_type": "stream",
     "text": [
      "Alice Johnson C001 registered successfully!\n"
     ]
    },
    {
     "data": {
      "text/plain": [
       "True"
      ]
     },
     "execution_count": 582,
     "metadata": {},
     "output_type": "execute_result"
    }
   ],
   "source": [
    "rent.register_customer(c1)"
   ]
  },
  {
   "cell_type": "code",
   "execution_count": 583,
   "id": "b9e68311-f0eb-44ad-8cfb-4554a0e91885",
   "metadata": {},
   "outputs": [
    {
     "name": "stdout",
     "output_type": "stream",
     "text": [
      "Found 1 movie(s):\n",
      "Black Panther Superhero 2018 M003 - Available\n"
     ]
    },
    {
     "data": {
      "text/plain": [
       "[<__main__.Movie at 0x12832a9e0>]"
      ]
     },
     "execution_count": 583,
     "metadata": {},
     "output_type": "execute_result"
    }
   ],
   "source": [
    "rent.search(\"2018\")"
   ]
  }
 ],
 "metadata": {
  "kernelspec": {
   "display_name": "Python [conda env:base] *",
   "language": "python",
   "name": "conda-base-py"
  },
  "language_info": {
   "codemirror_mode": {
    "name": "ipython",
    "version": 3
   },
   "file_extension": ".py",
   "mimetype": "text/x-python",
   "name": "python",
   "nbconvert_exporter": "python",
   "pygments_lexer": "ipython3",
   "version": "3.13.5"
  }
 },
 "nbformat": 4,
 "nbformat_minor": 5
}
