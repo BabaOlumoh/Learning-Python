{
 "cells": [
  {
   "cell_type": "code",
   "execution_count": 1,
   "id": "34246c56-fbe5-4ff9-a2a9-78c9380089cc",
   "metadata": {},
   "outputs": [
    {
     "data": {
      "text/plain": [
       "'Polymorphism refers to the way different object classes can share the same method name and then those can be called from the same place even though a variety of objects might be passed in'"
      ]
     },
     "execution_count": 1,
     "metadata": {},
     "output_type": "execute_result"
    }
   ],
   "source": [
    "#Polymorphism refers to the way different object classes can share the same method name and then those can be called from the same place even though a variety of objects might be passed in"
   ]
  },
  {
   "cell_type": "code",
   "execution_count": 2,
   "id": "366b98b1-16de-40f1-8f27-95f55ad3d76f",
   "metadata": {},
   "outputs": [],
   "source": [
    "class Dog():\n",
    "    def __init__(self, name):\n",
    "        self.name = name\n",
    "    def speak(self):\n",
    "        return self.name + \" says woof!\""
   ]
  },
  {
   "cell_type": "code",
   "execution_count": 3,
   "id": "d81be4c6-8825-49e0-8215-cfb136b64568",
   "metadata": {},
   "outputs": [],
   "source": [
    "class Cat():\n",
    "    def __init__(self, name):\n",
    "        self.name = name\n",
    "\n",
    "    def speak(self):\n",
    "        return self.name + \" says meow!\""
   ]
  },
  {
   "cell_type": "code",
   "execution_count": null,
   "id": "f64a299a-4e68-4bbe-ad23-1c500aea41e5",
   "metadata": {},
   "outputs": [],
   "source": [
    "#Note both methods share the same name and that's important"
   ]
  },
  {
   "cell_type": "code",
   "execution_count": 4,
   "id": "e9b63bfa-afa8-47ae-bd67-66aacd20e77e",
   "metadata": {},
   "outputs": [],
   "source": [
    "niko = Dog('niko')\n",
    "felix = Cat('felix')"
   ]
  },
  {
   "cell_type": "code",
   "execution_count": 5,
   "id": "6abf000c-3c6e-4fa0-b1f3-410d82f41abf",
   "metadata": {},
   "outputs": [
    {
     "name": "stdout",
     "output_type": "stream",
     "text": [
      "niko says woof!\n"
     ]
    }
   ],
   "source": [
    "print(niko.speak())"
   ]
  },
  {
   "cell_type": "code",
   "execution_count": 6,
   "id": "eee43047-f646-486e-9b13-8440f99e2065",
   "metadata": {},
   "outputs": [
    {
     "name": "stdout",
     "output_type": "stream",
     "text": [
      "felix says meow!\n"
     ]
    }
   ],
   "source": [
    "print(felix.speak())"
   ]
  },
  {
   "cell_type": "code",
   "execution_count": 7,
   "id": "50def874-cf0b-468a-9a7e-c9ef896381bd",
   "metadata": {},
   "outputs": [],
   "source": [
    "#There are two ways to implement Polymorhism\n",
    "#1. A for loop\n",
    "#2. A function"
   ]
  },
  {
   "cell_type": "code",
   "execution_count": 8,
   "id": "0bee3200-5b90-43bf-b42e-e3c31c0d9dd4",
   "metadata": {},
   "outputs": [
    {
     "name": "stdout",
     "output_type": "stream",
     "text": [
      "niko says woof!\n",
      "felix says meow!\n"
     ]
    }
   ],
   "source": [
    "#For loop\n",
    "for pet in [niko, felix]:\n",
    "    print(pet.speak())"
   ]
  },
  {
   "cell_type": "code",
   "execution_count": 11,
   "id": "d1ad7b5a-a84c-4100-9a54-ccd8819f5d15",
   "metadata": {},
   "outputs": [],
   "source": [
    "#Function\n",
    "def pet_speak(pet):\n",
    "    print(pet.speak())"
   ]
  },
  {
   "cell_type": "code",
   "execution_count": 12,
   "id": "49e28006-ce89-4e3f-b005-9e54df5a2f98",
   "metadata": {},
   "outputs": [
    {
     "name": "stdout",
     "output_type": "stream",
     "text": [
      "niko says woof!\n"
     ]
    }
   ],
   "source": [
    "pet_speak(niko)"
   ]
  },
  {
   "cell_type": "code",
   "execution_count": 13,
   "id": "82c12e0b-61c4-44bf-b87e-488e7c61edb8",
   "metadata": {},
   "outputs": [
    {
     "name": "stdout",
     "output_type": "stream",
     "text": [
      "felix says meow!\n"
     ]
    }
   ],
   "source": [
    "pet_speak(felix)"
   ]
  },
  {
   "cell_type": "code",
   "execution_count": 14,
   "id": "5cd95fc6-139c-4a88-a2b3-f261d87e7613",
   "metadata": {},
   "outputs": [],
   "source": [
    "#ABSTRACT CLASS"
   ]
  },
  {
   "cell_type": "code",
   "execution_count": 17,
   "id": "ff70d583-d429-4411-9f0a-9c4a9e9a618e",
   "metadata": {},
   "outputs": [],
   "source": [
    "#An abstract class is not to be instantiated; it doesn't need an instance because it's used as a building block for other classes to inherit from\n",
    "class Animal():\n",
    "    def __init__(self, name):\n",
    "        self.name = name\n",
    "\n",
    "    def speak(self):\n",
    "        raise NotImplementedError(\"Subclass must implement this abstract method\")"
   ]
  },
  {
   "cell_type": "code",
   "execution_count": 34,
   "id": "2ce4bdd3-7c4f-479c-bb13-067827354a6e",
   "metadata": {},
   "outputs": [],
   "source": [
    "#This class is going to inherit from the base abstract class above\n",
    "#The inherited class doesn't need a constructor as one is already implemented in the base class.\n",
    "class Dog(Animal):\n",
    "    def speak(self):\n",
    "        return self.name + \" says Woof!\""
   ]
  },
  {
   "cell_type": "code",
   "execution_count": 35,
   "id": "57668278-2e2b-471c-9ad0-7a3048f910bc",
   "metadata": {},
   "outputs": [],
   "source": [
    "class Cat(Animal):\n",
    "    def speak(self):\n",
    "        return self.name + \" says Meow!\""
   ]
  },
  {
   "cell_type": "code",
   "execution_count": 39,
   "id": "971dbc5c-2c52-4b01-971c-4b4b49ec980b",
   "metadata": {},
   "outputs": [],
   "source": [
    "fido = Dog(\"Fido\")"
   ]
  },
  {
   "cell_type": "code",
   "execution_count": 40,
   "id": "c5e515bd-11ae-4cc7-b77e-6b49c3361c84",
   "metadata": {},
   "outputs": [],
   "source": [
    "isis = Cat(\"Isis\")"
   ]
  },
  {
   "cell_type": "code",
   "execution_count": 41,
   "id": "4b6d5751-ad30-4c8c-a5c7-e326f38ccf2e",
   "metadata": {},
   "outputs": [
    {
     "name": "stdout",
     "output_type": "stream",
     "text": [
      "Fido says Woof!\n"
     ]
    }
   ],
   "source": [
    "print(fido.speak())"
   ]
  },
  {
   "cell_type": "code",
   "execution_count": 42,
   "id": "cfa8a0ad-0862-4a70-8694-169aeebec79b",
   "metadata": {},
   "outputs": [
    {
     "name": "stdout",
     "output_type": "stream",
     "text": [
      "Isis says Meow!\n"
     ]
    }
   ],
   "source": [
    "print(isis.speak())"
   ]
  },
  {
   "cell_type": "code",
   "execution_count": null,
   "id": "bd8f2dd1-89b8-4fc1-9dc8-91efb5f59e5e",
   "metadata": {},
   "outputs": [],
   "source": []
  }
 ],
 "metadata": {
  "kernelspec": {
   "display_name": "Python [conda env:base] *",
   "language": "python",
   "name": "conda-base-py"
  },
  "language_info": {
   "codemirror_mode": {
    "name": "ipython",
    "version": 3
   },
   "file_extension": ".py",
   "mimetype": "text/x-python",
   "name": "python",
   "nbconvert_exporter": "python",
   "pygments_lexer": "ipython3",
   "version": "3.13.5"
  }
 },
 "nbformat": 4,
 "nbformat_minor": 5
}
