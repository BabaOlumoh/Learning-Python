{
 "cells": [
  {
   "cell_type": "markdown",
   "id": "f4c7a4e1-6cde-450f-b8a3-4c1553a48169",
   "metadata": {},
   "source": [
    "String Formatting for Printing\n",
    "\n",
    "string interpolation = injects objects into a string with printing.\n",
    ".format - you can use .format for floating number precision {value:width.precision} i.e the result was 100/777\n",
    "fstring\n",
    "The quick brown fox\n",
    "Sam is 3 years old using both instances"
   ]
  },
  {
   "cell_type": "code",
   "execution_count": 7,
   "id": "02668599-7d3d-4a23-b5cd-5d6d48555dee",
   "metadata": {},
   "outputs": [
    {
     "name": "stdout",
     "output_type": "stream",
     "text": [
      "Python rules!\n"
     ]
    }
   ],
   "source": [
    "print(\"Python {}\".format(\"rules!\"))"
   ]
  },
  {
   "cell_type": "code",
   "execution_count": null,
   "id": "8ff6ea39-591f-4502-86be-5741828a8d73",
   "metadata": {},
   "outputs": [],
   "source": []
  }
 ],
 "metadata": {
  "kernelspec": {
   "display_name": "Python [conda env:base] *",
   "language": "python",
   "name": "conda-base-py"
  },
  "language_info": {
   "codemirror_mode": {
    "name": "ipython",
    "version": 3
   },
   "file_extension": ".py",
   "mimetype": "text/x-python",
   "name": "python",
   "nbconvert_exporter": "python",
   "pygments_lexer": "ipython3",
   "version": "3.13.5"
  }
 },
 "nbformat": 4,
 "nbformat_minor": 5
}
