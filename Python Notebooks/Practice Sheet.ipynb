{
 "cells": [
  {
   "cell_type": "code",
   "execution_count": 12,
   "id": "42319113-3ea4-48d3-ba0d-4aa3060ef9b2",
   "metadata": {},
   "outputs": [],
   "source": [
    "import math\n",
    "def distance(cord):\n",
    "    (x1,y1), (x2,y2) = cord\n",
    "    dx =x2 - x1\n",
    "    dy = y2 - y1\n",
    "    sumtotal = math.sqrt(dx**2+dy**2)\n",
    "    return sumtotal"
   ]
  },
  {
   "cell_type": "code",
   "execution_count": 13,
   "id": "008adc98-40c6-4fce-8fdb-5aa0aeda822f",
   "metadata": {},
   "outputs": [
    {
     "name": "stdout",
     "output_type": "stream",
     "text": [
      "5.0\n"
     ]
    }
   ],
   "source": [
    "cord = [(3,4),(7,1)]\n",
    "print(distance(cord))"
   ]
  },
  {
   "cell_type": "code",
   "execution_count": 15,
   "id": "4c7db5b7-c2b5-44de-aa55-2c0e784e3118",
   "metadata": {},
   "outputs": [
    {
     "data": {
      "text/plain": [
       "-0.5"
      ]
     },
     "execution_count": 15,
     "metadata": {},
     "output_type": "execute_result"
    }
   ],
   "source": [
    "(3-2)/(8-10)"
   ]
  },
  {
   "cell_type": "code",
   "execution_count": null,
   "id": "28b5fe05-1cfc-4774-8f84-c59f1b56eaec",
   "metadata": {},
   "outputs": [],
   "source": []
  }
 ],
 "metadata": {
  "kernelspec": {
   "display_name": "Python [conda env:base] *",
   "language": "python",
   "name": "conda-base-py"
  },
  "language_info": {
   "codemirror_mode": {
    "name": "ipython",
    "version": 3
   },
   "file_extension": ".py",
   "mimetype": "text/x-python",
   "name": "python",
   "nbconvert_exporter": "python",
   "pygments_lexer": "ipython3",
   "version": "3.13.5"
  }
 },
 "nbformat": 4,
 "nbformat_minor": 5
}
