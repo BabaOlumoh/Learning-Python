{
 "cells": [
  {
   "cell_type": "code",
   "execution_count": 80,
   "id": "42319113-3ea4-48d3-ba0d-4aa3060ef9b2",
   "metadata": {},
   "outputs": [],
   "source": [
    "class Library():\n",
    "    def __init__(self):\n",
    "        self.book_storage = []\n",
    "\n",
    "    def add_book(self, book):\n",
    "        self.book_storage.append(book)\n",
    "\n",
    "    def show_all_books(self):\n",
    "        for book in self.book_storage:\n",
    "            print(book)\n",
    "\n",
    "    def borrow_book(self, title):\n",
    "        for book in self.book_storage:\n",
    "            if book.title == title:\n",
    "                if book.is_available:\n",
    "                    book.is_available = False\n",
    "                    print(f\"You've borrowed {book.title}\")\n",
    "                else:\n",
    "                    print(f\"Book has been borrowed\")\n",
    "                return\n",
    "            print(\"Book doesn't exist in this library\")\n",
    "                \n",
    "\n",
    "    def return_book(self, title):\n",
    "        for book in self.book_storage:\n",
    "            if book.title == title:\n",
    "                if book.is_available:\n",
    "                    print(f\"{book.title} is already in storage\")\n",
    "                else:\n",
    "                    book.is_available = True\n",
    "                    print(f\"You've returned {book.title}\")\n",
    "                return\n",
    "        print(\"Book doesn't exist in this library\")"
   ]
  },
  {
   "cell_type": "code",
   "execution_count": 81,
   "id": "bbcf97f7-ce35-4bd1-a4fd-df9377424640",
   "metadata": {},
   "outputs": [],
   "source": [
    "class Book():\n",
    "    def __init__(self, title, author):\n",
    "        self.title = title\n",
    "        self.author = author\n",
    "        self.is_available = True\n",
    "\n",
    "    def __str__(self):\n",
    "        return f\"{self.title} by {self.author}\""
   ]
  },
  {
   "cell_type": "code",
   "execution_count": 82,
   "id": "001b212f-8ce1-4481-8ea9-8f50b31a411d",
   "metadata": {},
   "outputs": [],
   "source": [
    "my_lib = Library()"
   ]
  },
  {
   "cell_type": "code",
   "execution_count": 83,
   "id": "6cf3ab16-7c95-409a-bc32-5f6b7f3564ac",
   "metadata": {},
   "outputs": [],
   "source": [
    "tfa = Book(\"Things Fall Apart\", \"Chinua Achebe\")\n",
    "hp = Book(\"Harry Potter\", \"J.K. Rowling\")\n",
    "tslobsw =  Book(\"The Secret Lives Baba Segi's Wives\", \"Wole Soyinka\")"
   ]
  },
  {
   "cell_type": "code",
   "execution_count": 84,
   "id": "ee32dc0f-91e5-4302-a231-d099172903f7",
   "metadata": {},
   "outputs": [],
   "source": [
    "my_lib.add_book(tfa)\n",
    "my_lib.add_book(hp)\n",
    "my_lib.add_book(tslobsw)"
   ]
  },
  {
   "cell_type": "code",
   "execution_count": 85,
   "id": "33568645-69c3-4aca-8be0-bb0f83ae7268",
   "metadata": {},
   "outputs": [
    {
     "data": {
      "text/plain": [
       "<bound method Library.show_all_books of <__main__.Library object at 0x161c8c2f0>>"
      ]
     },
     "execution_count": 85,
     "metadata": {},
     "output_type": "execute_result"
    }
   ],
   "source": [
    "my_lib.show_all_books"
   ]
  },
  {
   "cell_type": "code",
   "execution_count": 86,
   "id": "87096034-1576-414e-99dc-26281b9b34ae",
   "metadata": {},
   "outputs": [
    {
     "name": "stdout",
     "output_type": "stream",
     "text": [
      "You've borrowed Things Fall Apart\n"
     ]
    }
   ],
   "source": [
    "my_lib.borrow_book(\"Things Fall Apart\")"
   ]
  },
  {
   "cell_type": "code",
   "execution_count": 87,
   "id": "0b51d470-1a08-42a6-a898-2bfcc23635f9",
   "metadata": {},
   "outputs": [
    {
     "data": {
      "text/plain": [
       "'Things Fall Apart'"
      ]
     },
     "execution_count": 87,
     "metadata": {},
     "output_type": "execute_result"
    }
   ],
   "source": [
    "tfa.title"
   ]
  },
  {
   "cell_type": "code",
   "execution_count": 88,
   "id": "0cf4c6a2-534b-4abc-a355-74e2a9a23b69",
   "metadata": {},
   "outputs": [
    {
     "name": "stdout",
     "output_type": "stream",
     "text": [
      "Harry Potter is already in storage\n"
     ]
    }
   ],
   "source": [
    "my_lib.return_book(\"Harry Potter\")\n"
   ]
  },
  {
   "cell_type": "code",
   "execution_count": 89,
   "id": "573847d9-f4aa-4a36-b3b3-efc9f847bd5c",
   "metadata": {},
   "outputs": [
    {
     "name": "stdout",
     "output_type": "stream",
     "text": [
      "Harry Potter is already in storage\n"
     ]
    }
   ],
   "source": [
    "my_lib.return_book(\"Harry Potter\")"
   ]
  },
  {
   "cell_type": "code",
   "execution_count": null,
   "id": "dbf688a3-2dd1-4370-9108-e828596a5384",
   "metadata": {},
   "outputs": [],
   "source": []
  }
 ],
 "metadata": {
  "kernelspec": {
   "display_name": "Python [conda env:base] *",
   "language": "python",
   "name": "conda-base-py"
  },
  "language_info": {
   "codemirror_mode": {
    "name": "ipython",
    "version": 3
   },
   "file_extension": ".py",
   "mimetype": "text/x-python",
   "name": "python",
   "nbconvert_exporter": "python",
   "pygments_lexer": "ipython3",
   "version": "3.13.5"
  }
 },
 "nbformat": 4,
 "nbformat_minor": 5
}
