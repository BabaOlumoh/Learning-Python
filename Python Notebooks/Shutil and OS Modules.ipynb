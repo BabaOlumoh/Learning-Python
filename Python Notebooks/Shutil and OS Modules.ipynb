{
 "cells": [
  {
   "cell_type": "code",
   "execution_count": 1,
   "id": "ea024b84-e5a5-42d0-a9aa-84865628d66e",
   "metadata": {},
   "outputs": [],
   "source": [
    "#Shell Utilities Module and OS"
   ]
  },
  {
   "cell_type": "code",
   "execution_count": 32,
   "id": "d74ca5be-436b-4e73-8677-631599c6d054",
   "metadata": {},
   "outputs": [],
   "source": [
    "f =open('practice.txt', 'w+')\n",
    "f.write(\"This is a test string\")\n",
    "f.close()"
   ]
  },
  {
   "cell_type": "code",
   "execution_count": 39,
   "id": "3103484b-a377-49a8-91a0-3ea1a05cc3f6",
   "metadata": {},
   "outputs": [],
   "source": [
    "with open(\"test.txt\", \"w\") as f:\n",
    "    f.write(f\"This is a test file\")\n",
    "    f.close()"
   ]
  },
  {
   "cell_type": "code",
   "execution_count": 40,
   "id": "0037ba2e-ec91-474c-b120-406fdcc5c107",
   "metadata": {},
   "outputs": [
    {
     "name": "stdout",
     "output_type": "stream",
     "text": [
      "This is a test file\n"
     ]
    }
   ],
   "source": [
    "with open(\"test.txt\", \"r\") as f:\n",
    "    print(f.read())"
   ]
  },
  {
   "cell_type": "code",
   "execution_count": 2,
   "id": "dbdf90ac-7206-49fe-9daf-e71b78d80818",
   "metadata": {},
   "outputs": [
    {
     "data": {
      "text/plain": [
       "'/Users/homebase/Desktop/Python/Udemy Course/Python Notebooks'"
      ]
     },
     "execution_count": 2,
     "metadata": {},
     "output_type": "execute_result"
    }
   ],
   "source": [
    "pwd"
   ]
  },
  {
   "cell_type": "code",
   "execution_count": 4,
   "id": "b3bc4695-9617-48e2-ae92-97cae483a956",
   "metadata": {},
   "outputs": [
    {
     "data": {
      "text/plain": [
       "'/Users/homebase/Desktop/Python/Udemy Course/Python Notebooks'"
      ]
     },
     "execution_count": 4,
     "metadata": {},
     "output_type": "execute_result"
    }
   ],
   "source": [
    "import os\n",
    "os.getcwd() #get current working directory"
   ]
  },
  {
   "cell_type": "code",
   "execution_count": 5,
   "id": "9650f30a-f42d-40f8-839d-b6b3dc58bd2d",
   "metadata": {},
   "outputs": [
    {
     "data": {
      "text/plain": [
       "['string_slicing_indexing.ipynb',\n",
       " 'Validating Input.ipynb',\n",
       " 'OOP Special Methods.ipynb',\n",
       " 'Decorators.ipynb',\n",
       " 'new_file.txt',\n",
       " '.DS_Store',\n",
       " 'Polymorphism.ipynb',\n",
       " 'Sets.ipynb',\n",
       " 'Input and Output with Files.ipynb',\n",
       " 'OOP explaination.txt',\n",
       " 'string_formatting.ipynb',\n",
       " 'Generators.ipynb',\n",
       " 'List.ipynb',\n",
       " 'OOP.ipynb',\n",
       " 'function-challenges.ipynb',\n",
       " 'Shutil and OS Modules.ipynb',\n",
       " 'Function interaction.ipynb',\n",
       " 'filter.ipynb',\n",
       " 'Tuples.ipynb',\n",
       " 'string_properties_methods.ipynb',\n",
       " 'Functions.ipynb',\n",
       " 'Inheritance.ipynb',\n",
       " 'args and kwargs.ipynb',\n",
       " 'Error Handling and Exceptions.ipynb',\n",
       " 'Tuple Unpacking with Functions.ipynb',\n",
       " 'maps.ipynb',\n",
       " 'Dictionaries.ipynb',\n",
       " 'Python Collection Module.ipynb',\n",
       " 'Booleans.ipynb',\n",
       " 'myfile.txt',\n",
       " '.ipynb_checkpoints',\n",
       " 'Practice Sheet.ipynb',\n",
       " 'lambda.ipynb']"
      ]
     },
     "execution_count": 5,
     "metadata": {},
     "output_type": "execute_result"
    }
   ],
   "source": [
    "os.listdir() #list items in directory"
   ]
  },
  {
   "cell_type": "code",
   "execution_count": 6,
   "id": "797bb09d-da0e-4d57-b2a2-4fc300798754",
   "metadata": {},
   "outputs": [
    {
     "data": {
      "text/plain": [
       "['Test Folder',\n",
       " '.DS_Store',\n",
       " 'Projects',\n",
       " 'Challenges',\n",
       " 'Dependencies',\n",
       " 'Milestone Projects',\n",
       " 'Code Snippets',\n",
       " 'README.md',\n",
       " 'MyMainPackage',\n",
       " 'Scripts',\n",
       " 'Python Notebooks',\n",
       " '.ipynb_checkpoints',\n",
       " '.git']"
      ]
     },
     "execution_count": 6,
     "metadata": {},
     "output_type": "execute_result"
    }
   ],
   "source": [
    "os.listdir('/Users/homebase/Desktop/Python/Udemy Course')"
   ]
  },
  {
   "cell_type": "code",
   "execution_count": 8,
   "id": "e09c42f5-b300-4bd0-b262-92e2273aacd3",
   "metadata": {},
   "outputs": [],
   "source": [
    "import shutil"
   ]
  },
  {
   "cell_type": "code",
   "execution_count": 9,
   "id": "9f9e44fc-0c89-4811-bf2a-a30432842e0f",
   "metadata": {},
   "outputs": [
    {
     "data": {
      "text/plain": [
       "'/Users/homebase/Desktop/Python/Udemy Course/new_file.txt'"
      ]
     },
     "execution_count": 9,
     "metadata": {},
     "output_type": "execute_result"
    }
   ],
   "source": [
    "shutil.move('new_file.txt', '/Users/homebase/Desktop/Python/Udemy Course')"
   ]
  },
  {
   "cell_type": "code",
   "execution_count": 11,
   "id": "ace3083b-4062-49a3-9dfe-b03f9aaa0cbd",
   "metadata": {},
   "outputs": [
    {
     "data": {
      "text/plain": [
       "'/Users/homebase/Desktop/Python/Udemy Course/Python Notebooks/new_file.txt'"
      ]
     },
     "execution_count": 11,
     "metadata": {},
     "output_type": "execute_result"
    }
   ],
   "source": [
    "shutil.move('/Users/homebase/Desktop/Python/Udemy Course/new_file.txt', os.getcwd())"
   ]
  },
  {
   "cell_type": "code",
   "execution_count": 12,
   "id": "d3ffdd30-0d21-4263-9fef-bb1bd9dd41f5",
   "metadata": {},
   "outputs": [
    {
     "ename": "NameError",
     "evalue": "name 'path' is not defined",
     "output_type": "error",
     "traceback": [
      "\u001b[0;31m---------------------------------------------------------------------------\u001b[0m",
      "\u001b[0;31mNameError\u001b[0m                                 Traceback (most recent call last)",
      "Cell \u001b[0;32mIn[12], line 1\u001b[0m\n\u001b[0;32m----> 1\u001b[0m os\u001b[38;5;241m.\u001b[39munlink(path)\n\u001b[1;32m      2\u001b[0m os\u001b[38;5;241m.\u001b[39mrmdir(path)\n\u001b[1;32m      3\u001b[0m shutil\u001b[38;5;241m.\u001b[39mrmtree(path)\n",
      "\u001b[0;31mNameError\u001b[0m: name 'path' is not defined"
     ]
    }
   ],
   "source": [
    "os.unlink(path) #deletes a file at the path provided\n",
    "os.rmdir(path) #deletes a folder at the path provided\n",
    "shutil.rmtree(path) #removes all files and folders contained in the path\n",
    "\n",
    "instead you can use pip install send2trash"
   ]
  },
  {
   "cell_type": "code",
   "execution_count": 13,
   "id": "c5f0de5a-6db8-4f07-ad22-329838db74ab",
   "metadata": {},
   "outputs": [],
   "source": [
    "import send2trash"
   ]
  },
  {
   "cell_type": "code",
   "execution_count": 16,
   "id": "173db649-a5ad-4e52-8751-0d8442f61cad",
   "metadata": {},
   "outputs": [
    {
     "data": {
      "text/plain": [
       "['string_slicing_indexing.ipynb',\n",
       " 'Validating Input.ipynb',\n",
       " 'OOP Special Methods.ipynb',\n",
       " 'Decorators.ipynb',\n",
       " 'new_file.txt',\n",
       " '.DS_Store',\n",
       " 'Polymorphism.ipynb',\n",
       " 'Sets.ipynb',\n",
       " 'Input and Output with Files.ipynb',\n",
       " 'OOP explaination.txt',\n",
       " 'string_formatting.ipynb',\n",
       " 'Generators.ipynb',\n",
       " 'List.ipynb',\n",
       " 'OOP.ipynb',\n",
       " 'function-challenges.ipynb',\n",
       " 'Shutil and OS Modules.ipynb',\n",
       " 'Function interaction.ipynb',\n",
       " 'filter.ipynb',\n",
       " 'Tuples.ipynb',\n",
       " 'string_properties_methods.ipynb',\n",
       " 'Functions.ipynb',\n",
       " 'Inheritance.ipynb',\n",
       " 'args and kwargs.ipynb',\n",
       " 'Error Handling and Exceptions.ipynb',\n",
       " 'Tuple Unpacking with Functions.ipynb',\n",
       " 'maps.ipynb',\n",
       " 'Dictionaries.ipynb',\n",
       " 'Python Collection Module.ipynb',\n",
       " 'Booleans.ipynb',\n",
       " 'myfile.txt',\n",
       " '.ipynb_checkpoints',\n",
       " 'Practice Sheet.ipynb',\n",
       " 'lambda.ipynb']"
      ]
     },
     "execution_count": 16,
     "metadata": {},
     "output_type": "execute_result"
    }
   ],
   "source": [
    "os.listdir()"
   ]
  },
  {
   "cell_type": "code",
   "execution_count": 15,
   "id": "bb28a9d9-d416-446e-8942-bcc6200eeef8",
   "metadata": {},
   "outputs": [],
   "source": [
    "send2trash.send2trash('practice.txt.txt') #sent to Bin"
   ]
  },
  {
   "cell_type": "code",
   "execution_count": 21,
   "id": "d8f0602e-c667-49aa-ab29-4b5e7a1a31e0",
   "metadata": {},
   "outputs": [],
   "source": [
    "#os.walk is used as a tree ditrctory to map out folders and subfolders "
   ]
  },
  {
   "cell_type": "code",
   "execution_count": 23,
   "id": "049d9074-351b-470e-a221-bcce10117485",
   "metadata": {},
   "outputs": [
    {
     "data": {
      "text/plain": [
       "'/Users/homebase/Desktop/Python/Udemy Course/Python Notebooks'"
      ]
     },
     "execution_count": 23,
     "metadata": {},
     "output_type": "execute_result"
    }
   ],
   "source": [
    "os.getcwd()"
   ]
  },
  {
   "cell_type": "code",
   "execution_count": 30,
   "id": "3f1ebd1b-9b9f-4704-9d27-f5c37b610ebd",
   "metadata": {},
   "outputs": [
    {
     "name": "stdout",
     "output_type": "stream",
     "text": [
      "/Users/homebase/Desktop/Python/Udemy Course/Python Notebooks/Example_Top_Level\n",
      "\n",
      "\n",
      "The subfolders are: \n",
      "\t Subfolder: Mid-Example-One\n",
      "\n",
      "\n",
      "The files are: \n",
      "\t File: .DS_Store\n",
      "\t File: Mid-Example.txt\n",
      "\n",
      "\n",
      "/Users/homebase/Desktop/Python/Udemy Course/Python Notebooks/Example_Top_Level/Mid-Example-One\n",
      "\n",
      "\n",
      "The subfolders are: \n",
      "\t Subfolder: Bottom-Level-Two\n",
      "\t Subfolder: Bottom-Level-One\n",
      "\n",
      "\n",
      "The files are: \n",
      "\t File: .DS_Store\n",
      "\t File: Mid-Level-Doc.txt\n",
      "\n",
      "\n",
      "/Users/homebase/Desktop/Python/Udemy Course/Python Notebooks/Example_Top_Level/Mid-Example-One/Bottom-Level-Two\n",
      "\n",
      "\n",
      "The subfolders are: \n",
      "\n",
      "\n",
      "The files are: \n",
      "\t File: Bottom-Text-Two.txt\n",
      "\n",
      "\n",
      "/Users/homebase/Desktop/Python/Udemy Course/Python Notebooks/Example_Top_Level/Mid-Example-One/Bottom-Level-One\n",
      "\n",
      "\n",
      "The subfolders are: \n",
      "\n",
      "\n",
      "The files are: \n",
      "\t File: One_Text.txt\n",
      "\t File: text5.txt\n",
      "\t File: text4.txt\n",
      "\t File: text1.txt\n",
      "\t File: text3.txt\n",
      "\t File: text2.txt\n",
      "\n",
      "\n"
     ]
    }
   ],
   "source": [
    "file_path = '/Users/homebase/Desktop/Python/Udemy Course/Python Notebooks/Example_Top_Level'\n",
    "for folder, sub_folders, files in os.walk(file_path):\n",
    "    print(f\"{folder}\")\n",
    "    print(\"\\n\")\n",
    "    print(\"The subfolders are: \")\n",
    "\n",
    "    for sub_fold in sub_folders:\n",
    "        print(f\"\\t Subfolder: {sub_fold}\")\n",
    "    print(\"\\n\")\n",
    "    print(\"The files are: \")\n",
    "\n",
    "    for f in files:\n",
    "        print(f\"\\t File: {f}\")\n",
    "        \n",
    "    print(\"\\n\")\n",
    "    "
   ]
  },
  {
   "cell_type": "code",
   "execution_count": null,
   "id": "964f778a-6e76-4152-af24-f053f6740b34",
   "metadata": {},
   "outputs": [],
   "source": []
  }
 ],
 "metadata": {
  "kernelspec": {
   "display_name": "Python [conda env:base] *",
   "language": "python",
   "name": "conda-base-py"
  },
  "language_info": {
   "codemirror_mode": {
    "name": "ipython",
    "version": 3
   },
   "file_extension": ".py",
   "mimetype": "text/x-python",
   "name": "python",
   "nbconvert_exporter": "python",
   "pygments_lexer": "ipython3",
   "version": "3.13.5"
  }
 },
 "nbformat": 4,
 "nbformat_minor": 5
}
