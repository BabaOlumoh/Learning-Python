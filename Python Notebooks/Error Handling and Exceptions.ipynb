{
 "cells": [
  {
   "cell_type": "code",
   "execution_count": 2,
   "id": "56cf80c0-1b41-4171-b278-d9ac04df2732",
   "metadata": {},
   "outputs": [],
   "source": [
    "def ask_for_it():\n",
    "    while True: #loop so that the block can restart\n",
    "        try: #try this block to see if any errors\n",
    "            result = int(input(\"Please provide a number: \"))\n",
    "        except: #If there's an error, do this\n",
    "            print((\"Whoops! That is not a number\"))\n",
    "            continue #continue \n",
    "        else: #if there's no error, continue with this block of code\n",
    "            print(\"Correct, thank you\")\n",
    "            break\n",
    "        finally: #this block will always run regardless if there's error or not\n",
    "            print(\"This block will always run\")"
   ]
  },
  {
   "cell_type": "code",
   "execution_count": 3,
   "id": "b2e8c47f-1652-43a1-bcae-0beeb814bc20",
   "metadata": {},
   "outputs": [
    {
     "name": "stdin",
     "output_type": "stream",
     "text": [
      "Please provide a number:  w\n"
     ]
    },
    {
     "name": "stdout",
     "output_type": "stream",
     "text": [
      "Whoops! That is not a number\n",
      "This block will always run\n"
     ]
    },
    {
     "name": "stdin",
     "output_type": "stream",
     "text": [
      "Please provide a number:  3\n"
     ]
    },
    {
     "name": "stdout",
     "output_type": "stream",
     "text": [
      "Correct, thank you\n",
      "This block will always run\n"
     ]
    }
   ],
   "source": [
    "ask_for_it()"
   ]
  },
  {
   "cell_type": "code",
   "execution_count": null,
   "id": "53b784d3-9016-420a-847c-be4e24f63743",
   "metadata": {},
   "outputs": [],
   "source": []
  }
 ],
 "metadata": {
  "kernelspec": {
   "display_name": "Python [conda env:base] *",
   "language": "python",
   "name": "conda-base-py"
  },
  "language_info": {
   "codemirror_mode": {
    "name": "ipython",
    "version": 3
   },
   "file_extension": ".py",
   "mimetype": "text/x-python",
   "name": "python",
   "nbconvert_exporter": "python",
   "pygments_lexer": "ipython3",
   "version": "3.13.5"
  }
 },
 "nbformat": 4,
 "nbformat_minor": 5
}
