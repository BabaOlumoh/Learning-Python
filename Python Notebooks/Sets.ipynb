{
 "cells": [
  {
   "cell_type": "raw",
   "id": "00f68f28-a216-43b9-83f1-67a79bebd3a4",
   "metadata": {},
   "source": [
    "Sets are unordered cllections of unique elements. There can only be one representative of an object in set."
   ]
  },
  {
   "cell_type": "code",
   "execution_count": 1,
   "id": "617e1df1-53e5-45da-8c8d-6ac0672099c2",
   "metadata": {},
   "outputs": [],
   "source": [
    "myset = set()"
   ]
  },
  {
   "cell_type": "code",
   "execution_count": 2,
   "id": "0ce8bbd3-4476-48f0-8c38-23450494a045",
   "metadata": {},
   "outputs": [
    {
     "data": {
      "text/plain": [
       "set()"
      ]
     },
     "execution_count": 2,
     "metadata": {},
     "output_type": "execute_result"
    }
   ],
   "source": [
    "myset"
   ]
  },
  {
   "cell_type": "code",
   "execution_count": 3,
   "id": "42503496-46ad-4e02-94ed-85b769f92827",
   "metadata": {},
   "outputs": [],
   "source": [
    "myset.add(1)"
   ]
  },
  {
   "cell_type": "code",
   "execution_count": 4,
   "id": "929494f5-3078-4025-aaba-8d2ce4feba11",
   "metadata": {},
   "outputs": [],
   "source": [
    "myset.add(2)"
   ]
  },
  {
   "cell_type": "code",
   "execution_count": 5,
   "id": "12f17222-bcc3-44e5-9751-50dfcff96085",
   "metadata": {},
   "outputs": [],
   "source": [
    "myset.add(2) #You'll notice only a 2 is present\n",
    "print(myset)"
   ]
  },
  {
   "cell_type": "code",
   "execution_count": 6,
   "id": "2f86ce5b-f303-4a0b-90c1-a85c6b22978b",
   "metadata": {},
   "outputs": [],
   "source": [
    "my_list = [1,1,1,2,2,2,3,3,3]"
   ]
  },
  {
   "cell_type": "code",
   "execution_count": 7,
   "id": "0e2ea106-5522-44b2-92c7-45a751914f0e",
   "metadata": {},
   "outputs": [
    {
     "data": {
      "text/plain": [
       "{1, 2, 3}"
      ]
     },
     "execution_count": 7,
     "metadata": {},
     "output_type": "execute_result"
    }
   ],
   "source": [
    "set(my_list)"
   ]
  },
  {
   "cell_type": "code",
   "execution_count": 8,
   "id": "30cdae41-0cc7-403a-ade9-ec5fe12dbcdd",
   "metadata": {},
   "outputs": [
    {
     "data": {
      "text/plain": [
       "{'M', 'i', 'p', 's'}"
      ]
     },
     "execution_count": 8,
     "metadata": {},
     "output_type": "execute_result"
    }
   ],
   "source": [
    "set(\"Mississippi\")"
   ]
  }
 ],
 "metadata": {
  "kernelspec": {
   "display_name": "Python [conda env:base] *",
   "language": "python",
   "name": "conda-base-py"
  },
  "language_info": {
   "codemirror_mode": {
    "name": "ipython",
    "version": 3
   },
   "file_extension": ".py",
   "mimetype": "text/x-python",
   "name": "python",
   "nbconvert_exporter": "python",
   "pygments_lexer": "ipython3",
   "version": "3.13.5"
  }
 },
 "nbformat": 4,
 "nbformat_minor": 5
}
