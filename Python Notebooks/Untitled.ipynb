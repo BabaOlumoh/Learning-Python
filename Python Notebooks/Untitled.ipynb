{
 "cells": [
  {
   "cell_type": "code",
   "execution_count": 3,
   "id": "132e2a15-15e8-4f8f-a53e-4a695fbefebc",
   "metadata": {},
   "outputs": [],
   "source": [
    "def square(num):\n",
    "    return num**2"
   ]
  },
  {
   "cell_type": "code",
   "execution_count": 4,
   "id": "93099ad0-9204-4b5b-afde-554cc6b7adb6",
   "metadata": {},
   "outputs": [
    {
     "data": {
      "text/plain": [
       "9"
      ]
     },
     "execution_count": 4,
     "metadata": {},
     "output_type": "execute_result"
    }
   ],
   "source": [
    "square(3)"
   ]
  },
  {
   "cell_type": "code",
   "execution_count": 7,
   "id": "4df822db-2b8f-4329-8656-c0b5b8a9e3d2",
   "metadata": {},
   "outputs": [],
   "source": [
    "l = lambda num: num **2"
   ]
  },
  {
   "cell_type": "code",
   "execution_count": 8,
   "id": "9afb0bd1-1f01-499c-9610-00a48c63b9c7",
   "metadata": {},
   "outputs": [
    {
     "data": {
      "text/plain": [
       "36"
      ]
     },
     "execution_count": 8,
     "metadata": {},
     "output_type": "execute_result"
    }
   ],
   "source": [
    "l(6)"
   ]
  },
  {
   "cell_type": "code",
   "execution_count": 10,
   "id": "44122445-0b09-43cd-9efc-dd0df1944703",
   "metadata": {},
   "outputs": [],
   "source": [
    "mynums = [1,2,3,4,5,6]"
   ]
  },
  {
   "cell_type": "code",
   "execution_count": 11,
   "id": "6bd3d2d6-e29d-405b-a184-2723273ef4fc",
   "metadata": {},
   "outputs": [
    {
     "data": {
      "text/plain": [
       "[1, 4, 9, 16, 25, 36]"
      ]
     },
     "execution_count": 11,
     "metadata": {},
     "output_type": "execute_result"
    }
   ],
   "source": [
    "list(map(lambda num:num**2,mynums))"
   ]
  },
  {
   "cell_type": "code",
   "execution_count": 17,
   "id": "8a02647b-a7f7-4513-9ebd-e90079f77fbb",
   "metadata": {},
   "outputs": [],
   "source": [
    "names = [\"Andy\", \"Eve\", \"Sally\"]"
   ]
  },
  {
   "cell_type": "code",
   "execution_count": 15,
   "id": "6af38504-c6a1-47fb-a332-98572753cc6d",
   "metadata": {},
   "outputs": [
    {
     "data": {
      "text/plain": [
       "[2, 4, 6]"
      ]
     },
     "execution_count": 15,
     "metadata": {},
     "output_type": "execute_result"
    }
   ],
   "source": [
    "list(filter(lambda num:num%2 == 0,mynums))"
   ]
  },
  {
   "cell_type": "code",
   "execution_count": 19,
   "id": "cbaef286-60f7-4bba-85df-36930d637263",
   "metadata": {},
   "outputs": [],
   "source": [
    "#Turn it into lambda\n",
    "def slicer(s):\n",
    "    if len(s) % 2 == 0:\n",
    "        return \"Even\"\n",
    "    else: return s[0]\n",
    "list(map(slicer, names))"
   ]
  },
  {
   "cell_type": "code",
   "execution_count": 23,
   "id": "a6a030e7-5b4c-4475-ade2-8663f12cd604",
   "metadata": {},
   "outputs": [
    {
     "data": {
      "text/plain": [
       "[True, False, False]"
      ]
     },
     "execution_count": 23,
     "metadata": {},
     "output_type": "execute_result"
    }
   ],
   "source": [
    "list(map(lambda slicer:len(slicer)%2==0 ,names))"
   ]
  },
  {
   "cell_type": "code",
   "execution_count": null,
   "id": "a27a6095-6477-45f6-b3c0-35016c889522",
   "metadata": {},
   "outputs": [],
   "source": []
  }
 ],
 "metadata": {
  "kernelspec": {
   "display_name": "Python [conda env:base] *",
   "language": "python",
   "name": "conda-base-py"
  },
  "language_info": {
   "codemirror_mode": {
    "name": "ipython",
    "version": 3
   },
   "file_extension": ".py",
   "mimetype": "text/x-python",
   "name": "python",
   "nbconvert_exporter": "python",
   "pygments_lexer": "ipython3",
   "version": "3.13.5"
  }
 },
 "nbformat": 4,
 "nbformat_minor": 5
}
