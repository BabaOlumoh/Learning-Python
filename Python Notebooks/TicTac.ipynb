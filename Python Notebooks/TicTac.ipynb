{
 "cells": [
  {
   "cell_type": "code",
   "execution_count": 1,
   "id": "03a9489d-ba29-45ba-950f-8fe20fff4fd9",
   "metadata": {},
   "outputs": [],
   "source": [
    "def display(row1,row2,row3):\n",
    "    print(row1)\n",
    "    print(row2)\n",
    "    print(row3)\n",
    "\n",
    "row1 = [\" \",\" \",\" \"]\n",
    "row2 = [\" \",\" \",\" \"]\n",
    "row3 = [\" \",\" \",\" \"]"
   ]
  },
  {
   "cell_type": "code",
   "execution_count": 2,
   "id": "fe81061f-cd07-4564-985a-b73f0cb66776",
   "metadata": {},
   "outputs": [
    {
     "name": "stdout",
     "output_type": "stream",
     "text": [
      "[' ', ' ', ' ']\n",
      "[' ', ' ', ' ']\n",
      "[' ', ' ', ' ']\n"
     ]
    }
   ],
   "source": [
    "display(row1,row2,row3)"
   ]
  },
  {
   "cell_type": "code",
   "execution_count": 3,
   "id": "e43a2fa5-ea70-4842-b076-87535443389c",
   "metadata": {},
   "outputs": [],
   "source": [
    "#My version\n",
    "\n",
    "def user_choice():\n",
    "    choice = 'WRONG'\n",
    "    \n",
    "    while choice.isdigit() == False or choice not in ['0','1','2']:\n",
    "        choice = (input(\"Enter a number between 0-2: \"))\n",
    "        \n",
    "        if choice.isdigit() == False:\n",
    "            print(\"Sorry that's not a digit!\")\n",
    "        elif choice not in ['0','1','2']:\n",
    "            print(\"Please enter a digit between 0-2\")"
   ]
  },
  {
   "cell_type": "code",
   "execution_count": 4,
   "id": "20faaafc-31d2-47bd-8686-075767e89a77",
   "metadata": {},
   "outputs": [
    {
     "name": "stdin",
     "output_type": "stream",
     "text": [
      "Enter a number between 0-2:  1\n"
     ]
    }
   ],
   "source": [
    "user_choice()"
   ]
  },
  {
   "cell_type": "code",
   "execution_count": 22,
   "id": "80956311-2b6c-4f14-acdc-c64fd230e2e9",
   "metadata": {},
   "outputs": [],
   "source": [
    "def user_choice():\n",
    "    #VARIBLES\n",
    "\n",
    "    #initial\n",
    "    choice = 'WRONG'\n",
    "    acceptance_range = range(0,11)\n",
    "    within_range = False\n",
    "\n",
    "    #TWO CONDITIONS TO CHECK\n",
    "    #DIGIT OR WITHIN_RANGE == FALSE\n",
    "    \n",
    "    while choice.isdigit() == False or within_range == False:\n",
    "        choice = (input(\"Enter a number between 0-10: \"))\n",
    "\n",
    "        #DIGIT CHECK\n",
    "        if choice.isdigit() == False:\n",
    "            print(\"Sorry that's not a digit!\")\n",
    "\n",
    "        #RANGE CHECK\n",
    "        if choice.isdigit() == True:\n",
    "            if int(choice) in acceptance_range:\n",
    "                within_range = True\n",
    "            else:\n",
    "                print(\"You're out of acceptable range\")\n",
    "                within_range = False"
   ]
  },
  {
   "cell_type": "code",
   "execution_count": null,
   "id": "7a9465da-14cc-41df-be71-258dc4411b90",
   "metadata": {},
   "outputs": [
    {
     "name": "stdin",
     "output_type": "stream",
     "text": [
      "Enter a number between 0-10:  100\n"
     ]
    }
   ],
   "source": [
    "user_choice()"
   ]
  },
  {
   "cell_type": "code",
   "execution_count": null,
   "id": "0cd4665d-0d3c-4bad-a653-5f623b5ae2b0",
   "metadata": {},
   "outputs": [],
   "source": []
  }
 ],
 "metadata": {
  "kernelspec": {
   "display_name": "Python [conda env:base] *",
   "language": "python",
   "name": "conda-base-py"
  },
  "language_info": {
   "codemirror_mode": {
    "name": "ipython",
    "version": 3
   },
   "file_extension": ".py",
   "mimetype": "text/x-python",
   "name": "python",
   "nbconvert_exporter": "python",
   "pygments_lexer": "ipython3",
   "version": "3.13.5"
  }
 },
 "nbformat": 4,
 "nbformat_minor": 5
}
