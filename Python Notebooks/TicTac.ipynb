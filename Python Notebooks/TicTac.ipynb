{
 "cells": [
  {
   "cell_type": "code",
   "execution_count": 8,
   "id": "03a9489d-ba29-45ba-950f-8fe20fff4fd9",
   "metadata": {},
   "outputs": [],
   "source": [
    "def display(row1,row2,row3):\n",
    "    print(row1)\n",
    "    print(row2)\n",
    "    print(row3)\n",
    "\n",
    "row1 = [\" \",\" \",\" \"]\n",
    "row2 = [\" \",\" \",\" \"]\n",
    "row3 = [\" \",\" \",\" \"]"
   ]
  },
  {
   "cell_type": "code",
   "execution_count": 9,
   "id": "fe81061f-cd07-4564-985a-b73f0cb66776",
   "metadata": {},
   "outputs": [
    {
     "name": "stdout",
     "output_type": "stream",
     "text": [
      "[' ', ' ', ' ']\n",
      "[' ', ' ', ' ']\n",
      "[' ', ' ', ' ']\n"
     ]
    }
   ],
   "source": [
    "display(row1,row2,row3)"
   ]
  },
  {
   "cell_type": "code",
   "execution_count": 11,
   "id": "15456c76-40ad-4640-a5a5-38d83f4bb80c",
   "metadata": {},
   "outputs": [
    {
     "name": "stdin",
     "output_type": "stream",
     "text": [
      "Choose an index position 3\n"
     ]
    }
   ],
   "source": [
    "position_index = int(input(\"Choose an index position\"))"
   ]
  },
  {
   "cell_type": "code",
   "execution_count": 42,
   "id": "e43a2fa5-ea70-4842-b076-87535443389c",
   "metadata": {},
   "outputs": [],
   "source": [
    "def user_choice():\n",
    "    acceptable_values = ['0','1','2']\n",
    "    choice = 'WRONG'\n",
    "    \n",
    "    while choice.isdigit() == False:\n",
    "        choice = (input(\"Enter a number between 0-2: \"))\n",
    "        if choice in acceptable_values:\n",
    "            print(\"User input recorded\")\n",
    "        else:\n",
    "            print(\"Please enter a digit between 0-2\")\n",
    "        if choice.isdigit() == False:\n",
    "            print(\"Sorry that's not a digit!\")"
   ]
  },
  {
   "cell_type": "code",
   "execution_count": 44,
   "id": "68db9084-c091-4b3d-be3c-1196cf4abfb0",
   "metadata": {},
   "outputs": [
    {
     "name": "stdin",
     "output_type": "stream",
     "text": [
      "Enter a number between 0-2:  4\n"
     ]
    },
    {
     "name": "stdout",
     "output_type": "stream",
     "text": [
      "Please enter a digit between 0-2\n"
     ]
    }
   ],
   "source": [
    "user_choice()\n"
   ]
  },
  {
   "cell_type": "code",
   "execution_count": null,
   "id": "20faaafc-31d2-47bd-8686-075767e89a77",
   "metadata": {},
   "outputs": [],
   "source": []
  }
 ],
 "metadata": {
  "kernelspec": {
   "display_name": "Python [conda env:base] *",
   "language": "python",
   "name": "conda-base-py"
  },
  "language_info": {
   "codemirror_mode": {
    "name": "ipython",
    "version": 3
   },
   "file_extension": ".py",
   "mimetype": "text/x-python",
   "name": "python",
   "nbconvert_exporter": "python",
   "pygments_lexer": "ipython3",
   "version": "3.13.5"
  }
 },
 "nbformat": 4,
 "nbformat_minor": 5
}
