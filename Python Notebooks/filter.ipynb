{
 "cells": [
  {
   "cell_type": "code",
   "execution_count": 1,
   "id": "20bd7017-1008-42fb-9cbd-e25e30eb809c",
   "metadata": {},
   "outputs": [],
   "source": [
    "def check_sum(nums):\n",
    "    return nums % 2== 0\n"
   ]
  },
  {
   "cell_type": "code",
   "execution_count": 7,
   "id": "aa0fc05e-4964-4532-a21c-f19fc18ce3f6",
   "metadata": {},
   "outputs": [],
   "source": [
    "mynums = [1,2,3,4,5,6]"
   ]
  },
  {
   "cell_type": "code",
   "execution_count": 8,
   "id": "ad0a0dca-5c10-44d4-8adb-2353c6da15b8",
   "metadata": {},
   "outputs": [
    {
     "data": {
      "text/plain": [
       "[2, 4, 6]"
      ]
     },
     "execution_count": 8,
     "metadata": {},
     "output_type": "execute_result"
    }
   ],
   "source": [
    "list(filter(check_sum,mynums))"
   ]
  },
  {
   "cell_type": "code",
   "execution_count": 9,
   "id": "f6fda13a-6714-4e49-b906-fdd7a297fb5d",
   "metadata": {},
   "outputs": [
    {
     "name": "stdout",
     "output_type": "stream",
     "text": [
      "2\n",
      "4\n",
      "6\n"
     ]
    }
   ],
   "source": [
    "for num in filter(check_sum, mynums):\n",
    "    print(num)"
   ]
  },
  {
   "cell_type": "code",
   "execution_count": null,
   "id": "8fb12b4e-83de-45a2-9421-2349f5e52064",
   "metadata": {},
   "outputs": [],
   "source": []
  }
 ],
 "metadata": {
  "kernelspec": {
   "display_name": "Python [conda env:base] *",
   "language": "python",
   "name": "conda-base-py"
  },
  "language_info": {
   "codemirror_mode": {
    "name": "ipython",
    "version": 3
   },
   "file_extension": ".py",
   "mimetype": "text/x-python",
   "name": "python",
   "nbconvert_exporter": "python",
   "pygments_lexer": "ipython3",
   "version": "3.13.5"
  }
 },
 "nbformat": 4,
 "nbformat_minor": 5
}
