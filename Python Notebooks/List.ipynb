{
 "cells": [
  {
   "cell_type": "markdown",
   "id": "fdb150bf-2b80-4143-9b7d-8e9570007ff4",
   "metadata": {},
   "source": [
    "List is an ordered sequences that can hold a variety of object types.\n",
    "List uses [] brackets and commas to separate objects in the list.\n",
    "Lists support indexing and slicing, can be nested.\n",
    "List is mutable"
   ]
  },
  {
   "cell_type": "code",
   "execution_count": 4,
   "id": "0384951b-1302-4261-89db-3149838ee178",
   "metadata": {},
   "outputs": [
    {
     "name": "stdout",
     "output_type": "stream",
     "text": [
      "['one', 'two', 'three']\n"
     ]
    }
   ],
   "source": [
    "my_list = [\"one\", \"two\", \"three\"] #list can contain just one data type\n",
    "print(my_list)"
   ]
  },
  {
   "cell_type": "code",
   "execution_count": 5,
   "id": "a13c5862-1bd5-4dba-9c4d-3d28fadccccb",
   "metadata": {},
   "outputs": [],
   "source": [
    "myList = [\"one\", \"2\", \"3.5\"] #list can contain multiple object types"
   ]
  },
  {
   "cell_type": "code",
   "execution_count": 7,
   "id": "f5c902dc-e924-4991-b951-8b0a1a445aa7",
   "metadata": {},
   "outputs": [
    {
     "name": "stdout",
     "output_type": "stream",
     "text": [
      "['one', 'two', 'three', 'one', '2', '3.5']\n"
     ]
    }
   ],
   "source": [
    "new_list = my_list + myList #list can be concatenated\n",
    "print(new_list)"
   ]
  },
  {
   "cell_type": "code",
   "execution_count": 8,
   "id": "faea9435-074c-48bb-9dd5-4f0450057fee",
   "metadata": {},
   "outputs": [
    {
     "name": "stdout",
     "output_type": "stream",
     "text": [
      "one\n"
     ]
    }
   ],
   "source": [
    "print(new_list[0]) #Indexing works with lists just like with strings"
   ]
  },
  {
   "cell_type": "code",
   "execution_count": 13,
   "id": "22a59f05-743f-4e47-9148-883225b90b94",
   "metadata": {},
   "outputs": [
    {
     "name": "stdout",
     "output_type": "stream",
     "text": [
      "['two', 'three', 'one', '2', '3.5']\n",
      "['one', 'two', 'three']\n"
     ]
    }
   ],
   "source": [
    "print(new_list[1:]) #slicing works with lists just like with strings\n",
    "print(new_list[:3]) #slicing works with lists just like with strings"
   ]
  },
  {
   "cell_type": "markdown",
   "id": "1bfcff9c-a153-44cf-a4ac-b8924fc9a835",
   "metadata": {},
   "source": [
    "List is mutable - change, append, pop, "
   ]
  },
  {
   "cell_type": "code",
   "execution_count": 16,
   "id": "c7cf2cf8-5cf9-411f-9df1-7d36d60a6381",
   "metadata": {},
   "outputs": [
    {
     "name": "stdout",
     "output_type": "stream",
     "text": [
      "['ONE IN ALL CAPS', 'two', 'three', 'one', '2', '3.5']\n"
     ]
    }
   ],
   "source": [
    "new_list[0] = \"ONE IN ALL CAPS\" #You can change items in a list can reassign it like this\n",
    "print(new_list)"
   ]
  },
  {
   "cell_type": "code",
   "execution_count": 28,
   "id": "817b1db6-af2e-40c0-a96a-96f1679c68fd",
   "metadata": {},
   "outputs": [
    {
     "name": "stdout",
     "output_type": "stream",
     "text": [
      "['ONE IN ALL CAPS', 'two', 'three', 'one', '2', '3.5', 'four', 'four', '5']\n"
     ]
    }
   ],
   "source": [
    "new_list.append(\"four\") #You can add a new item by appending it at the end\n",
    "new_list.append(\"5\")\n",
    "print(new_list)"
   ]
  },
  {
   "cell_type": "code",
   "execution_count": 31,
   "id": "29de973f-8d99-48fd-a9ae-dddbb9dfb333",
   "metadata": {},
   "outputs": [
    {
     "name": "stdout",
     "output_type": "stream",
     "text": [
      "['ONE IN ALL CAPS', 'two', 'three', 'one']\n"
     ]
    }
   ],
   "source": [
    "new_list.pop() #You can pop/remove an item from the list of the list\n",
    "new_list.pop(-1) #You can pop an item within the list using the item index\n",
    "print(new_list)"
   ]
  },
  {
   "cell_type": "markdown",
   "id": "339d8b30-e0c8-4f7d-881e-dd2c7d5cef08",
   "metadata": {},
   "source": [
    "Sort: You can sort a list in alphabetical order.\n",
    "Reverse: You can reverse the order of a list."
   ]
  },
  {
   "cell_type": "code",
   "execution_count": 32,
   "id": "b2bb0fcb-6bdd-4660-a930-3702a943c73a",
   "metadata": {},
   "outputs": [],
   "source": [
    "newList = [\"a\",\"e\",\"d\",\"c\",\"b\"]\n",
    "numList = [1,2,5,8]"
   ]
  },
  {
   "cell_type": "code",
   "execution_count": 34,
   "id": "4806dd20-0b9f-42df-8dd8-71491ed8a58a",
   "metadata": {},
   "outputs": [
    {
     "name": "stdout",
     "output_type": "stream",
     "text": [
      "['a', 'b', 'c', 'd', 'e']\n"
     ]
    }
   ],
   "source": [
    "newList.sort() \n",
    "print(newList) #You don't need to assign the sort method to action it"
   ]
  },
  {
   "cell_type": "code",
   "execution_count": 37,
   "id": "1a45c691-a38e-47a6-9af5-c77520965227",
   "metadata": {},
   "outputs": [
    {
     "name": "stdout",
     "output_type": "stream",
     "text": [
      "[8, 5, 2, 1]\n"
     ]
    }
   ],
   "source": [
    "numList.reverse()\n",
    "print(numList) #You don't need to assign the reverse method to action it"
   ]
  },
  {
   "cell_type": "markdown",
   "id": "400aaa08-c1ce-4514-b73a-a8e2bb46e969",
   "metadata": {},
   "source": [
    "List Menu - Mini Project.\n",
    "\n",
    "Functions of the menu\n",
    "Create a list.\n",
    "\n",
    "Add a new item.\n",
    "Remove an item.\n",
    "Sort the list alphabetically\n",
    "Reverse the list\n",
    "Show top 3\n",
    "\n",
    "Use selection to offer choice.\n",
    "\n",
    "Create a list - append to the list\n",
    "\n",
    "Remove an item - pop using index.\n",
    "\n",
    "Sort the list - using .sort\n",
    "\n",
    "Reverse the list - using .reverse\n",
    "\n",
    "Show top 3 - by slicing the first 3 item in the list"
   ]
  }
 ],
 "metadata": {
  "kernelspec": {
   "display_name": "Python [conda env:base] *",
   "language": "python",
   "name": "conda-base-py"
  },
  "language_info": {
   "codemirror_mode": {
    "name": "ipython",
    "version": 3
   },
   "file_extension": ".py",
   "mimetype": "text/x-python",
   "name": "python",
   "nbconvert_exporter": "python",
   "pygments_lexer": "ipython3",
   "version": "3.13.5"
  }
 },
 "nbformat": 4,
 "nbformat_minor": 5
}
