{
 "cells": [
  {
   "cell_type": "markdown",
   "id": "499f497a-7675-4252-a9bb-eb0425f93f39",
   "metadata": {},
   "source": [
    "Dictionaries are unordered mappings for storing objects. Unlike lists, dictionaries use a key-value pairing.\n",
    "This key-value pair allows users to quickly grab objects without needing to know an index location.\n",
    "{\"key1\":\"value1\", \"key2\",\"value2\"}. The key pairs must always be in strings.\n",
    "Dictionaries are unordered and can't be sorted."
   ]
  },
  {
   "cell_type": "code",
   "execution_count": 3,
   "id": "1425a9eb-7495-4e8d-90fa-edd004bc000a",
   "metadata": {},
   "outputs": [
    {
     "data": {
      "text/plain": [
       "2.99"
      ]
     },
     "execution_count": 3,
     "metadata": {},
     "output_type": "execute_result"
    }
   ],
   "source": [
    "prices_lookup = {\"apple\":2.99, \"oranges\": 1.99, \"milk\":5.80}\n",
    "prices_lookup[\"apple\"]"
   ]
  },
  {
   "cell_type": "code",
   "execution_count": 5,
   "id": "c0f7a34e-b4f1-4d6f-8b11-d981973d6a97",
   "metadata": {},
   "outputs": [
    {
     "data": {
      "text/plain": [
       "[0, 1, 2]"
      ]
     },
     "execution_count": 5,
     "metadata": {},
     "output_type": "execute_result"
    }
   ],
   "source": [
    "d = {\"k1\":123, \"k2\": [0,1,2], \"k3\":{\"insideKey\":100}, \"k4\":\"fifty\"} #Dictionary is really flexible and you can different object types in it.\n",
    "d['k2']"
   ]
  },
  {
   "cell_type": "code",
   "execution_count": 7,
   "id": "af0175c3-3802-41ac-b708-3b561efed994",
   "metadata": {},
   "outputs": [
    {
     "data": {
      "text/plain": [
       "100"
      ]
     },
     "execution_count": 7,
     "metadata": {},
     "output_type": "execute_result"
    }
   ],
   "source": [
    "d[\"k3\"][\"insideKey\"] #You can stack key calls to get the value in a dictionary\n"
   ]
  },
  {
   "cell_type": "code",
   "execution_count": 8,
   "id": "8b447919-b594-4813-a1c4-f87d0f924fbc",
   "metadata": {},
   "outputs": [
    {
     "data": {
      "text/plain": [
       "2"
      ]
     },
     "execution_count": 8,
     "metadata": {},
     "output_type": "execute_result"
    }
   ],
   "source": [
    "d[\"k2\"][2] #You can stack index calls to get value in a list"
   ]
  },
  {
   "cell_type": "code",
   "execution_count": 9,
   "id": "0f36e400-a37d-474c-bb87-7594157869de",
   "metadata": {},
   "outputs": [
    {
     "data": {
      "text/plain": [
       "{'key1': ['a', 'b', 'c']}"
      ]
     },
     "execution_count": 9,
     "metadata": {},
     "output_type": "execute_result"
    }
   ],
   "source": [
    "#To expand the above\n",
    "dict_list = {\"key1\":[\"a\",\"b\",\"c\"]}\n",
    "print(dict_list)"
   ]
  },
  {
   "cell_type": "code",
   "execution_count": 14,
   "id": "8598ee04-7d5e-4d34-bf91-863c409466ca",
   "metadata": {},
   "outputs": [
    {
     "data": {
      "text/plain": [
       "['a', 'b', 'c']"
      ]
     },
     "execution_count": 14,
     "metadata": {},
     "output_type": "execute_result"
    }
   ],
   "source": [
    "my_list = dict_list[\"key1\"]\n",
    "print(my_list)"
   ]
  },
  {
   "cell_type": "code",
   "execution_count": 18,
   "id": "a0797469-4739-42cc-969c-2f4c2013ec28",
   "metadata": {},
   "outputs": [
    {
     "name": "stdout",
     "output_type": "stream",
     "text": [
      "c\n"
     ]
    }
   ],
   "source": [
    "letter = my_list[-1]\n",
    "print(letter)"
   ]
  },
  {
   "cell_type": "code",
   "execution_count": 19,
   "id": "cf99bbab-28a7-4cf7-b7ee-b7aadb69f78d",
   "metadata": {},
   "outputs": [
    {
     "data": {
      "text/plain": [
       "'C'"
      ]
     },
     "execution_count": 19,
     "metadata": {},
     "output_type": "execute_result"
    }
   ],
   "source": [
    "letter.upper()"
   ]
  },
  {
   "cell_type": "code",
   "execution_count": 21,
   "id": "5bcda932-e1c2-4480-a498-98e781c1ecf4",
   "metadata": {},
   "outputs": [
    {
     "data": {
      "text/plain": [
       "'C'"
      ]
     },
     "execution_count": 21,
     "metadata": {},
     "output_type": "execute_result"
    }
   ],
   "source": [
    "#Or in one line\n",
    "dict_list[\"key1\"][-1].upper()"
   ]
  },
  {
   "cell_type": "code",
   "execution_count": 27,
   "id": "53467beb-f18d-498c-b7f7-75754cc52c1b",
   "metadata": {},
   "outputs": [
    {
     "name": "stdout",
     "output_type": "stream",
     "text": [
      "{'k1': 'One', 'k2': [0, 1, 2], 'k3': {'insideKey': 100}, 'k4': 'fifty', 'k5': 99.9}\n"
     ]
    }
   ],
   "source": [
    "#Append\n",
    "d[\"k5\"] = 99.9 #you can add new key pair \n",
    "print(d)"
   ]
  },
  {
   "cell_type": "code",
   "execution_count": 26,
   "id": "c320ca39-b9a1-4fc2-9ec3-a5aa05ddedcd",
   "metadata": {},
   "outputs": [],
   "source": [
    "#Reassign\n",
    "d[\"k1\"] = \"One\" #You can change a key pair by reassigning it"
   ]
  },
  {
   "cell_type": "code",
   "execution_count": 29,
   "id": "204d7c06-6e19-45c8-b30a-54ed7733e90b",
   "metadata": {},
   "outputs": [
    {
     "data": {
      "text/plain": [
       "dict_items([('k1', 'One'), ('k2', [0, 1, 2]), ('k3', {'insideKey': 100}), ('k4', 'fifty'), ('k5', 99.9)])"
      ]
     },
     "execution_count": 29,
     "metadata": {},
     "output_type": "execute_result"
    }
   ],
   "source": [
    "#Methods\n",
    "d.keys() #To print only keys in a dictionary\n",
    "d.values() #To print only values in a dictionary\n",
    "d.items() #To print all items in a dictionary"
   ]
  },
  {
   "cell_type": "code",
   "execution_count": null,
   "id": "ca16bf2e-ad7e-4e50-9afb-dfb83e2d0626",
   "metadata": {},
   "outputs": [],
   "source": []
  }
 ],
 "metadata": {
  "kernelspec": {
   "display_name": "Python [conda env:base] *",
   "language": "python",
   "name": "conda-base-py"
  },
  "language_info": {
   "codemirror_mode": {
    "name": "ipython",
    "version": 3
   },
   "file_extension": ".py",
   "mimetype": "text/x-python",
   "name": "python",
   "nbconvert_exporter": "python",
   "pygments_lexer": "ipython3",
   "version": "3.13.5"
  }
 },
 "nbformat": 4,
 "nbformat_minor": 5
}
