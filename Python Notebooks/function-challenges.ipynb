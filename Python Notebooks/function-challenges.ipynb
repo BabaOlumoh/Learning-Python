{
 "cells": [
  {
   "cell_type": "code",
   "execution_count": 1,
   "id": "25f12a9d-b321-4b24-a1e4-cf0e5e191030",
   "metadata": {},
   "outputs": [],
   "source": [
    "def maxnumber(a,b,c):\n",
    "  max_number = max(a,b,c)\n",
    "  return max_number"
   ]
  },
  {
   "cell_type": "code",
   "execution_count": 3,
   "id": "8a12c23a-8523-44b9-a715-3df0149d8ff3",
   "metadata": {},
   "outputs": [
    {
     "data": {
      "text/plain": [
       "6"
      ]
     },
     "execution_count": 3,
     "metadata": {},
     "output_type": "execute_result"
    }
   ],
   "source": [
    "maxnumber(3,6,-5)"
   ]
  },
  {
   "cell_type": "code",
   "execution_count": 18,
   "id": "5dbeabe5-31c3-4d2f-babe-39eaee28332f",
   "metadata": {},
   "outputs": [],
   "source": [
    "def sumnumber(*args):\n",
    "    total = 0\n",
    "    for num in args:\n",
    "        total += num\n",
    "    return total\n",
    "    "
   ]
  },
  {
   "cell_type": "code",
   "execution_count": 19,
   "id": "59fbed89-7a5a-4870-b108-6d84e8d70fbb",
   "metadata": {},
   "outputs": [
    {
     "data": {
      "text/plain": [
       "20"
      ]
     },
     "execution_count": 19,
     "metadata": {},
     "output_type": "execute_result"
    }
   ],
   "source": [
    "sumnumber(8, 2, 3, 0, 7)"
   ]
  },
  {
   "cell_type": "code",
   "execution_count": 23,
   "id": "eb6bdd03-9cc3-49d6-afa0-5edb10f26d09",
   "metadata": {},
   "outputs": [],
   "source": [
    "def mulnumber(*args):\n",
    "    total = 1\n",
    "    for num in args:\n",
    "        total *= num\n",
    "    return total\n",
    "    "
   ]
  },
  {
   "cell_type": "code",
   "execution_count": 24,
   "id": "41a5520a-6c7c-4941-af33-4fecf404045c",
   "metadata": {},
   "outputs": [
    {
     "data": {
      "text/plain": [
       "-336"
      ]
     },
     "execution_count": 24,
     "metadata": {},
     "output_type": "execute_result"
    }
   ],
   "source": [
    "mulnumber(8,2,3,-1,7)"
   ]
  },
  {
   "cell_type": "code",
   "execution_count": 25,
   "id": "ee43cabf-a965-4cfb-a0a6-6984c4ba4b96",
   "metadata": {},
   "outputs": [],
   "source": [
    "def reversestring(word):\n",
    "    reversed = word[::-1]\n",
    "    return reversed"
   ]
  },
  {
   "cell_type": "code",
   "execution_count": 27,
   "id": "80425f18-6ed6-463a-971a-9f7033452898",
   "metadata": {},
   "outputs": [
    {
     "data": {
      "text/plain": [
       "'dcba4321'"
      ]
     },
     "execution_count": 27,
     "metadata": {},
     "output_type": "execute_result"
    }
   ],
   "source": [
    "reversestring(\"1234abcd\")"
   ]
  },
  {
   "cell_type": "code",
   "execution_count": 51,
   "id": "a5e0ea34-0c81-40ac-8a08-597ad0cf5065",
   "metadata": {},
   "outputs": [],
   "source": [
    "def factorial(n):\n",
    "    total = 1\n",
    "    if n == 0 or n == 1:\n",
    "        return 1\n",
    "    else:\n",
    "        total = n * factorial(n-1)\n",
    "        return total"
   ]
  },
  {
   "cell_type": "code",
   "execution_count": 52,
   "id": "cea3dba1-13bf-49ba-8635-fd5b020b38c7",
   "metadata": {},
   "outputs": [
    {
     "name": "stdin",
     "output_type": "stream",
     "text": [
      "Enter an int:  5\n"
     ]
    },
    {
     "data": {
      "text/plain": [
       "120"
      ]
     },
     "execution_count": 52,
     "metadata": {},
     "output_type": "execute_result"
    }
   ],
   "source": [
    "n = int(input(\"Enter an int: \"))\n",
    "factorial(n)"
   ]
  },
  {
   "cell_type": "code",
   "execution_count": 56,
   "id": "a88e94da-c23f-4bf3-b440-3a390609a214",
   "metadata": {},
   "outputs": [],
   "source": [
    "def checkrange(low, num, high):\n",
    "    if low <= num and high >= num:\n",
    "        print(f\"{num} is in the range of {low} and {high}\")\n",
    "    else:\n",
    "        print(\"Not in range\")"
   ]
  },
  {
   "cell_type": "code",
   "execution_count": 60,
   "id": "cecdad1d-b006-45c8-8cfc-a02a08356f43",
   "metadata": {},
   "outputs": [
    {
     "name": "stdout",
     "output_type": "stream",
     "text": [
      "5 is in the range of 4 and 7\n"
     ]
    }
   ],
   "source": [
    "checkrange(4, 5, 7)"
   ]
  },
  {
   "cell_type": "code",
   "execution_count": 68,
   "id": "a5cb7e68-041d-4d82-94c9-bb4b8fcef155",
   "metadata": {},
   "outputs": [],
   "source": [
    "def checkcharacter(word):\n",
    "    upper_counter = 0\n",
    "    lower_counter = 0\n",
    "\n",
    "    for letter in word:\n",
    "        if letter.isupper():\n",
    "            upper_counter+=1\n",
    "        else:\n",
    "            lower_counter+=1\n",
    "    print(f\"No. of Upper case characters: {upper_counter}\")\n",
    "    print(f\"No. of Lower case characters: {lower_counter}\")"
   ]
  },
  {
   "cell_type": "code",
   "execution_count": 69,
   "id": "586012c7-2b9e-4ede-9787-4db129106ab9",
   "metadata": {},
   "outputs": [
    {
     "name": "stdout",
     "output_type": "stream",
     "text": [
      "No. of Upper case characters: 3\n",
      "No. of Lower case characters: 15\n"
     ]
    }
   ],
   "source": [
    "checkcharacter('The quick Brow Fox')"
   ]
  },
  {
   "cell_type": "code",
   "execution_count": null,
   "id": "13a1a1f8-2b10-43c2-b93a-755448426b6a",
   "metadata": {},
   "outputs": [],
   "source": []
  }
 ],
 "metadata": {
  "kernelspec": {
   "display_name": "Python [conda env:base] *",
   "language": "python",
   "name": "conda-base-py"
  },
  "language_info": {
   "codemirror_mode": {
    "name": "ipython",
    "version": 3
   },
   "file_extension": ".py",
   "mimetype": "text/x-python",
   "name": "python",
   "nbconvert_exporter": "python",
   "pygments_lexer": "ipython3",
   "version": "3.13.5"
  }
 },
 "nbformat": 4,
 "nbformat_minor": 5
}
