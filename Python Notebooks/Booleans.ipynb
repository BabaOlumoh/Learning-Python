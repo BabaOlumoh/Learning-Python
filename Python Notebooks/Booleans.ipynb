{
 "cells": [
  {
   "cell_type": "markdown",
   "id": "d63d3ca3-312f-4176-b172-51c5a0584c8a",
   "metadata": {},
   "source": [
    "Booleans are operators that allow you convey true or false statement. booleans are very important in control flow and logic."
   ]
  }
 ],
 "metadata": {
  "kernelspec": {
   "display_name": "Python [conda env:base] *",
   "language": "python",
   "name": "conda-base-py"
  },
  "language_info": {
   "codemirror_mode": {
    "name": "ipython",
    "version": 3
   },
   "file_extension": ".py",
   "mimetype": "text/x-python",
   "name": "python",
   "nbconvert_exporter": "python",
   "pygments_lexer": "ipython3",
   "version": "3.13.5"
  }
 },
 "nbformat": 4,
 "nbformat_minor": 5
}
