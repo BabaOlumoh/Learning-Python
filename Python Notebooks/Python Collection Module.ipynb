{
 "cells": [
  {
   "cell_type": "code",
   "execution_count": 1,
   "id": "5d2b5469-4623-47c5-9ce3-bc9e4f8c270e",
   "metadata": {},
   "outputs": [],
   "source": [
    "from collections import Counter"
   ]
  },
  {
   "cell_type": "code",
   "execution_count": 4,
   "id": "4dc57543-840e-4999-ad26-96f7861d1b21",
   "metadata": {},
   "outputs": [],
   "source": [
    "mylist = [1,1,1,1,2,2,2,2,3,3,3,3,'a','b']"
   ]
  },
  {
   "cell_type": "code",
   "execution_count": 5,
   "id": "6310f3a9-b316-4b92-8132-dd401cf0baa1",
   "metadata": {},
   "outputs": [
    {
     "data": {
      "text/plain": [
       "Counter({1: 4, 2: 4, 3: 4, 'a': 1, 'b': 1})"
      ]
     },
     "execution_count": 5,
     "metadata": {},
     "output_type": "execute_result"
    }
   ],
   "source": [
    "Counter(mylist)"
   ]
  },
  {
   "cell_type": "code",
   "execution_count": 6,
   "id": "825b4729-51a8-45d1-83ad-98da8b4699ca",
   "metadata": {},
   "outputs": [],
   "source": [
    "letters = \"aaaaabbbbbcccccc\""
   ]
  },
  {
   "cell_type": "code",
   "execution_count": 7,
   "id": "80f5b64d-6cc9-4e3d-819a-216cef83702d",
   "metadata": {},
   "outputs": [],
   "source": [
    "c = Counter(letters)"
   ]
  },
  {
   "cell_type": "code",
   "execution_count": 8,
   "id": "3f8b41ed-0d39-4c3d-833e-c80e40c0f935",
   "metadata": {},
   "outputs": [
    {
     "data": {
      "text/plain": [
       "Counter({'c': 6, 'a': 5, 'b': 5})"
      ]
     },
     "execution_count": 8,
     "metadata": {},
     "output_type": "execute_result"
    }
   ],
   "source": [
    "c"
   ]
  },
  {
   "cell_type": "code",
   "execution_count": 11,
   "id": "dc25f648-e2a8-4012-ab9f-60520fd97410",
   "metadata": {},
   "outputs": [
    {
     "data": {
      "text/plain": [
       "[('c', 6), ('a', 5), ('b', 5)]"
      ]
     },
     "execution_count": 11,
     "metadata": {},
     "output_type": "execute_result"
    }
   ],
   "source": [
    "c.most_common()"
   ]
  },
  {
   "cell_type": "code",
   "execution_count": 12,
   "id": "4bdbef88-231e-41d7-962a-889037006b38",
   "metadata": {},
   "outputs": [
    {
     "data": {
      "text/plain": [
       "[('c', 6)]"
      ]
     },
     "execution_count": 12,
     "metadata": {},
     "output_type": "execute_result"
    }
   ],
   "source": [
    "c.most_common(1)"
   ]
  },
  {
   "cell_type": "code",
   "execution_count": null,
   "id": "b263e8cf-d6fa-49a1-b8ef-03016bb7bf5a",
   "metadata": {},
   "outputs": [],
   "source": []
  },
  {
   "cell_type": "code",
   "execution_count": 14,
   "id": "dff62038-17af-493a-84fc-186f6de3bfda",
   "metadata": {},
   "outputs": [],
   "source": [
    "from collections import defaultdict"
   ]
  },
  {
   "cell_type": "code",
   "execution_count": 15,
   "id": "d2b58d41-aefe-42b2-b5d9-117ee4527b46",
   "metadata": {},
   "outputs": [],
   "source": [
    "d = {'a':10}"
   ]
  },
  {
   "cell_type": "code",
   "execution_count": 16,
   "id": "a896dc36-f300-4d60-aeb7-79d0edb31ed6",
   "metadata": {},
   "outputs": [
    {
     "data": {
      "text/plain": [
       "10"
      ]
     },
     "execution_count": 16,
     "metadata": {},
     "output_type": "execute_result"
    }
   ],
   "source": [
    "d[\"a\"]"
   ]
  },
  {
   "cell_type": "code",
   "execution_count": 17,
   "id": "71e69b15-8941-48e8-b0a3-fd3150540df4",
   "metadata": {},
   "outputs": [
    {
     "ename": "KeyError",
     "evalue": "'WRONG'",
     "output_type": "error",
     "traceback": [
      "\u001b[0;31m---------------------------------------------------------------------------\u001b[0m",
      "\u001b[0;31mKeyError\u001b[0m                                  Traceback (most recent call last)",
      "Cell \u001b[0;32mIn[17], line 1\u001b[0m\n\u001b[0;32m----> 1\u001b[0m d[\u001b[38;5;124m\"\u001b[39m\u001b[38;5;124mWRONG\u001b[39m\u001b[38;5;124m\"\u001b[39m]\n",
      "\u001b[0;31mKeyError\u001b[0m: 'WRONG'"
     ]
    }
   ],
   "source": [
    "d[\"WRONG\"]"
   ]
  },
  {
   "cell_type": "code",
   "execution_count": 18,
   "id": "254c1ab2-bfc0-4cd8-85bd-d4832a90b786",
   "metadata": {},
   "outputs": [],
   "source": [
    "d = defaultdict(lambda: 0)"
   ]
  },
  {
   "cell_type": "code",
   "execution_count": 19,
   "id": "6580f4b2-916c-4023-8560-4f59620a72e6",
   "metadata": {},
   "outputs": [
    {
     "data": {
      "text/plain": [
       "0"
      ]
     },
     "execution_count": 19,
     "metadata": {},
     "output_type": "execute_result"
    }
   ],
   "source": [
    "d[\"WRONG\"]"
   ]
  },
  {
   "cell_type": "code",
   "execution_count": 20,
   "id": "49b695ee-aea7-4c55-9c00-dcf16acbc886",
   "metadata": {},
   "outputs": [],
   "source": [
    "from collections import namedtuple"
   ]
  },
  {
   "cell_type": "code",
   "execution_count": 21,
   "id": "c07dbaf2-690e-47ba-8b11-79c1ba1f721d",
   "metadata": {},
   "outputs": [],
   "source": [
    "Dog = namedtuple(\"Dog\", [\"age\", \"breed\", \"name\"])"
   ]
  },
  {
   "cell_type": "code",
   "execution_count": 22,
   "id": "9983a8b7-79a3-434d-b538-e206f9c0fdef",
   "metadata": {},
   "outputs": [],
   "source": [
    "sammy = Dog(age=5, breed=\"Husky\", name=\"Sam\")"
   ]
  },
  {
   "cell_type": "code",
   "execution_count": 23,
   "id": "c1d864cf-4a3c-4360-aca0-37eb93a5db94",
   "metadata": {},
   "outputs": [
    {
     "data": {
      "text/plain": [
       "Dog(age=5, breed='Husky', name='Sam')"
      ]
     },
     "execution_count": 23,
     "metadata": {},
     "output_type": "execute_result"
    }
   ],
   "source": [
    "sammy"
   ]
  },
  {
   "cell_type": "code",
   "execution_count": 24,
   "id": "2b73a448-16a6-4be8-8604-13ee73fe9ef1",
   "metadata": {},
   "outputs": [
    {
     "data": {
      "text/plain": [
       "5"
      ]
     },
     "execution_count": 24,
     "metadata": {},
     "output_type": "execute_result"
    }
   ],
   "source": [
    "sammy.age"
   ]
  },
  {
   "cell_type": "code",
   "execution_count": null,
   "id": "7e0da8eb-86cf-49b3-9da1-9638ee25b794",
   "metadata": {},
   "outputs": [],
   "source": []
  }
 ],
 "metadata": {
  "kernelspec": {
   "display_name": "Python [conda env:base] *",
   "language": "python",
   "name": "conda-base-py"
  },
  "language_info": {
   "codemirror_mode": {
    "name": "ipython",
    "version": 3
   },
   "file_extension": ".py",
   "mimetype": "text/x-python",
   "name": "python",
   "nbconvert_exporter": "python",
   "pygments_lexer": "ipython3",
   "version": "3.13.5"
  }
 },
 "nbformat": 4,
 "nbformat_minor": 5
}
