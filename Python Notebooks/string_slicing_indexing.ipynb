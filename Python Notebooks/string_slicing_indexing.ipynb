{
 "cells": [
  {
   "cell_type": "code",
   "execution_count": 4,
   "id": "130edea3-6061-4a7a-9f33-bb95f4979e81",
   "metadata": {},
   "outputs": [
    {
     "name": "stdout",
     "output_type": "stream",
     "text": [
      "Hello World\n"
     ]
    }
   ],
   "source": [
    "mystring = \"Hello World\"\n",
    "print(mystring)"
   ]
  },
  {
   "cell_type": "markdown",
   "id": "cd6499af-00c9-487c-aac6-3108dd1fd177",
   "metadata": {},
   "source": [
    "String index\n",
    "index the following characters: H,e,W,r"
   ]
  },
  {
   "cell_type": "code",
   "execution_count": 6,
   "id": "beda6da6-3182-4c47-8af5-f6cb2260f7ea",
   "metadata": {},
   "outputs": [
    {
     "data": {
      "text/plain": [
       "'d'"
      ]
     },
     "execution_count": 6,
     "metadata": {},
     "output_type": "execute_result"
    }
   ],
   "source": [
    "mystring[0]"
   ]
  },
  {
   "cell_type": "code",
   "execution_count": 7,
   "id": "4fe3d785-a9aa-4cc7-9774-2df2223b734f",
   "metadata": {},
   "outputs": [
    {
     "data": {
      "text/plain": [
       "'e'"
      ]
     },
     "execution_count": 7,
     "metadata": {},
     "output_type": "execute_result"
    }
   ],
   "source": [
    "mystring[1]"
   ]
  },
  {
   "cell_type": "code",
   "execution_count": 8,
   "id": "e06f7df8-7501-4b5a-873d-7b16742fdd72",
   "metadata": {},
   "outputs": [
    {
     "data": {
      "text/plain": [
       "'W'"
      ]
     },
     "execution_count": 8,
     "metadata": {},
     "output_type": "execute_result"
    }
   ],
   "source": [
    "mystring[6]"
   ]
  },
  {
   "cell_type": "code",
   "execution_count": 9,
   "id": "5b2c7c1f-1568-41a1-b6e0-3e835e4fdae5",
   "metadata": {},
   "outputs": [
    {
     "data": {
      "text/plain": [
       "'d'"
      ]
     },
     "execution_count": 9,
     "metadata": {},
     "output_type": "execute_result"
    }
   ],
   "source": [
    "mystring[-1]"
   ]
  },
  {
   "cell_type": "markdown",
   "id": "a2b4b2e5-240d-47c2-9197-e327bfcfea49",
   "metadata": {},
   "source": [
    "String slicing is used to get a subset of a string\n",
    "string[start:stop:size]\n",
    "the stop index is used as a base to stop but it's not included in the slicing\n",
    "using abcdefghijk\n",
    "slice out - defghijk,abc, def, bc, defghi, acegik, adgj, ceg, kjihgfedcba\n",
    "step size\n"
   ]
  },
  {
   "cell_type": "code",
   "execution_count": 13,
   "id": "82f06c62-0e06-4815-87a5-5d7b38c7a5a6",
   "metadata": {},
   "outputs": [],
   "source": [
    "mystring = \"abcdefghijk\""
   ]
  },
  {
   "cell_type": "markdown",
   "id": "27859fbc-c931-46aa-8920-8aac7edad73a",
   "metadata": {},
   "source": [
    "mystring is now reassigned to abcdefghijk"
   ]
  },
  {
   "cell_type": "code",
   "execution_count": null,
   "id": "43f1e9ce-d290-4abb-a917-21e2adccb769",
   "metadata": {},
   "outputs": [],
   "source": [
    "mystring[2:]"
   ]
  },
  {
   "cell_type": "markdown",
   "id": "304d04ce-a645-4ba6-9e9c-beb07e20a808",
   "metadata": {},
   "source": [
    "2: slice out the first 3 characters print the rest, note the stop character is not included in the result"
   ]
  },
  {
   "cell_type": "code",
   "execution_count": 14,
   "id": "207ae943-15d9-4684-8e85-936a4509f7e7",
   "metadata": {},
   "outputs": [
    {
     "data": {
      "text/plain": [
       "'abc'"
      ]
     },
     "execution_count": 14,
     "metadata": {},
     "output_type": "execute_result"
    }
   ],
   "source": [
    "mystring[:3]"
   ]
  },
  {
   "cell_type": "code",
   "execution_count": 16,
   "id": "9a16e799-d164-41ee-a546-ad1c27de3947",
   "metadata": {},
   "outputs": [
    {
     "data": {
      "text/plain": [
       "'def'"
      ]
     },
     "execution_count": 16,
     "metadata": {},
     "output_type": "execute_result"
    }
   ],
   "source": [
    "mystring[3:6]"
   ]
  },
  {
   "cell_type": "code",
   "execution_count": 17,
   "id": "15509bc7-da83-43e8-9dae-4a56bdfe4ecd",
   "metadata": {},
   "outputs": [
    {
     "data": {
      "text/plain": [
       "'bc'"
      ]
     },
     "execution_count": 17,
     "metadata": {},
     "output_type": "execute_result"
    }
   ],
   "source": [
    "mystring[1:3]"
   ]
  },
  {
   "cell_type": "code",
   "execution_count": 18,
   "id": "704e4882-705d-475a-bf8f-95e6afd78f22",
   "metadata": {},
   "outputs": [
    {
     "data": {
      "text/plain": [
       "'defghi'"
      ]
     },
     "execution_count": 18,
     "metadata": {},
     "output_type": "execute_result"
    }
   ],
   "source": [
    "mystring[3:9]"
   ]
  },
  {
   "cell_type": "code",
   "execution_count": null,
   "id": "87d6a18a-65bd-4e97-b9b3-47b576ee36ca",
   "metadata": {},
   "outputs": [],
   "source": []
  }
 ],
 "metadata": {
  "kernelspec": {
   "display_name": "Python [conda env:base] *",
   "language": "python",
   "name": "conda-base-py"
  },
  "language_info": {
   "codemirror_mode": {
    "name": "ipython",
    "version": 3
   },
   "file_extension": ".py",
   "mimetype": "text/x-python",
   "name": "python",
   "nbconvert_exporter": "python",
   "pygments_lexer": "ipython3",
   "version": "3.13.5"
  }
 },
 "nbformat": 4,
 "nbformat_minor": 5
}
