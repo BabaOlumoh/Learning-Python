{
 "cells": [
  {
   "cell_type": "markdown",
   "id": "019d0d9a-539f-4b43-b28f-71f1930f0e2b",
   "metadata": {},
   "source": [
    "Immutability = can't be changed or mutated.\n",
    "Strings are immutable which means they can't be changed using indexing. However, you can manipulate strings with concatenation using +. manipulate Sam to Pam using concatenation and slicing.\n",
    "\n",
    "Use upper(), lower, split.\n",
    "split breakdown strings seperated by a white space by default into a list, but you can also modify it by giving it a character to work with.\n",
    "split(i).\n",
    "\"Hello World\"\n",
    "\"This is a string\"\n"
   ]
  },
  {
   "cell_type": "code",
   "execution_count": null,
   "id": "20bdf039-7c1e-41be-87ed-05eb3010f639",
   "metadata": {},
   "outputs": [],
   "source": []
  }
 ],
 "metadata": {
  "kernelspec": {
   "display_name": "Python [conda env:base] *",
   "language": "python",
   "name": "conda-base-py"
  },
  "language_info": {
   "codemirror_mode": {
    "name": "ipython",
    "version": 3
   },
   "file_extension": ".py",
   "mimetype": "text/x-python",
   "name": "python",
   "nbconvert_exporter": "python",
   "pygments_lexer": "ipython3",
   "version": "3.13.5"
  }
 },
 "nbformat": 4,
 "nbformat_minor": 5
}
