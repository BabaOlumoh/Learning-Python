{
 "cells": [
  {
   "cell_type": "code",
   "execution_count": 1,
   "id": "eec9244b-26d5-4ee5-8c21-33ae425e7d9b",
   "metadata": {},
   "outputs": [],
   "source": [
    "work_hours = [('Abby', 100), ('Billy', 400), ('Cassie', 800)]"
   ]
  },
  {
   "cell_type": "code",
   "execution_count": 10,
   "id": "6ed6eead-afb1-439c-9f7c-f60493bc87b6",
   "metadata": {},
   "outputs": [],
   "source": [
    "def employee_of_the_month(work_hours):\n",
    "    current_max = 0\n",
    "    employee_name = ''\n",
    "\n",
    "    for employee, hours in work_hours:\n",
    "        if hours > current_max:\n",
    "            current_max = hours\n",
    "            employee_name = employee\n",
    "        else:\n",
    "            pass\n",
    "    return (employee_name, current_max)"
   ]
  },
  {
   "cell_type": "code",
   "execution_count": 11,
   "id": "74ef887e-df3e-4812-a8d9-a4a8a4302d7b",
   "metadata": {},
   "outputs": [],
   "source": [
    "result = employee_of_the_month(work_hours)"
   ]
  },
  {
   "cell_type": "code",
   "execution_count": 12,
   "id": "832ef50b-92a1-4a4a-969e-aa2c510d1765",
   "metadata": {},
   "outputs": [
    {
     "data": {
      "text/plain": [
       "('Cassie', 800)"
      ]
     },
     "execution_count": 12,
     "metadata": {},
     "output_type": "execute_result"
    }
   ],
   "source": [
    "result"
   ]
  },
  {
   "cell_type": "code",
   "execution_count": 14,
   "id": "552a0ad3-07df-49da-85b2-95d32cc5e285",
   "metadata": {},
   "outputs": [],
   "source": [
    "#Interacting with functions"
   ]
  },
  {
   "cell_type": "code",
   "execution_count": 33,
   "id": "21948b61-85bc-490e-8923-04506232181e",
   "metadata": {},
   "outputs": [],
   "source": [
    "from random import shuffle"
   ]
  },
  {
   "cell_type": "code",
   "execution_count": 64,
   "id": "17e57f2b-4f35-47a5-b68a-ceb20fb865f5",
   "metadata": {},
   "outputs": [],
   "source": [
    "mylist = [' ', '0', ' ']"
   ]
  },
  {
   "cell_type": "code",
   "execution_count": 65,
   "id": "0f61e9fb-5f13-46dd-a2a4-288b6f7fe853",
   "metadata": {},
   "outputs": [],
   "source": [
    "def shuffle_list(mylist):\n",
    "    shuffle(mylist)\n",
    "    return mylist"
   ]
  },
  {
   "cell_type": "code",
   "execution_count": 66,
   "id": "b52c941a-ee04-4d72-a42d-ddd533aa7e27",
   "metadata": {},
   "outputs": [
    {
     "data": {
      "text/plain": [
       "[' ', ' ', '0']"
      ]
     },
     "execution_count": 66,
     "metadata": {},
     "output_type": "execute_result"
    }
   ],
   "source": [
    "shuffle_list(mylist)"
   ]
  },
  {
   "cell_type": "code",
   "execution_count": 91,
   "id": "050b5925-3ccf-4a36-8de3-614119a4ddcc",
   "metadata": {},
   "outputs": [],
   "source": [
    "def player_guess():\n",
    "    guess = ''\n",
    "    while guess not in ['0','1','2']:\n",
    "        guess = input(\"Enter 0,1 or 2\")\n",
    "    return int(guess)"
   ]
  },
  {
   "cell_type": "code",
   "execution_count": 92,
   "id": "177213c5-37a3-4cc2-9cd8-e4f931ddb0bc",
   "metadata": {},
   "outputs": [
    {
     "name": "stdin",
     "output_type": "stream",
     "text": [
      "Enter 0,1 or 2 1\n"
     ]
    },
    {
     "data": {
      "text/plain": [
       "1"
      ]
     },
     "execution_count": 92,
     "metadata": {},
     "output_type": "execute_result"
    }
   ],
   "source": [
    "player_guess()"
   ]
  },
  {
   "cell_type": "code",
   "execution_count": 93,
   "id": "35df6078-29f4-4b1d-a304-ed2ad18ef908",
   "metadata": {},
   "outputs": [],
   "source": [
    "def check_guess(mylist,guess):\n",
    "    if mylist[guess] == 'O':\n",
    "        print(\"Correct, you've won this round\")\n",
    "    else:\n",
    "        print(\"Wrong guess!\")\n",
    "        print(mylist)\n",
    "        \n",
    "    "
   ]
  },
  {
   "cell_type": "code",
   "execution_count": 95,
   "id": "eaf1df27-d09a-4453-94fd-603155a9ee15",
   "metadata": {},
   "outputs": [
    {
     "name": "stdin",
     "output_type": "stream",
     "text": [
      "Enter 0,1 or 2 0\n"
     ]
    },
    {
     "name": "stdout",
     "output_type": "stream",
     "text": [
      "Wrong guess!\n",
      "['0', ' ', ' ']\n"
     ]
    }
   ],
   "source": [
    "mylist = [' ','0', ' ']\n",
    "\n",
    "mixedup_list = shuffle_list(mylist)\n",
    "\n",
    "guess = player_guess()\n",
    "\n",
    "check_guess(mixedup_list, guess)"
   ]
  },
  {
   "cell_type": "code",
   "execution_count": null,
   "id": "68d27d9a-705d-48f5-b3bf-65e2a1722374",
   "metadata": {},
   "outputs": [],
   "source": []
  }
 ],
 "metadata": {
  "kernelspec": {
   "display_name": "Python [conda env:base] *",
   "language": "python",
   "name": "conda-base-py"
  },
  "language_info": {
   "codemirror_mode": {
    "name": "ipython",
    "version": 3
   },
   "file_extension": ".py",
   "mimetype": "text/x-python",
   "name": "python",
   "nbconvert_exporter": "python",
   "pygments_lexer": "ipython3",
   "version": "3.13.5"
  }
 },
 "nbformat": 4,
 "nbformat_minor": 5
}
