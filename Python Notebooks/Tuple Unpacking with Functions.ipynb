{
 "cells": [
  {
   "cell_type": "code",
   "execution_count": 1,
   "id": "eec9244b-26d5-4ee5-8c21-33ae425e7d9b",
   "metadata": {},
   "outputs": [],
   "source": [
    "work_hours = [('Abby', 100), ('Billy', 400), ('Cassie', 800)]"
   ]
  },
  {
   "cell_type": "code",
   "execution_count": 10,
   "id": "6ed6eead-afb1-439c-9f7c-f60493bc87b6",
   "metadata": {},
   "outputs": [],
   "source": [
    "def employee_of_the_month(work_hours):\n",
    "    current_max = 0\n",
    "    employee_name = ''\n",
    "\n",
    "    for employee, hours in work_hours:\n",
    "        if hours > current_max:\n",
    "            current_max = hours\n",
    "            employee_name = employee\n",
    "        else:\n",
    "            pass\n",
    "    return (employee_name, current_max)"
   ]
  },
  {
   "cell_type": "code",
   "execution_count": 11,
   "id": "74ef887e-df3e-4812-a8d9-a4a8a4302d7b",
   "metadata": {},
   "outputs": [],
   "source": [
    "result = employee_of_the_month(work_hours)"
   ]
  },
  {
   "cell_type": "code",
   "execution_count": 12,
   "id": "832ef50b-92a1-4a4a-969e-aa2c510d1765",
   "metadata": {},
   "outputs": [
    {
     "data": {
      "text/plain": [
       "('Cassie', 800)"
      ]
     },
     "execution_count": 12,
     "metadata": {},
     "output_type": "execute_result"
    }
   ],
   "source": [
    "result"
   ]
  },
  {
   "cell_type": "code",
   "execution_count": 13,
   "id": "552a0ad3-07df-49da-85b2-95d32cc5e285",
   "metadata": {},
   "outputs": [],
   "source": [
    "#Interracting with functions"
   ]
  },
  {
   "cell_type": "code",
   "execution_count": null,
   "id": "21948b61-85bc-490e-8923-04506232181e",
   "metadata": {},
   "outputs": [],
   "source": []
  }
 ],
 "metadata": {
  "kernelspec": {
   "display_name": "Python [conda env:base] *",
   "language": "python",
   "name": "conda-base-py"
  },
  "language_info": {
   "codemirror_mode": {
    "name": "ipython",
    "version": 3
   },
   "file_extension": ".py",
   "mimetype": "text/x-python",
   "name": "python",
   "nbconvert_exporter": "python",
   "pygments_lexer": "ipython3",
   "version": "3.13.5"
  }
 },
 "nbformat": 4,
 "nbformat_minor": 5
}
