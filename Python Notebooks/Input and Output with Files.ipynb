{
 "cells": [
  {
   "cell_type": "code",
   "execution_count": 15,
   "id": "b9031b0a-696d-416a-b08c-fe7e53f22824",
   "metadata": {},
   "outputs": [
    {
     "name": "stdout",
     "output_type": "stream",
     "text": [
      "Overwriting myfile.txt\n"
     ]
    }
   ],
   "source": [
    "%%writefile myfile.txt\n",
    "Hello this is a text file\n",
    "this is the second line\n",
    "this is the third line"
   ]
  },
  {
   "cell_type": "code",
   "execution_count": 3,
   "id": "0bbc2524-d25c-4453-878f-6019434bd234",
   "metadata": {},
   "outputs": [],
   "source": [
    "myfile = open('myfile.txt')"
   ]
  },
  {
   "cell_type": "code",
   "execution_count": 4,
   "id": "e5a133f8-7011-4403-9bbb-bc05ecc6cdc8",
   "metadata": {},
   "outputs": [
    {
     "data": {
      "text/plain": [
       "'Hello this is a text file\\nthis is the second line\\nthis is the third line\\n'"
      ]
     },
     "execution_count": 4,
     "metadata": {},
     "output_type": "execute_result"
    }
   ],
   "source": [
    "myfile.read()"
   ]
  },
  {
   "cell_type": "code",
   "execution_count": null,
   "id": "b21a45f5-0b05-4d8d-b818-07307c51b1f6",
   "metadata": {},
   "outputs": [],
   "source": [
    "myfile.seek(0)"
   ]
  },
  {
   "cell_type": "code",
   "execution_count": 27,
   "id": "53a124bb-2c3d-4763-a6b6-6b77c68680bc",
   "metadata": {},
   "outputs": [
    {
     "data": {
      "text/plain": [
       "'\\n'"
      ]
     },
     "execution_count": 27,
     "metadata": {},
     "output_type": "execute_result"
    }
   ],
   "source": [
    "myfile.readline()"
   ]
  },
  {
   "cell_type": "code",
   "execution_count": 5,
   "id": "b690d9c7-7fb9-434e-a7f4-353df8d0c161",
   "metadata": {},
   "outputs": [
    {
     "data": {
      "text/plain": [
       "'/Users/homebase/Desktop/Python/Udemy Course/Python Notebooks'"
      ]
     },
     "execution_count": 5,
     "metadata": {},
     "output_type": "execute_result"
    }
   ],
   "source": [
    "pwd"
   ]
  },
  {
   "cell_type": "markdown",
   "id": "903d825c-9ae0-4f71-a218-3e2a55e85d29",
   "metadata": {},
   "source": [
    "mode=\"r\" is read only\n",
    "mode=\"w\" is write only (overwrite files and create new!)\n",
    "mode=\"a\" is append only (will add on to files)\n",
    "mode=\"r+\" is reading and writing\n",
    "mode=\"w+\" is writing and reading (overwrites existing files or creates a new file!)"
   ]
  },
  {
   "cell_type": "code",
   "execution_count": 16,
   "id": "c9e5e72d-a794-4c84-aa65-d06af812a845",
   "metadata": {},
   "outputs": [
    {
     "name": "stdout",
     "output_type": "stream",
     "text": [
      "Hello this is a text file\n",
      "this is the second line\n",
      "this is the third line\n",
      "\n"
     ]
    }
   ],
   "source": [
    "#Reading\n",
    "with open('myfile.txt', mode='r') as f:\n",
    "    print(f.read())"
   ]
  },
  {
   "cell_type": "code",
   "execution_count": 17,
   "id": "73a47503-3b31-4282-b1e5-1692a1a17e14",
   "metadata": {},
   "outputs": [],
   "source": [
    "#Appending at the end\n",
    "with open('myfile.txt', mode='a') as f:\n",
    "    f.write(\"\\nthis is the fourth line\")"
   ]
  },
  {
   "cell_type": "code",
   "execution_count": 18,
   "id": "a8f132e1-60de-4cab-81e9-57df3e9da634",
   "metadata": {},
   "outputs": [
    {
     "name": "stdout",
     "output_type": "stream",
     "text": [
      "Hello this is a text file\n",
      "this is the second line\n",
      "this is the third line\n",
      "\n",
      "this is the fourth line\n"
     ]
    }
   ],
   "source": [
    "with open('myfile.txt', mode='r') as f:\n",
    "    print(f.read())"
   ]
  },
  {
   "cell_type": "code",
   "execution_count": 23,
   "id": "3d0d3d92-a9b5-49a1-a3ea-9a78bbf3f1ad",
   "metadata": {},
   "outputs": [],
   "source": [
    "with open('new_file.txt', mode='w+') as f:\n",
    "    f.write(\"I created a new another file!\")"
   ]
  },
  {
   "cell_type": "code",
   "execution_count": 24,
   "id": "0fcc7b6b-7000-4f1a-9979-20deb3d1035a",
   "metadata": {},
   "outputs": [
    {
     "name": "stdout",
     "output_type": "stream",
     "text": [
      "I created a new another file!\n"
     ]
    }
   ],
   "source": [
    "with open('new_file.txt', mode='r') as f:\n",
    "    print(f.read())"
   ]
  },
  {
   "cell_type": "code",
   "execution_count": 30,
   "id": "8b002e81-ebb5-4830-ae21-73e9e1022f88",
   "metadata": {},
   "outputs": [],
   "source": []
  },
  {
   "cell_type": "code",
   "execution_count": null,
   "id": "ecce0c28-1497-4d0a-8ea0-35308bd0cbb7",
   "metadata": {},
   "outputs": [],
   "source": []
  }
 ],
 "metadata": {
  "kernelspec": {
   "display_name": "Python [conda env:base] *",
   "language": "python",
   "name": "conda-base-py"
  },
  "language_info": {
   "codemirror_mode": {
    "name": "ipython",
    "version": 3
   },
   "file_extension": ".py",
   "mimetype": "text/x-python",
   "name": "python",
   "nbconvert_exporter": "python",
   "pygments_lexer": "ipython3",
   "version": "3.13.5"
  }
 },
 "nbformat": 4,
 "nbformat_minor": 5
}
