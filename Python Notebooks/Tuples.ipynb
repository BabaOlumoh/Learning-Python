{
 "cells": [
  {
   "cell_type": "markdown",
   "id": "b6f0c6c7-e3d6-4abe-96a9-2e326826f340",
   "metadata": {},
   "source": [
    "Tuples are very similar to lists. However, tuples are immutable. once they're assigned, they can't be reassigned.\n",
    "t = (1, \"two\", 3.5) - tuple\n",
    "l = [1, \"two\", 3.5] - list"
   ]
  },
  {
   "cell_type": "code",
   "execution_count": 31,
   "id": "88682715-6fae-4570-837f-010a03798f6d",
   "metadata": {},
   "outputs": [
    {
     "name": "stdout",
     "output_type": "stream",
     "text": [
      "(1, 'two', 3.5)\n"
     ]
    }
   ],
   "source": [
    "my_tuple = (1,\"two\", 3.5)\n",
    "print(my_tuple)"
   ]
  },
  {
   "cell_type": "code",
   "execution_count": null,
   "id": "6dbbd44b-64ce-4781-8a97-8430ec8177c2",
   "metadata": {},
   "outputs": [],
   "source": [
    "my_tuple[0] #Tuples support indexing"
   ]
  },
  {
   "cell_type": "code",
   "execution_count": 33,
   "id": "67cf77d1-e45a-45a9-9fe8-f70bd1ebb607",
   "metadata": {},
   "outputs": [
    {
     "data": {
      "text/plain": [
       "3"
      ]
     },
     "execution_count": 33,
     "metadata": {},
     "output_type": "execute_result"
    }
   ],
   "source": [
    "len(my_tuple) #You can check the length of the tuple"
   ]
  },
  {
   "cell_type": "code",
   "execution_count": 35,
   "id": "d84e4a14-fab1-47bf-8f3a-da8fca32d804",
   "metadata": {},
   "outputs": [
    {
     "data": {
      "text/plain": [
       "1"
      ]
     },
     "execution_count": 35,
     "metadata": {},
     "output_type": "execute_result"
    }
   ],
   "source": [
    "my_tuple.count(3.5) #You can check how many instance of an object in tuples"
   ]
  },
  {
   "cell_type": "code",
   "execution_count": 37,
   "id": "2df35dd5-d487-4bcc-9f10-a593d4aa0a14",
   "metadata": {},
   "outputs": [
    {
     "data": {
      "text/plain": [
       "2"
      ]
     },
     "execution_count": 37,
     "metadata": {},
     "output_type": "execute_result"
    }
   ],
   "source": [
    "my_tuple.index(3.5) #You can check the index of an item "
   ]
  },
  {
   "cell_type": "markdown",
   "id": "e75c21ac-9e73-4fb1-907e-d6a3243fec69",
   "metadata": {},
   "source": [
    "Mini Project: Weekly Activity Logger (Using Tuples)\n",
    "Create a Weekly Activities Tuple\n",
    "    Let the user input 7 activities (one for each day of the week)\n",
    "    Store them as a tuple\n",
    "\n",
    "View All Activities\n",
    "    Show the full tuple of weekly activities\n",
    "\n",
    "Check How Many Times an Activity Occurs\n",
    "    Use .count() to see if the same activity was done multiple times\n",
    "    (e.g., how many times you watched movies this week)\n",
    "\n",
    "Find the Day of a Specific Activity\n",
    "    Ask the user to input an activity name\n",
    "    Use .index() to find the first day it was done (e.g., index 0 = Monday)\n",
    "\n",
    "Show Week in Reverse\n",
    "    Display the activities from Sunday to Monday (using slicing)\n",
    "\n",
    "Show Midweek Activities Only\n",
    "    Slice out activities from Tuesday to Thursday\n"
   ]
  }
 ],
 "metadata": {
  "kernelspec": {
   "display_name": "Python [conda env:base] *",
   "language": "python",
   "name": "conda-base-py"
  },
  "language_info": {
   "codemirror_mode": {
    "name": "ipython",
    "version": 3
   },
   "file_extension": ".py",
   "mimetype": "text/x-python",
   "name": "python",
   "nbconvert_exporter": "python",
   "pygments_lexer": "ipython3",
   "version": "3.13.5"
  }
 },
 "nbformat": 4,
 "nbformat_minor": 5
}
