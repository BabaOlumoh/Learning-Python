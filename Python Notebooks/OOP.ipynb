{
 "cells": [
  {
   "cell_type": "code",
   "execution_count": 1,
   "id": "b90d9939-75b3-4c8e-8ce0-b643c03b3583",
   "metadata": {},
   "outputs": [],
   "source": [
    "class Sample():\n",
    "    pass"
   ]
  },
  {
   "cell_type": "code",
   "execution_count": 2,
   "id": "143eea14-f9d9-42ec-b8f6-224c63dfbab7",
   "metadata": {},
   "outputs": [],
   "source": [
    "my_sample = Sample()"
   ]
  },
  {
   "cell_type": "code",
   "execution_count": 3,
   "id": "4d4d5c14-b55b-41f5-8905-e82c3da63024",
   "metadata": {},
   "outputs": [
    {
     "data": {
      "text/plain": [
       "__main__.Sample"
      ]
     },
     "execution_count": 3,
     "metadata": {},
     "output_type": "execute_result"
    }
   ],
   "source": [
    "type(my_sample)"
   ]
  },
  {
   "cell_type": "code",
   "execution_count": 10,
   "id": "439a7dd0-21ed-48ea-944f-55d5afa9c61a",
   "metadata": {},
   "outputs": [],
   "source": [
    "class Dog():\n",
    "    def __init__(self,breed, name, spots):\n",
    "        #Attributes\n",
    "        #We take in the argument\n",
    "        #Assign it using self.attribute_name\n",
    "        \n",
    "        self.breed = breed\n",
    "        self.name = name\n",
    "\n",
    "        #Expect boolean True/False\n",
    "        self.spots = spots"
   ]
  },
  {
   "cell_type": "code",
   "execution_count": 9,
   "id": "d4bf6fe0-c4c5-4db7-8aa9-07324090435e",
   "metadata": {},
   "outputs": [
    {
     "data": {
      "text/plain": [
       "'\\nclass Dog(): name of the class\\n    def __init__ --> name of the object|(self, breed --> parameters) :\\n    self.breed --> attributes(variable) = breed --> parameters now assigned to attributes\\n\\n\\n'"
      ]
     },
     "execution_count": 9,
     "metadata": {},
     "output_type": "execute_result"
    }
   ],
   "source": [
    "'''\n",
    "class Dog(): name of the class\n",
    "    def __init__ --> name of the object|(self, breed --> parameters) :\n",
    "    self.breed --> attributes(variable) = breed --> parameters now assigned to attributes\n",
    "\n",
    "\n",
    "'''"
   ]
  },
  {
   "cell_type": "code",
   "execution_count": 11,
   "id": "3645bf6e-cca1-4b60-a5f0-bef990d36876",
   "metadata": {},
   "outputs": [],
   "source": [
    "my_dog = Dog(breed = \"Lab\", name = \"Sammy\", spots = False)"
   ]
  },
  {
   "cell_type": "code",
   "execution_count": 17,
   "id": "795a8f98-fdc8-45e7-a212-35088633ff28",
   "metadata": {},
   "outputs": [
    {
     "data": {
      "text/plain": [
       "'Lab'"
      ]
     },
     "execution_count": 17,
     "metadata": {},
     "output_type": "execute_result"
    }
   ],
   "source": [
    "my_dog.breed"
   ]
  },
  {
   "cell_type": "code",
   "execution_count": 15,
   "id": "4a63aecc-fa8b-415f-aeef-8631274c531b",
   "metadata": {},
   "outputs": [
    {
     "data": {
      "text/plain": [
       "'Sammy'"
      ]
     },
     "execution_count": 15,
     "metadata": {},
     "output_type": "execute_result"
    }
   ],
   "source": [
    "my_dog.name\n"
   ]
  },
  {
   "cell_type": "code",
   "execution_count": 16,
   "id": "7f5daa50-6ac2-4f6c-8dda-3567e73fd03f",
   "metadata": {},
   "outputs": [
    {
     "data": {
      "text/plain": [
       "False"
      ]
     },
     "execution_count": 16,
     "metadata": {},
     "output_type": "execute_result"
    }
   ],
   "source": [
    "my_dog.spots"
   ]
  },
  {
   "cell_type": "code",
   "execution_count": 49,
   "id": "ce7ca1cf-0268-400c-8a25-6b5c92a73996",
   "metadata": {},
   "outputs": [],
   "source": [
    "class Goat():\n",
    "    #Class object attribute\n",
    "    #same for any instance of a class\n",
    "    species = 'Mammal'\n",
    "    def __init__(self, name, kind, wild):\n",
    "        self.name = name\n",
    "        self.kind = kind\n",
    "        self.wild = wild\n",
    "\n",
    "    #Operations/Actions --> Methods\n",
    "    #Method is a function inside a class that works with the object in some way\n",
    "\n",
    "    def sound(self, number):\n",
    "        print(f\"BAAAA! My name is {self.name} and the number is {number}\")"
   ]
  },
  {
   "cell_type": "code",
   "execution_count": 50,
   "id": "3a1d5edf-fe31-4087-8704-b2dbb618f3cc",
   "metadata": {},
   "outputs": [],
   "source": [
    "my_goat = Goat(name = \"Billy\", kind = \"Mountain Goat\", wild = True )"
   ]
  },
  {
   "cell_type": "code",
   "execution_count": 51,
   "id": "866f4e16-c216-4f28-a73b-be750e388921",
   "metadata": {},
   "outputs": [
    {
     "data": {
      "text/plain": [
       "'Billy'"
      ]
     },
     "execution_count": 51,
     "metadata": {},
     "output_type": "execute_result"
    }
   ],
   "source": [
    "my_goat.name"
   ]
  },
  {
   "cell_type": "code",
   "execution_count": 52,
   "id": "ce09c7cf-1e77-4b6b-9aae-00fb70f892b7",
   "metadata": {},
   "outputs": [
    {
     "data": {
      "text/plain": [
       "'Mountain Goat'"
      ]
     },
     "execution_count": 52,
     "metadata": {},
     "output_type": "execute_result"
    }
   ],
   "source": [
    "my_goat.kind"
   ]
  },
  {
   "cell_type": "code",
   "execution_count": 53,
   "id": "6151c5d4-fb21-4897-99b9-7b76e81856e3",
   "metadata": {},
   "outputs": [
    {
     "data": {
      "text/plain": [
       "True"
      ]
     },
     "execution_count": 53,
     "metadata": {},
     "output_type": "execute_result"
    }
   ],
   "source": [
    "my_goat.wild"
   ]
  },
  {
   "cell_type": "code",
   "execution_count": 54,
   "id": "fb11ae11-0943-4cf6-854d-1207be9e1d1d",
   "metadata": {},
   "outputs": [
    {
     "data": {
      "text/plain": [
       "'Mammal'"
      ]
     },
     "execution_count": 54,
     "metadata": {},
     "output_type": "execute_result"
    }
   ],
   "source": [
    "my_goat.species"
   ]
  },
  {
   "cell_type": "code",
   "execution_count": 56,
   "id": "b3a81964-08be-471d-92ec-a203e2384c28",
   "metadata": {},
   "outputs": [
    {
     "name": "stdout",
     "output_type": "stream",
     "text": [
      "BAAAA! My name is Billy and the number is 3\n"
     ]
    }
   ],
   "source": [
    "my_goat.sound(3)"
   ]
  },
  {
   "cell_type": "code",
   "execution_count": null,
   "id": "dd3f6e4e-fa17-4397-a49c-84cb11e1503c",
   "metadata": {},
   "outputs": [],
   "source": []
  },
  {
   "cell_type": "code",
   "execution_count": null,
   "id": "34c161e1-76b2-4890-b912-f25a915b55e3",
   "metadata": {},
   "outputs": [],
   "source": []
  },
  {
   "cell_type": "code",
   "execution_count": 58,
   "id": "1282a099-1c66-4c6e-be6d-cae2a89d5ca6",
   "metadata": {},
   "outputs": [],
   "source": [
    "class Circle():\n",
    "\n",
    "    #Class Object Attribute\n",
    "    pi = 3.14\n",
    "\n",
    "    def __init__(self,radius=1):\n",
    "        self.radius = radius\n",
    "\n",
    "    #Method\n",
    "    def get_circumference(self):\n",
    "        return self.radius * self.pi *2"
   ]
  },
  {
   "cell_type": "code",
   "execution_count": 59,
   "id": "7cb3d5ab-6c46-445d-a0be-e2bd04afaf54",
   "metadata": {},
   "outputs": [],
   "source": [
    "my_circle = Circle()"
   ]
  },
  {
   "cell_type": "code",
   "execution_count": 61,
   "id": "a10b7cf1-3dcc-4944-a969-600b1f8c3296",
   "metadata": {},
   "outputs": [
    {
     "data": {
      "text/plain": [
       "3.14"
      ]
     },
     "execution_count": 61,
     "metadata": {},
     "output_type": "execute_result"
    }
   ],
   "source": [
    "my_circle.pi"
   ]
  },
  {
   "cell_type": "code",
   "execution_count": 62,
   "id": "c21c4c1a-ea61-476e-b37a-73b0a6b7b5ca",
   "metadata": {},
   "outputs": [
    {
     "data": {
      "text/plain": [
       "1"
      ]
     },
     "execution_count": 62,
     "metadata": {},
     "output_type": "execute_result"
    }
   ],
   "source": [
    "my_circle.radius"
   ]
  },
  {
   "cell_type": "code",
   "execution_count": 63,
   "id": "f1d8d6df-fb19-4978-8c18-78f0a9a021ba",
   "metadata": {},
   "outputs": [
    {
     "data": {
      "text/plain": [
       "6.28"
      ]
     },
     "execution_count": 63,
     "metadata": {},
     "output_type": "execute_result"
    }
   ],
   "source": [
    "my_circle.get_circumference()"
   ]
  },
  {
   "cell_type": "code",
   "execution_count": null,
   "id": "3a26029f-c53e-4feb-b063-4248a31855f1",
   "metadata": {},
   "outputs": [],
   "source": []
  }
 ],
 "metadata": {
  "kernelspec": {
   "display_name": "Python [conda env:base] *",
   "language": "python",
   "name": "conda-base-py"
  },
  "language_info": {
   "codemirror_mode": {
    "name": "ipython",
    "version": 3
   },
   "file_extension": ".py",
   "mimetype": "text/x-python",
   "name": "python",
   "nbconvert_exporter": "python",
   "pygments_lexer": "ipython3",
   "version": "3.13.5"
  }
 },
 "nbformat": 4,
 "nbformat_minor": 5
}
