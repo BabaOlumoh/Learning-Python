{
 "cells": [
  {
   "cell_type": "code",
   "execution_count": 44,
   "id": "fe33636d-3da3-479b-87b6-276bc6d59233",
   "metadata": {},
   "outputs": [],
   "source": [
    "def myfunc(*args):\n",
    "    even_numbers = []\n",
    "    for item in args:\n",
    "        if item % 2 == 0:\n",
    "            even_numbers.append(item)\n",
    "    return even_numbers"
   ]
  },
  {
   "cell_type": "code",
   "execution_count": 45,
   "id": "2ec51b0b-b579-4cd5-b48f-8fca3ba69167",
   "metadata": {},
   "outputs": [
    {
     "data": {
      "text/plain": [
       "[2, 4, 6]"
      ]
     },
     "execution_count": 45,
     "metadata": {},
     "output_type": "execute_result"
    }
   ],
   "source": [
    "myfunc(2,3,4,6)"
   ]
  },
  {
   "cell_type": "code",
   "execution_count": 68,
   "id": "1a1d24f4-e36a-43ad-92cf-74eeaac3bd96",
   "metadata": {},
   "outputs": [
    {
     "data": {
      "text/plain": [
       "'dEaReSt'"
      ]
     },
     "execution_count": 68,
     "metadata": {},
     "output_type": "execute_result"
    }
   ],
   "source": [
    "def myfunc(word):\n",
    "    result = \"\"\n",
    "    for i, char in enumerate(word):\n",
    "        if i % 2 == 0:\n",
    "            result += char.lower()\n",
    "        elif i % 2 != 0:\n",
    "            result+= char.upper()\n",
    "    return result\n",
    "\n",
    "myfunc(\"Dearest\")"
   ]
  },
  {
   "cell_type": "code",
   "execution_count": 71,
   "id": "47473025-c691-4fe9-ad5d-db4d4df91dc9",
   "metadata": {},
   "outputs": [],
   "source": []
  },
  {
   "cell_type": "code",
   "execution_count": 72,
   "id": "160259d2-bdf4-4b4d-a967-6247553cf9c6",
   "metadata": {},
   "outputs": [
    {
     "ename": "UnboundLocalError",
     "evalue": "cannot access local variable 'subtract' where it is not associated with a value",
     "output_type": "error",
     "traceback": [
      "\u001b[0;31m---------------------------------------------------------------------------\u001b[0m",
      "\u001b[0;31mUnboundLocalError\u001b[0m                         Traceback (most recent call last)",
      "Cell \u001b[0;32mIn[72], line 1\u001b[0m\n\u001b[0;32m----> 1\u001b[0m subtraction(\u001b[38;5;241m1\u001b[39m,\u001b[38;5;241m2\u001b[39m,\u001b[38;5;241m3\u001b[39m)\n",
      "Cell \u001b[0;32mIn[71], line 2\u001b[0m, in \u001b[0;36msubtraction\u001b[0;34m(*args)\u001b[0m\n\u001b[1;32m      1\u001b[0m \u001b[38;5;28;01mdef\u001b[39;00m\u001b[38;5;250m \u001b[39m\u001b[38;5;21msubtraction\u001b[39m(\u001b[38;5;241m*\u001b[39margs):\n\u001b[0;32m----> 2\u001b[0m     subtract \u001b[38;5;241m-\u001b[39m\u001b[38;5;241m=\u001b[39m args\n\u001b[1;32m      3\u001b[0m     \u001b[38;5;28;01mreturn\u001b[39;00m subtract\n",
      "\u001b[0;31mUnboundLocalError\u001b[0m: cannot access local variable 'subtract' where it is not associated with a value"
     ]
    }
   ],
   "source": [
    "subtraction(1,2,3)"
   ]
  },
  {
   "cell_type": "code",
   "execution_count": 75,
   "id": "bb679e87-2b48-42f3-b7cb-631175a3a36e",
   "metadata": {},
   "outputs": [
    {
     "data": {
      "text/plain": [
       "36.0"
      ]
     },
     "execution_count": 75,
     "metadata": {},
     "output_type": "execute_result"
    }
   ],
   "source": [
    "(4)*(3**3)/3"
   ]
  },
  {
   "cell_type": "code",
   "execution_count": 76,
   "id": "1940e4a3-a3d9-45ea-8b4f-c1c06ff4a1d8",
   "metadata": {},
   "outputs": [],
   "source": [
    "def ran_check(num,low,high):\n",
    "    if low <= num <= high:\n",
    "        print(f\"{num} is in the range of {low} and {high}\")"
   ]
  },
  {
   "cell_type": "code",
   "execution_count": 78,
   "id": "f7391255-4d60-4824-945e-f20a3bd1f109",
   "metadata": {},
   "outputs": [
    {
     "name": "stdout",
     "output_type": "stream",
     "text": [
      "6 is in the range of 2 and 7\n"
     ]
    }
   ],
   "source": [
    "ran_check(6,2,7)"
   ]
  },
  {
   "cell_type": "code",
   "execution_count": 102,
   "id": "704eecfb-a40b-45f4-951e-a045b09cd462",
   "metadata": {},
   "outputs": [],
   "source": [
    "def up_low(s):\n",
    "    low_counter = 0\n",
    "    high_counter = 0\n",
    "    for letter in s:\n",
    "        if letter.islower():\n",
    "            low_counter+=1\n",
    "            \n",
    "        elif letter.isupper():\n",
    "            high_counter+=1\n",
    "    print(f\"No. of lower case characters :  {low_counter}\")\n",
    "    print(f\"No. of Upper case characters :  {high_counter}\")"
   ]
  },
  {
   "cell_type": "code",
   "execution_count": 103,
   "id": "90eede47-cad2-4b7b-8c00-dc39cc5928eb",
   "metadata": {},
   "outputs": [
    {
     "name": "stdout",
     "output_type": "stream",
     "text": [
      "No. of lower case characters :  33\n",
      "No. of Upper case characters :  4\n"
     ]
    }
   ],
   "source": [
    "s = 'Hello Mr. Rogers, how are you this fine Tuesday?'\n",
    "up_low(s)"
   ]
  },
  {
   "cell_type": "code",
   "execution_count": 105,
   "id": "6919df6b-20c0-4428-a90d-f108b3f4cedb",
   "metadata": {},
   "outputs": [],
   "source": [
    "unique_list =[1,1,1,1,2,2,3,3,3,3,4,5]"
   ]
  },
  {
   "cell_type": "code",
   "execution_count": 106,
   "id": "2cb11426-0f87-4651-8f18-5483b80526c1",
   "metadata": {},
   "outputs": [],
   "source": [
    "setlist = set(unique_list)"
   ]
  },
  {
   "cell_type": "code",
   "execution_count": 108,
   "id": "04f5e685-da44-4c56-951e-2e0395cca54f",
   "metadata": {},
   "outputs": [],
   "source": [
    "setlistnew = list(setlist)"
   ]
  },
  {
   "cell_type": "code",
   "execution_count": 109,
   "id": "f1696b49-039f-44bb-bbb6-77b9bc363fe6",
   "metadata": {},
   "outputs": [
    {
     "data": {
      "text/plain": [
       "[1, 2, 3, 4, 5]"
      ]
     },
     "execution_count": 109,
     "metadata": {},
     "output_type": "execute_result"
    }
   ],
   "source": [
    "setlistnew"
   ]
  },
  {
   "cell_type": "code",
   "execution_count": 110,
   "id": "07cb09e8-3662-45ce-9a38-9c50e881379f",
   "metadata": {},
   "outputs": [],
   "source": [
    "def unique_list(lst):\n",
    "    into_set = set(lst)\n",
    "    into_list = list(into_set)\n",
    "    return into_list"
   ]
  },
  {
   "cell_type": "code",
   "execution_count": 111,
   "id": "eafb1916-3613-4c4d-bdc3-455c34d0ca3c",
   "metadata": {},
   "outputs": [
    {
     "data": {
      "text/plain": [
       "[1, 2, 3, 4, 5]"
      ]
     },
     "execution_count": 111,
     "metadata": {},
     "output_type": "execute_result"
    }
   ],
   "source": [
    "unique_list([1,1,1,1,2,2,3,3,3,3,4,5])"
   ]
  },
  {
   "cell_type": "code",
   "execution_count": 120,
   "id": "0405f772-b88b-4bdc-80fa-14e55ddb5c1b",
   "metadata": {},
   "outputs": [],
   "source": [
    "def multiply(numbers):\n",
    "    total = 1\n",
    "    for item in numbers:\n",
    "        total = total * item\n",
    "    return total"
   ]
  },
  {
   "cell_type": "code",
   "execution_count": 121,
   "id": "d2194159-3eac-4771-bad4-39fb81bee4c4",
   "metadata": {},
   "outputs": [
    {
     "data": {
      "text/plain": [
       "-24"
      ]
     },
     "execution_count": 121,
     "metadata": {},
     "output_type": "execute_result"
    }
   ],
   "source": [
    "multiply([1,2,3,-4])"
   ]
  },
  {
   "cell_type": "code",
   "execution_count": 122,
   "id": "69ae1c7f-8f89-471a-88b2-a7b98c9fd351",
   "metadata": {},
   "outputs": [],
   "source": [
    "s = 'helleh'"
   ]
  },
  {
   "cell_type": "code",
   "execution_count": 123,
   "id": "6fb9978f-16d4-4996-9903-df3c826785cc",
   "metadata": {},
   "outputs": [],
   "source": [
    "reversed_string = s[::-1]"
   ]
  },
  {
   "cell_type": "code",
   "execution_count": 124,
   "id": "458ac27f-a7f4-4e63-bf5b-0aca2bef202f",
   "metadata": {},
   "outputs": [
    {
     "name": "stdout",
     "output_type": "stream",
     "text": [
      "helleh\n"
     ]
    }
   ],
   "source": [
    "print(reversed_string)"
   ]
  },
  {
   "cell_type": "code",
   "execution_count": 126,
   "id": "918a5387-3d37-4602-a161-bce39e7b5a77",
   "metadata": {},
   "outputs": [
    {
     "data": {
      "text/plain": [
       "'abcdefghijklmnopqrstuvwxyz'"
      ]
     },
     "execution_count": 126,
     "metadata": {},
     "output_type": "execute_result"
    }
   ],
   "source": [
    "import string\n",
    "string.ascii_lowercase"
   ]
  },
  {
   "cell_type": "code",
   "execution_count": 128,
   "id": "aadcf0a8-5add-4a7f-826a-248a38e90ffb",
   "metadata": {},
   "outputs": [
    {
     "data": {
      "text/plain": [
       "False"
      ]
     },
     "execution_count": 128,
     "metadata": {},
     "output_type": "execute_result"
    }
   ],
   "source": []
  },
  {
   "cell_type": "code",
   "execution_count": 144,
   "id": "331c13e0-f14e-4282-9d16-5935423f3943",
   "metadata": {},
   "outputs": [],
   "source": [
    "def master_yoda(text):\n",
    "    text_split = text.split()\n",
    "    for word in text_split:\n",
    "        new_text = text_split[::-1]\n",
    "        s = ' '.join(new_text)\n",
    "    return s"
   ]
  },
  {
   "cell_type": "code",
   "execution_count": 145,
   "id": "5bcdc406-e810-4add-bf61-1dfa790980ac",
   "metadata": {},
   "outputs": [
    {
     "data": {
      "text/plain": [
       "'home am I'"
      ]
     },
     "execution_count": 145,
     "metadata": {},
     "output_type": "execute_result"
    }
   ],
   "source": [
    "master_yoda('I am home')"
   ]
  },
  {
   "cell_type": "code",
   "execution_count": 139,
   "id": "b96cb4fe-d8e0-43a9-86c4-bf95ed7f2c46",
   "metadata": {},
   "outputs": [],
   "source": [
    "xs = ['1', '2', '3']\n",
    "s = ''.join(xs)"
   ]
  },
  {
   "cell_type": "code",
   "execution_count": 140,
   "id": "1d6407e5-9aba-44b3-9544-bbf25bf50b2e",
   "metadata": {},
   "outputs": [
    {
     "name": "stdout",
     "output_type": "stream",
     "text": [
      "123\n"
     ]
    }
   ],
   "source": [
    "print(s)"
   ]
  },
  {
   "cell_type": "code",
   "execution_count": 146,
   "id": "29c7357a-cc54-49bd-8b96-1efcfe0bcabe",
   "metadata": {},
   "outputs": [],
   "source": [
    "letter = 'h'\n",
    "mul = letter * 3"
   ]
  },
  {
   "cell_type": "code",
   "execution_count": 147,
   "id": "2845a8f4-9288-4103-96d1-2bb91b794b5c",
   "metadata": {},
   "outputs": [
    {
     "name": "stdout",
     "output_type": "stream",
     "text": [
      "hhh\n"
     ]
    }
   ],
   "source": [
    "print(mul)"
   ]
  },
  {
   "cell_type": "code",
   "execution_count": null,
   "id": "197a7f72-28ac-428a-99c3-ea7fe4f19752",
   "metadata": {},
   "outputs": [],
   "source": []
  }
 ],
 "metadata": {
  "kernelspec": {
   "display_name": "Python [conda env:base] *",
   "language": "python",
   "name": "conda-base-py"
  },
  "language_info": {
   "codemirror_mode": {
    "name": "ipython",
    "version": 3
   },
   "file_extension": ".py",
   "mimetype": "text/x-python",
   "name": "python",
   "nbconvert_exporter": "python",
   "pygments_lexer": "ipython3",
   "version": "3.13.5"
  }
 },
 "nbformat": 4,
 "nbformat_minor": 5
}
