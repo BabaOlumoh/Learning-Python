{
 "cells": [
  {
   "cell_type": "code",
   "execution_count": 44,
   "id": "fe33636d-3da3-479b-87b6-276bc6d59233",
   "metadata": {},
   "outputs": [],
   "source": [
    "def myfunc(*args):\n",
    "    even_numbers = []\n",
    "    for item in args:\n",
    "        if item % 2 == 0:\n",
    "            even_numbers.append(item)\n",
    "    return even_numbers"
   ]
  },
  {
   "cell_type": "code",
   "execution_count": 45,
   "id": "2ec51b0b-b579-4cd5-b48f-8fca3ba69167",
   "metadata": {},
   "outputs": [
    {
     "data": {
      "text/plain": [
       "[2, 4, 6]"
      ]
     },
     "execution_count": 45,
     "metadata": {},
     "output_type": "execute_result"
    }
   ],
   "source": [
    "myfunc(2,3,4,6)"
   ]
  },
  {
   "cell_type": "code",
   "execution_count": 68,
   "id": "1a1d24f4-e36a-43ad-92cf-74eeaac3bd96",
   "metadata": {},
   "outputs": [
    {
     "data": {
      "text/plain": [
       "'dEaReSt'"
      ]
     },
     "execution_count": 68,
     "metadata": {},
     "output_type": "execute_result"
    }
   ],
   "source": [
    "def myfunc(word):\n",
    "    result = \"\"\n",
    "    for i, char in enumerate(word):\n",
    "        if i % 2 == 0:\n",
    "            result += char.lower()\n",
    "        elif i % 2 != 0:\n",
    "            result+= char.upper()\n",
    "    return result\n",
    "\n",
    "myfunc(\"Dearest\")"
   ]
  },
  {
   "cell_type": "code",
   "execution_count": 71,
   "id": "47473025-c691-4fe9-ad5d-db4d4df91dc9",
   "metadata": {},
   "outputs": [],
   "source": []
  },
  {
   "cell_type": "code",
   "execution_count": 72,
   "id": "160259d2-bdf4-4b4d-a967-6247553cf9c6",
   "metadata": {},
   "outputs": [
    {
     "ename": "UnboundLocalError",
     "evalue": "cannot access local variable 'subtract' where it is not associated with a value",
     "output_type": "error",
     "traceback": [
      "\u001b[0;31m---------------------------------------------------------------------------\u001b[0m",
      "\u001b[0;31mUnboundLocalError\u001b[0m                         Traceback (most recent call last)",
      "Cell \u001b[0;32mIn[72], line 1\u001b[0m\n\u001b[0;32m----> 1\u001b[0m subtraction(\u001b[38;5;241m1\u001b[39m,\u001b[38;5;241m2\u001b[39m,\u001b[38;5;241m3\u001b[39m)\n",
      "Cell \u001b[0;32mIn[71], line 2\u001b[0m, in \u001b[0;36msubtraction\u001b[0;34m(*args)\u001b[0m\n\u001b[1;32m      1\u001b[0m \u001b[38;5;28;01mdef\u001b[39;00m\u001b[38;5;250m \u001b[39m\u001b[38;5;21msubtraction\u001b[39m(\u001b[38;5;241m*\u001b[39margs):\n\u001b[0;32m----> 2\u001b[0m     subtract \u001b[38;5;241m-\u001b[39m\u001b[38;5;241m=\u001b[39m args\n\u001b[1;32m      3\u001b[0m     \u001b[38;5;28;01mreturn\u001b[39;00m subtract\n",
      "\u001b[0;31mUnboundLocalError\u001b[0m: cannot access local variable 'subtract' where it is not associated with a value"
     ]
    }
   ],
   "source": [
    "subtraction(1,2,3)"
   ]
  },
  {
   "cell_type": "code",
   "execution_count": 75,
   "id": "bb679e87-2b48-42f3-b7cb-631175a3a36e",
   "metadata": {},
   "outputs": [
    {
     "data": {
      "text/plain": [
       "36.0"
      ]
     },
     "execution_count": 75,
     "metadata": {},
     "output_type": "execute_result"
    }
   ],
   "source": [
    "(4)*(3**3)/3"
   ]
  },
  {
   "cell_type": "code",
   "execution_count": null,
   "id": "1940e4a3-a3d9-45ea-8b4f-c1c06ff4a1d8",
   "metadata": {},
   "outputs": [],
   "source": []
  }
 ],
 "metadata": {
  "kernelspec": {
   "display_name": "Python [conda env:base] *",
   "language": "python",
   "name": "conda-base-py"
  },
  "language_info": {
   "codemirror_mode": {
    "name": "ipython",
    "version": 3
   },
   "file_extension": ".py",
   "mimetype": "text/x-python",
   "name": "python",
   "nbconvert_exporter": "python",
   "pygments_lexer": "ipython3",
   "version": "3.13.5"
  }
 },
 "nbformat": 4,
 "nbformat_minor": 5
}
