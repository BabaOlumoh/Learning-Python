{
 "cells": [
  {
   "cell_type": "code",
   "execution_count": 44,
   "id": "fe33636d-3da3-479b-87b6-276bc6d59233",
   "metadata": {},
   "outputs": [],
   "source": [
    "def myfunc(*args):\n",
    "    even_numbers = []\n",
    "    for item in args:\n",
    "        if item % 2 == 0:\n",
    "            even_numbers.append(item)\n",
    "    return even_numbers"
   ]
  },
  {
   "cell_type": "code",
   "execution_count": 45,
   "id": "2ec51b0b-b579-4cd5-b48f-8fca3ba69167",
   "metadata": {},
   "outputs": [
    {
     "data": {
      "text/plain": [
       "[2, 4, 6]"
      ]
     },
     "execution_count": 45,
     "metadata": {},
     "output_type": "execute_result"
    }
   ],
   "source": [
    "myfunc(2,3,4,6)"
   ]
  },
  {
   "cell_type": "code",
   "execution_count": 51,
   "id": "1a1d24f4-e36a-43ad-92cf-74eeaac3bd96",
   "metadata": {},
   "outputs": [
    {
     "ename": "IndentationError",
     "evalue": "expected an indented block after 'for' statement on line 2 (2391680112.py, line 3)",
     "output_type": "error",
     "traceback": [
      "\u001b[0;36m  Cell \u001b[0;32mIn[51], line 3\u001b[0;36m\u001b[0m\n\u001b[0;31m    return word[letters]\u001b[0m\n\u001b[0m    ^\u001b[0m\n\u001b[0;31mIndentationError\u001b[0m\u001b[0;31m:\u001b[0m expected an indented block after 'for' statement on line 2\n"
     ]
    }
   ],
   "source": [
    "def myfunc(word):\n",
    "    for letters in range(len(word)):\n",
    "        word[letters] = word_index\n",
    "        if word_index % 2 == 0:\n",
    "            \n",
    "    return word[letters]\n",
    "\n",
    "print(myfunc(\"Dearest\"))"
   ]
  },
  {
   "cell_type": "code",
   "execution_count": 47,
   "id": "47473025-c691-4fe9-ad5d-db4d4df91dc9",
   "metadata": {},
   "outputs": [
    {
     "name": "stdout",
     "output_type": "stream",
     "text": [
      "7\n"
     ]
    }
   ],
   "source": []
  },
  {
   "cell_type": "code",
   "execution_count": null,
   "id": "160259d2-bdf4-4b4d-a967-6247553cf9c6",
   "metadata": {},
   "outputs": [],
   "source": []
  }
 ],
 "metadata": {
  "kernelspec": {
   "display_name": "Python [conda env:base] *",
   "language": "python",
   "name": "conda-base-py"
  },
  "language_info": {
   "codemirror_mode": {
    "name": "ipython",
    "version": 3
   },
   "file_extension": ".py",
   "mimetype": "text/x-python",
   "name": "python",
   "nbconvert_exporter": "python",
   "pygments_lexer": "ipython3",
   "version": "3.13.5"
  }
 },
 "nbformat": 4,
 "nbformat_minor": 5
}
