{
 "cells": [
  {
   "cell_type": "code",
   "execution_count": 1,
   "id": "5b306bdd-59d0-4201-a51d-acc16b6d7ebc",
   "metadata": {},
   "outputs": [],
   "source": [
    "import logging, datetime\n",
    "\n",
    "get_date = datetime.datetime.now().strftime(\"%Y%m%d_%H%M\")\n",
    "\n",
    "logging.basicConfig(level=logging.INFO, filename=f\"{get_date}-log.log\", filemode=\"w\", format=\"%(asctime)s - %(levelname)s - %(message)s\")"
   ]
  },
  {
   "cell_type": "code",
   "execution_count": 2,
   "id": "dac1b293-e17b-4d24-b1e6-31e7be73d11d",
   "metadata": {},
   "outputs": [],
   "source": [
    "logging.debug(\"debug\")\n",
    "logging.info(\"info\")\n",
    "logging.warning(\"warning\")\n",
    "logging.error(\"An error has occurred\")\n",
    "logging.critical(\"critical\")"
   ]
  },
  {
   "cell_type": "code",
   "execution_count": 3,
   "id": "e9a5e5f3-19d1-4840-a1e9-0c455606c95c",
   "metadata": {},
   "outputs": [],
   "source": [
    "try:\n",
    "    1/0\n",
    "except ZeroDivisionError as e:\n",
    "    logging.exception(\"Zero\")"
   ]
  }
 ],
 "metadata": {
  "kernelspec": {
   "display_name": "Python [conda env:base] *",
   "language": "python",
   "name": "conda-base-py"
  },
  "language_info": {
   "codemirror_mode": {
    "name": "ipython",
    "version": 3
   },
   "file_extension": ".py",
   "mimetype": "text/x-python",
   "name": "python",
   "nbconvert_exporter": "python",
   "pygments_lexer": "ipython3",
   "version": "3.13.5"
  }
 },
 "nbformat": 4,
 "nbformat_minor": 5
}
