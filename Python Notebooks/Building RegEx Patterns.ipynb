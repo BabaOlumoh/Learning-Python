{
 "cells": [
  {
   "cell_type": "code",
   "execution_count": null,
   "id": "87edb0d3-48c7-4056-953c-585209f50591",
   "metadata": {},
   "outputs": [],
   "source": [
    "Character\tDescription\tExample Pattern Code\tExammple Match\n",
    "\\d - A digit - file_\\d\\d - file_25\n",
    "\\w - Alphanumeric - \\w-\\w\\w\\w - A-b_1\n",
    "\\s - White space - a\\sb\\sc - a b c\n",
    "\\D - A non digit - \\D\\D\\D - ABC\n",
    "\\W - Non-alphanumeric - \\W\\W\\W\\W\\W - *-+=)\n",
    "\\S - Non-whitespace - \\S\\S\\S\\S - Yoyo"
   ]
  },
  {
   "cell_type": "code",
   "execution_count": 1,
   "id": "9ecae237-3c0e-4eaf-8f36-9c86b097a79d",
   "metadata": {},
   "outputs": [],
   "source": [
    "text = \"The agent's phone number is 408-555-1234. Call soon!\""
   ]
  },
  {
   "cell_type": "code",
   "execution_count": 5,
   "id": "1053e9ed-7081-45aa-b6cf-dacf41de9838",
   "metadata": {},
   "outputs": [],
   "source": [
    "import re\n",
    "phone = re.search(\"\\d\\d\\d-\\d\\d\\d-\\d\\d\\d\\d\", text)"
   ]
  },
  {
   "cell_type": "code",
   "execution_count": 7,
   "id": "61a996cb-9bcc-4ac5-9b24-3d43fcb337c0",
   "metadata": {},
   "outputs": [
    {
     "data": {
      "text/plain": [
       "'408-555-1234'"
      ]
     },
     "execution_count": 7,
     "metadata": {},
     "output_type": "execute_result"
    }
   ],
   "source": [
    "phone.group()"
   ]
  },
  {
   "cell_type": "code",
   "execution_count": 72,
   "id": "61fe0e85-fe05-4085-a3af-a0278bfe28b2",
   "metadata": {},
   "outputs": [],
   "source": [
    "def dna_to_rna(dna):\n",
    "    for x in dna:\n",
    "        if x == \"T\":\n",
    "           return \"U\" "
   ]
  },
  {
   "cell_type": "code",
   "execution_count": 73,
   "id": "a45f039d-5b29-40d8-aed6-a304886f7373",
   "metadata": {},
   "outputs": [
    {
     "data": {
      "text/plain": [
       "'U'"
      ]
     },
     "execution_count": 73,
     "metadata": {},
     "output_type": "execute_result"
    }
   ],
   "source": [
    "dna_to_rna(\"TTTT\")"
   ]
  },
  {
   "cell_type": "code",
   "execution_count": null,
   "id": "2d1ec8f8-ad82-475c-9250-2b23a3d36b29",
   "metadata": {},
   "outputs": [],
   "source": []
  }
 ],
 "metadata": {
  "kernelspec": {
   "display_name": "Python [conda env:base] *",
   "language": "python",
   "name": "conda-base-py"
  },
  "language_info": {
   "codemirror_mode": {
    "name": "ipython",
    "version": 3
   },
   "file_extension": ".py",
   "mimetype": "text/x-python",
   "name": "python",
   "nbconvert_exporter": "python",
   "pygments_lexer": "ipython3",
   "version": "3.13.5"
  }
 },
 "nbformat": 4,
 "nbformat_minor": 5
}
